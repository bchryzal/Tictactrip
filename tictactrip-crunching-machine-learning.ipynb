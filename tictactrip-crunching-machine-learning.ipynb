{
 "cells": [
  {
   "cell_type": "markdown",
   "id": "e7827f33",
   "metadata": {
    "papermill": {
     "duration": 0.021326,
     "end_time": "2022-12-07T23:58:41.625649",
     "exception": false,
     "start_time": "2022-12-07T23:58:41.604323",
     "status": "completed"
    },
    "tags": []
   },
   "source": [
    "# Tictactrip : Crunching de data\n",
    "\n",
    "### Objectifs\n",
    "\n",
    "- Extraire des infos intéressantes type :\n",
    "    - prix min, moyen et max\n",
    "    - durée min, max, moyenne par trajet\n",
    "\n",
    "\n",
    "- Différence de prix moyen et durée selon le train, le bus et le covoit selon la distance du trajet\n",
    "    \n",
    "    Par exemple (0-200km, 201-800km, 800-2000km, 2000+km)\n",
    "    \n",
    "- Le plus d’infos bonus !\n",
    "    \n",
    "    Comme par exemple : *Graphes, prédictions de prix, rapport des soucis relevés dans les données, visualisation interactive, sourcing & utilisation de données externes pertinentes, utilisation d’API externes* \n",
    "\n",
    "\n",
    "### Méthodologie\n",
    "\n",
    "- Chargement et compréhension des Données\n",
    "- Extraction d'informations sur les données\n",
    "- Comparaisons (suivant le prix et durée) des méthodes de transport par tranche de distance\n",
    "- Bonus \n",
    "- Ressources"
   ]
  },
  {
   "cell_type": "markdown",
   "id": "12faf1b6",
   "metadata": {
    "papermill": {
     "duration": 0.015914,
     "end_time": "2022-12-07T23:58:41.658130",
     "exception": false,
     "start_time": "2022-12-07T23:58:41.642216",
     "status": "completed"
    },
    "tags": []
   },
   "source": [
    "<div style=\"background-color:#5bbbcf;padding:2px;border-radius:4px\">  \n",
    "    <h1 align=\"center\" style=\"color:white;\">0. Chargement et compréhension des données</h1>  \n",
    "</div>"
   ]
  },
  {
   "cell_type": "code",
   "execution_count": 1,
   "id": "fd934d98",
   "metadata": {
    "_cell_guid": "b1076dfc-b9ad-4769-8c92-a6c4dae69d19",
    "_kg_hide-input": true,
    "_uuid": "8f2839f25d086af736a60e9eeb907d3b93b6e0e5",
    "execution": {
     "iopub.execute_input": "2022-12-07T23:58:41.692853Z",
     "iopub.status.busy": "2022-12-07T23:58:41.692265Z",
     "iopub.status.idle": "2022-12-07T23:58:44.082866Z",
     "shell.execute_reply": "2022-12-07T23:58:44.081587Z"
    },
    "papermill": {
     "duration": 2.411525,
     "end_time": "2022-12-07T23:58:44.085868",
     "exception": false,
     "start_time": "2022-12-07T23:58:41.674343",
     "status": "completed"
    },
    "tags": []
   },
   "outputs": [],
   "source": [
    "# Importation des bibliothèques\n",
    "import numpy as np # linear algebra\n",
    "import pandas as pd # data processing, CSV file I/O (e.g. pd.read_csv)\n",
    "\n",
    "import seaborn as sns\n",
    "\n",
    "import plotly.express as px\n",
    "import plotly.graph_objects as go\n",
    "\n",
    "import warnings\n",
    "warnings.filterwarnings('ignore')\n",
    "\n",
    "cmr = sns.light_palette(\"red\", as_cmap=True)"
   ]
  },
  {
   "cell_type": "markdown",
   "id": "8f687e79",
   "metadata": {
    "papermill": {
     "duration": 0.015948,
     "end_time": "2022-12-07T23:58:44.118458",
     "exception": false,
     "start_time": "2022-12-07T23:58:44.102510",
     "status": "completed"
    },
    "tags": []
   },
   "source": [
    "### Chargement des données"
   ]
  },
  {
   "cell_type": "code",
   "execution_count": 2,
   "id": "b587c0cf",
   "metadata": {
    "execution": {
     "iopub.execute_input": "2022-12-07T23:58:44.152489Z",
     "iopub.status.busy": "2022-12-07T23:58:44.152047Z",
     "iopub.status.idle": "2022-12-07T23:58:44.522349Z",
     "shell.execute_reply": "2022-12-07T23:58:44.520974Z"
    },
    "papermill": {
     "duration": 0.39061,
     "end_time": "2022-12-07T23:58:44.525231",
     "exception": false,
     "start_time": "2022-12-07T23:58:44.134621",
     "status": "completed"
    },
    "tags": []
   },
   "outputs": [
    {
     "data": {
      "text/plain": [
       "((8040, 6), (227, 10), (11035, 4), (74168, 12))"
      ]
     },
     "execution_count": 2,
     "metadata": {},
     "output_type": "execute_result"
    }
   ],
   "source": [
    "cities = pd.read_csv('/kaggle/input/tictactrip/cities.csv')\n",
    "providers = pd.read_csv('/kaggle/input/tictactrip/providers.csv')\n",
    "stations = pd.read_csv('/kaggle/input/tictactrip/stations.csv')\n",
    "ticket_data = pd.read_csv('/kaggle/input/tictactrip/ticket_data.csv')\n",
    "\n",
    "cities.shape, providers.shape, stations.shape, ticket_data.shape"
   ]
  },
  {
   "cell_type": "markdown",
   "id": "4f782fb1",
   "metadata": {
    "papermill": {
     "duration": 0.016608,
     "end_time": "2022-12-07T23:58:44.558315",
     "exception": false,
     "start_time": "2022-12-07T23:58:44.541707",
     "status": "completed"
    },
    "tags": []
   },
   "source": [
    "### Compréhension des données"
   ]
  },
  {
   "cell_type": "markdown",
   "id": "d5305240",
   "metadata": {
    "papermill": {
     "duration": 0.016342,
     "end_time": "2022-12-07T23:58:44.591480",
     "exception": false,
     "start_time": "2022-12-07T23:58:44.575138",
     "status": "completed"
    },
    "tags": []
   },
   "source": [
    "#### Villes\n",
    "\n",
    "Le dataset `cities` contient des informations sur les villes desservies par tictactrip. On peut y trouver des informations comme latitude, longitude, nom, population de chaque ville.\n",
    "\n",
    "Nous disposons de **8040** instances de données dans ce dataset."
   ]
  },
  {
   "cell_type": "code",
   "execution_count": 3,
   "id": "4d10e475",
   "metadata": {
    "execution": {
     "iopub.execute_input": "2022-12-07T23:58:44.627287Z",
     "iopub.status.busy": "2022-12-07T23:58:44.626403Z",
     "iopub.status.idle": "2022-12-07T23:58:44.649199Z",
     "shell.execute_reply": "2022-12-07T23:58:44.647779Z"
    },
    "papermill": {
     "duration": 0.043646,
     "end_time": "2022-12-07T23:58:44.651762",
     "exception": false,
     "start_time": "2022-12-07T23:58:44.608116",
     "status": "completed"
    },
    "tags": []
   },
   "outputs": [
    {
     "name": "stdout",
     "output_type": "stream",
     "text": [
      "Instances de données disponibles : 8040 \n",
      "\n"
     ]
    },
    {
     "data": {
      "text/html": [
       "<div>\n",
       "<style scoped>\n",
       "    .dataframe tbody tr th:only-of-type {\n",
       "        vertical-align: middle;\n",
       "    }\n",
       "\n",
       "    .dataframe tbody tr th {\n",
       "        vertical-align: top;\n",
       "    }\n",
       "\n",
       "    .dataframe thead th {\n",
       "        text-align: right;\n",
       "    }\n",
       "</style>\n",
       "<table border=\"1\" class=\"dataframe\">\n",
       "  <thead>\n",
       "    <tr style=\"text-align: right;\">\n",
       "      <th></th>\n",
       "      <th>id</th>\n",
       "      <th>local_name</th>\n",
       "      <th>unique_name</th>\n",
       "      <th>latitude</th>\n",
       "      <th>longitude</th>\n",
       "      <th>population</th>\n",
       "    </tr>\n",
       "  </thead>\n",
       "  <tbody>\n",
       "    <tr>\n",
       "      <th>0</th>\n",
       "      <td>5159</td>\n",
       "      <td>Padua, Veneto, Italia</td>\n",
       "      <td>padua</td>\n",
       "      <td>45.406435</td>\n",
       "      <td>11.876761</td>\n",
       "      <td>209678.0</td>\n",
       "    </tr>\n",
       "    <tr>\n",
       "      <th>1</th>\n",
       "      <td>76</td>\n",
       "      <td>Barcelona, Cataluña, España</td>\n",
       "      <td>barcelona</td>\n",
       "      <td>41.385064</td>\n",
       "      <td>2.173404</td>\n",
       "      <td>1611822.0</td>\n",
       "    </tr>\n",
       "    <tr>\n",
       "      <th>2</th>\n",
       "      <td>81</td>\n",
       "      <td>Basel, Basel-Stadt, Schweiz</td>\n",
       "      <td>basel</td>\n",
       "      <td>47.593437</td>\n",
       "      <td>7.619812</td>\n",
       "      <td>NaN</td>\n",
       "    </tr>\n",
       "    <tr>\n",
       "      <th>3</th>\n",
       "      <td>259</td>\n",
       "      <td>Erlangen, Bayern, Deutschland</td>\n",
       "      <td>erlangen</td>\n",
       "      <td>49.589674</td>\n",
       "      <td>11.011961</td>\n",
       "      <td>105412.0</td>\n",
       "    </tr>\n",
       "    <tr>\n",
       "      <th>4</th>\n",
       "      <td>11979</td>\n",
       "      <td>Balș, Olt, România</td>\n",
       "      <td>balș</td>\n",
       "      <td>44.353354</td>\n",
       "      <td>24.095672</td>\n",
       "      <td>NaN</td>\n",
       "    </tr>\n",
       "  </tbody>\n",
       "</table>\n",
       "</div>"
      ],
      "text/plain": [
       "      id                     local_name unique_name   latitude  longitude  \\\n",
       "0   5159          Padua, Veneto, Italia       padua  45.406435  11.876761   \n",
       "1     76    Barcelona, Cataluña, España   barcelona  41.385064   2.173404   \n",
       "2     81    Basel, Basel-Stadt, Schweiz       basel  47.593437   7.619812   \n",
       "3    259  Erlangen, Bayern, Deutschland    erlangen  49.589674  11.011961   \n",
       "4  11979             Balș, Olt, România        balș  44.353354  24.095672   \n",
       "\n",
       "   population  \n",
       "0    209678.0  \n",
       "1   1611822.0  \n",
       "2         NaN  \n",
       "3    105412.0  \n",
       "4         NaN  "
      ]
     },
     "execution_count": 3,
     "metadata": {},
     "output_type": "execute_result"
    }
   ],
   "source": [
    "print(f\"Instances de données disponibles : {cities.shape[0]} \\n\")\n",
    "cities.head()"
   ]
  },
  {
   "cell_type": "code",
   "execution_count": 4,
   "id": "6667135d",
   "metadata": {
    "execution": {
     "iopub.execute_input": "2022-12-07T23:58:44.687452Z",
     "iopub.status.busy": "2022-12-07T23:58:44.687068Z",
     "iopub.status.idle": "2022-12-07T23:58:44.710693Z",
     "shell.execute_reply": "2022-12-07T23:58:44.709262Z"
    },
    "papermill": {
     "duration": 0.044158,
     "end_time": "2022-12-07T23:58:44.713065",
     "exception": false,
     "start_time": "2022-12-07T23:58:44.668907",
     "status": "completed"
    },
    "tags": []
   },
   "outputs": [
    {
     "data": {
      "text/html": [
       "<div>\n",
       "<style scoped>\n",
       "    .dataframe tbody tr th:only-of-type {\n",
       "        vertical-align: middle;\n",
       "    }\n",
       "\n",
       "    .dataframe tbody tr th {\n",
       "        vertical-align: top;\n",
       "    }\n",
       "\n",
       "    .dataframe thead th {\n",
       "        text-align: right;\n",
       "    }\n",
       "</style>\n",
       "<table border=\"1\" class=\"dataframe\">\n",
       "  <thead>\n",
       "    <tr style=\"text-align: right;\">\n",
       "      <th></th>\n",
       "      <th>id</th>\n",
       "      <th>local_name</th>\n",
       "      <th>unique_name</th>\n",
       "      <th>latitude</th>\n",
       "      <th>longitude</th>\n",
       "      <th>population</th>\n",
       "    </tr>\n",
       "  </thead>\n",
       "  <tbody>\n",
       "    <tr>\n",
       "      <th>2630</th>\n",
       "      <td>542</td>\n",
       "      <td>Montpellier, Occitanie, France</td>\n",
       "      <td>montpellier</td>\n",
       "      <td>43.604452</td>\n",
       "      <td>3.918318</td>\n",
       "      <td>275318.0</td>\n",
       "    </tr>\n",
       "  </tbody>\n",
       "</table>\n",
       "</div>"
      ],
      "text/plain": [
       "       id                      local_name  unique_name   latitude  longitude  \\\n",
       "2630  542  Montpellier, Occitanie, France  montpellier  43.604452   3.918318   \n",
       "\n",
       "      population  \n",
       "2630    275318.0  "
      ]
     },
     "execution_count": 4,
     "metadata": {},
     "output_type": "execute_result"
    }
   ],
   "source": [
    "cities.query(\"id == 542\")"
   ]
  },
  {
   "cell_type": "markdown",
   "id": "88474c64",
   "metadata": {
    "papermill": {
     "duration": 0.016579,
     "end_time": "2022-12-07T23:58:44.746469",
     "exception": false,
     "start_time": "2022-12-07T23:58:44.729890",
     "status": "completed"
    },
    "tags": []
   },
   "source": [
    "#### Fournisseurs (Prestataires)\n",
    "\n",
    "Le dataset `providers` contient des informations sur les différents fournisseurs. Un fournisseurs est une \"sous-compagnie\". On peut y trouver des informations comme le nom des fournisseurs, les identifiants des compagnies, les moyens de transport que propose chaque compagnie, les caractéristiques des moyens de transport, etc...\n",
    "\n",
    "Il y a **227** instances de données disponibles dans ce dataset."
   ]
  },
  {
   "cell_type": "code",
   "execution_count": 5,
   "id": "50e42f62",
   "metadata": {
    "execution": {
     "iopub.execute_input": "2022-12-07T23:58:44.781639Z",
     "iopub.status.busy": "2022-12-07T23:58:44.781200Z",
     "iopub.status.idle": "2022-12-07T23:58:44.799095Z",
     "shell.execute_reply": "2022-12-07T23:58:44.797676Z"
    },
    "papermill": {
     "duration": 0.038434,
     "end_time": "2022-12-07T23:58:44.801614",
     "exception": false,
     "start_time": "2022-12-07T23:58:44.763180",
     "status": "completed"
    },
    "tags": []
   },
   "outputs": [
    {
     "name": "stdout",
     "output_type": "stream",
     "text": [
      "Instances de données disponibles : 227 \n",
      "\n"
     ]
    },
    {
     "data": {
      "text/html": [
       "<div>\n",
       "<style scoped>\n",
       "    .dataframe tbody tr th:only-of-type {\n",
       "        vertical-align: middle;\n",
       "    }\n",
       "\n",
       "    .dataframe tbody tr th {\n",
       "        vertical-align: top;\n",
       "    }\n",
       "\n",
       "    .dataframe thead th {\n",
       "        text-align: right;\n",
       "    }\n",
       "</style>\n",
       "<table border=\"1\" class=\"dataframe\">\n",
       "  <thead>\n",
       "    <tr style=\"text-align: right;\">\n",
       "      <th></th>\n",
       "      <th>id</th>\n",
       "      <th>company_id</th>\n",
       "      <th>provider_id</th>\n",
       "      <th>name</th>\n",
       "      <th>fullname</th>\n",
       "      <th>has_wifi</th>\n",
       "      <th>has_plug</th>\n",
       "      <th>has_adjustable_seats</th>\n",
       "      <th>has_bicycle</th>\n",
       "      <th>transport_type</th>\n",
       "    </tr>\n",
       "  </thead>\n",
       "  <tbody>\n",
       "    <tr>\n",
       "      <th>0</th>\n",
       "      <td>9</td>\n",
       "      <td>1</td>\n",
       "      <td>NaN</td>\n",
       "      <td>ouibus</td>\n",
       "      <td>Ouibus</td>\n",
       "      <td>True</td>\n",
       "      <td>True</td>\n",
       "      <td>True</td>\n",
       "      <td>False</td>\n",
       "      <td>bus</td>\n",
       "    </tr>\n",
       "    <tr>\n",
       "      <th>1</th>\n",
       "      <td>10</td>\n",
       "      <td>2</td>\n",
       "      <td>NaN</td>\n",
       "      <td>deinbus</td>\n",
       "      <td>Deinbus.de</td>\n",
       "      <td>False</td>\n",
       "      <td>False</td>\n",
       "      <td>False</td>\n",
       "      <td>False</td>\n",
       "      <td>bus</td>\n",
       "    </tr>\n",
       "    <tr>\n",
       "      <th>2</th>\n",
       "      <td>11</td>\n",
       "      <td>3</td>\n",
       "      <td>NaN</td>\n",
       "      <td>infobus</td>\n",
       "      <td>Infobus</td>\n",
       "      <td>False</td>\n",
       "      <td>False</td>\n",
       "      <td>False</td>\n",
       "      <td>False</td>\n",
       "      <td>bus</td>\n",
       "    </tr>\n",
       "    <tr>\n",
       "      <th>3</th>\n",
       "      <td>12</td>\n",
       "      <td>4</td>\n",
       "      <td>NaN</td>\n",
       "      <td>studentAgency</td>\n",
       "      <td>Student Agency</td>\n",
       "      <td>False</td>\n",
       "      <td>False</td>\n",
       "      <td>False</td>\n",
       "      <td>False</td>\n",
       "      <td>bus</td>\n",
       "    </tr>\n",
       "    <tr>\n",
       "      <th>4</th>\n",
       "      <td>13</td>\n",
       "      <td>5</td>\n",
       "      <td>NaN</td>\n",
       "      <td>flixbus</td>\n",
       "      <td>Flixbus</td>\n",
       "      <td>True</td>\n",
       "      <td>False</td>\n",
       "      <td>False</td>\n",
       "      <td>False</td>\n",
       "      <td>bus</td>\n",
       "    </tr>\n",
       "  </tbody>\n",
       "</table>\n",
       "</div>"
      ],
      "text/plain": [
       "   id  company_id provider_id           name        fullname has_wifi  \\\n",
       "0   9           1         NaN         ouibus          Ouibus     True   \n",
       "1  10           2         NaN        deinbus      Deinbus.de    False   \n",
       "2  11           3         NaN        infobus         Infobus    False   \n",
       "3  12           4         NaN  studentAgency  Student Agency    False   \n",
       "4  13           5         NaN        flixbus         Flixbus     True   \n",
       "\n",
       "  has_plug has_adjustable_seats has_bicycle transport_type  \n",
       "0     True                 True       False            bus  \n",
       "1    False                False       False            bus  \n",
       "2    False                False       False            bus  \n",
       "3    False                False       False            bus  \n",
       "4    False                False       False            bus  "
      ]
     },
     "execution_count": 5,
     "metadata": {},
     "output_type": "execute_result"
    }
   ],
   "source": [
    "print(f\"Instances de données disponibles : {providers.shape[0]} \\n\")\n",
    "providers.head()"
   ]
  },
  {
   "cell_type": "code",
   "execution_count": 6,
   "id": "0dda7864",
   "metadata": {
    "execution": {
     "iopub.execute_input": "2022-12-07T23:58:44.839393Z",
     "iopub.status.busy": "2022-12-07T23:58:44.838985Z",
     "iopub.status.idle": "2022-12-07T23:58:44.851646Z",
     "shell.execute_reply": "2022-12-07T23:58:44.850509Z"
    },
    "papermill": {
     "duration": 0.034553,
     "end_time": "2022-12-07T23:58:44.853897",
     "exception": false,
     "start_time": "2022-12-07T23:58:44.819344",
     "status": "completed"
    },
    "tags": []
   },
   "outputs": [
    {
     "data": {
      "text/plain": [
       "bus           214\n",
       "train          10\n",
       "carpooling      2\n",
       "car             1\n",
       "Name: transport_type, dtype: int64"
      ]
     },
     "execution_count": 6,
     "metadata": {},
     "output_type": "execute_result"
    }
   ],
   "source": [
    "# Différents moyens de transport disponible\n",
    "providers.transport_type.value_counts()"
   ]
  },
  {
   "cell_type": "markdown",
   "id": "56fa90e6",
   "metadata": {
    "papermill": {
     "duration": 0.016907,
     "end_time": "2022-12-07T23:58:44.888105",
     "exception": false,
     "start_time": "2022-12-07T23:58:44.871198",
     "status": "completed"
    },
    "tags": []
   },
   "source": [
    "Nous remarquons dans ce dataset que les 227 différents moyens de transport sont réparti de manière suivante : \n",
    "\n",
    "- 214 **bus**;\n",
    "- 10 **train**;\n",
    "- 2 **carpooling** (covoiturage);\n",
    "- 1 **car** (voiture)."
   ]
  },
  {
   "cell_type": "markdown",
   "id": "7285e138",
   "metadata": {
    "papermill": {
     "duration": 0.017071,
     "end_time": "2022-12-07T23:58:44.922442",
     "exception": false,
     "start_time": "2022-12-07T23:58:44.905371",
     "status": "completed"
    },
    "tags": []
   },
   "source": [
    "#### Stations\n",
    "\n",
    "Le dataset `stations` contient des informations sur les stations desservies par tictactrip. On peut y trouver des informations comme latitude, longitude, nom de chaque station. \n",
    "\n",
    "Nous avons la présence de **11035** instances de données dans ce dataset."
   ]
  },
  {
   "cell_type": "code",
   "execution_count": 7,
   "id": "adb83036",
   "metadata": {
    "execution": {
     "iopub.execute_input": "2022-12-07T23:58:44.958757Z",
     "iopub.status.busy": "2022-12-07T23:58:44.958338Z",
     "iopub.status.idle": "2022-12-07T23:58:44.972351Z",
     "shell.execute_reply": "2022-12-07T23:58:44.971138Z"
    },
    "papermill": {
     "duration": 0.03503,
     "end_time": "2022-12-07T23:58:44.974784",
     "exception": false,
     "start_time": "2022-12-07T23:58:44.939754",
     "status": "completed"
    },
    "tags": []
   },
   "outputs": [
    {
     "name": "stdout",
     "output_type": "stream",
     "text": [
      "Instances de données disponibles : 11035 \n",
      "\n"
     ]
    },
    {
     "data": {
      "text/html": [
       "<div>\n",
       "<style scoped>\n",
       "    .dataframe tbody tr th:only-of-type {\n",
       "        vertical-align: middle;\n",
       "    }\n",
       "\n",
       "    .dataframe tbody tr th {\n",
       "        vertical-align: top;\n",
       "    }\n",
       "\n",
       "    .dataframe thead th {\n",
       "        text-align: right;\n",
       "    }\n",
       "</style>\n",
       "<table border=\"1\" class=\"dataframe\">\n",
       "  <thead>\n",
       "    <tr style=\"text-align: right;\">\n",
       "      <th></th>\n",
       "      <th>id</th>\n",
       "      <th>unique_name</th>\n",
       "      <th>latitude</th>\n",
       "      <th>longitude</th>\n",
       "    </tr>\n",
       "  </thead>\n",
       "  <tbody>\n",
       "    <tr>\n",
       "      <th>0</th>\n",
       "      <td>1</td>\n",
       "      <td>Aalen (Stuttgarter Straße)</td>\n",
       "      <td>48.835296</td>\n",
       "      <td>10.092956</td>\n",
       "    </tr>\n",
       "    <tr>\n",
       "      <th>1</th>\n",
       "      <td>2</td>\n",
       "      <td>Aéroport Bordeaux-Mérignac</td>\n",
       "      <td>44.830226</td>\n",
       "      <td>-0.700883</td>\n",
       "    </tr>\n",
       "    <tr>\n",
       "      <th>2</th>\n",
       "      <td>3</td>\n",
       "      <td>Aéroport CDG</td>\n",
       "      <td>49.009900</td>\n",
       "      <td>2.559310</td>\n",
       "    </tr>\n",
       "    <tr>\n",
       "      <th>3</th>\n",
       "      <td>4</td>\n",
       "      <td>Aéroport de Berlin-Schönefeld</td>\n",
       "      <td>52.389446</td>\n",
       "      <td>13.520345</td>\n",
       "    </tr>\n",
       "    <tr>\n",
       "      <th>4</th>\n",
       "      <td>5</td>\n",
       "      <td>Aéroport de Dresden</td>\n",
       "      <td>51.123604</td>\n",
       "      <td>13.764737</td>\n",
       "    </tr>\n",
       "  </tbody>\n",
       "</table>\n",
       "</div>"
      ],
      "text/plain": [
       "   id                     unique_name   latitude  longitude\n",
       "0   1      Aalen (Stuttgarter Straße)  48.835296  10.092956\n",
       "1   2      Aéroport Bordeaux-Mérignac  44.830226  -0.700883\n",
       "2   3                   Aéroport CDG   49.009900   2.559310\n",
       "3   4  Aéroport de Berlin-Schönefeld   52.389446  13.520345\n",
       "4   5             Aéroport de Dresden  51.123604  13.764737"
      ]
     },
     "execution_count": 7,
     "metadata": {},
     "output_type": "execute_result"
    }
   ],
   "source": [
    "print(f\"Instances de données disponibles : {stations.shape[0]} \\n\")\n",
    "stations.head()"
   ]
  },
  {
   "cell_type": "markdown",
   "id": "b275a39a",
   "metadata": {
    "papermill": {
     "duration": 0.017599,
     "end_time": "2022-12-07T23:58:45.010257",
     "exception": false,
     "start_time": "2022-12-07T23:58:44.992658",
     "status": "completed"
    },
    "tags": []
   },
   "source": [
    "#### Tickets\n",
    "\n",
    "Le dataset `ticket_data` contient des informations sur les tickets desservies par tictactrip. On peut y trouver des informations comme les trajets, les identifiants des villes de départ et d'arrivé, le prix de chaque trajet, etc... \n",
    "\n",
    "Nous avons **74168** instances de données disponibles dans ce dataset."
   ]
  },
  {
   "cell_type": "code",
   "execution_count": 8,
   "id": "3361c529",
   "metadata": {
    "execution": {
     "iopub.execute_input": "2022-12-07T23:58:45.047437Z",
     "iopub.status.busy": "2022-12-07T23:58:45.047056Z",
     "iopub.status.idle": "2022-12-07T23:58:45.064904Z",
     "shell.execute_reply": "2022-12-07T23:58:45.063581Z"
    },
    "papermill": {
     "duration": 0.039419,
     "end_time": "2022-12-07T23:58:45.067452",
     "exception": false,
     "start_time": "2022-12-07T23:58:45.028033",
     "status": "completed"
    },
    "tags": []
   },
   "outputs": [
    {
     "name": "stdout",
     "output_type": "stream",
     "text": [
      "Instances de données disponibles : 74168 \n",
      "\n"
     ]
    },
    {
     "data": {
      "text/html": [
       "<div>\n",
       "<style scoped>\n",
       "    .dataframe tbody tr th:only-of-type {\n",
       "        vertical-align: middle;\n",
       "    }\n",
       "\n",
       "    .dataframe tbody tr th {\n",
       "        vertical-align: top;\n",
       "    }\n",
       "\n",
       "    .dataframe thead th {\n",
       "        text-align: right;\n",
       "    }\n",
       "</style>\n",
       "<table border=\"1\" class=\"dataframe\">\n",
       "  <thead>\n",
       "    <tr style=\"text-align: right;\">\n",
       "      <th></th>\n",
       "      <th>id</th>\n",
       "      <th>company</th>\n",
       "      <th>o_station</th>\n",
       "      <th>d_station</th>\n",
       "      <th>departure_ts</th>\n",
       "      <th>arrival_ts</th>\n",
       "      <th>price_in_cents</th>\n",
       "      <th>search_ts</th>\n",
       "      <th>middle_stations</th>\n",
       "      <th>other_companies</th>\n",
       "      <th>o_city</th>\n",
       "      <th>d_city</th>\n",
       "    </tr>\n",
       "  </thead>\n",
       "  <tbody>\n",
       "    <tr>\n",
       "      <th>0</th>\n",
       "      <td>6795025</td>\n",
       "      <td>8385</td>\n",
       "      <td>NaN</td>\n",
       "      <td>NaN</td>\n",
       "      <td>2017-10-13 14:00:00+00</td>\n",
       "      <td>2017-10-13 20:10:00+00</td>\n",
       "      <td>4550</td>\n",
       "      <td>2017-10-01 00:13:31.327+00</td>\n",
       "      <td>NaN</td>\n",
       "      <td>NaN</td>\n",
       "      <td>611</td>\n",
       "      <td>542</td>\n",
       "    </tr>\n",
       "    <tr>\n",
       "      <th>1</th>\n",
       "      <td>6795026</td>\n",
       "      <td>9</td>\n",
       "      <td>63.0</td>\n",
       "      <td>1044.0</td>\n",
       "      <td>2017-10-13 13:05:00+00</td>\n",
       "      <td>2017-10-14 06:55:00+00</td>\n",
       "      <td>1450</td>\n",
       "      <td>2017-10-01 00:13:35.773+00</td>\n",
       "      <td>{149,418}</td>\n",
       "      <td>{13}</td>\n",
       "      <td>611</td>\n",
       "      <td>542</td>\n",
       "    </tr>\n",
       "    <tr>\n",
       "      <th>2</th>\n",
       "      <td>6795027</td>\n",
       "      <td>8377</td>\n",
       "      <td>5905.0</td>\n",
       "      <td>6495.0</td>\n",
       "      <td>2017-10-13 13:27:00+00</td>\n",
       "      <td>2017-10-14 21:24:00+00</td>\n",
       "      <td>7400</td>\n",
       "      <td>2017-10-01 00:13:40.212+00</td>\n",
       "      <td>{798,798,6794,6246}</td>\n",
       "      <td>{8377,8376}</td>\n",
       "      <td>611</td>\n",
       "      <td>542</td>\n",
       "    </tr>\n",
       "    <tr>\n",
       "      <th>3</th>\n",
       "      <td>6795028</td>\n",
       "      <td>8377</td>\n",
       "      <td>5905.0</td>\n",
       "      <td>6495.0</td>\n",
       "      <td>2017-10-13 13:27:00+00</td>\n",
       "      <td>2017-10-14 11:02:00+00</td>\n",
       "      <td>13500</td>\n",
       "      <td>2017-10-01 00:13:40.213+00</td>\n",
       "      <td>{798,798,6794,6246}</td>\n",
       "      <td>{8377,8376}</td>\n",
       "      <td>611</td>\n",
       "      <td>542</td>\n",
       "    </tr>\n",
       "    <tr>\n",
       "      <th>4</th>\n",
       "      <td>6795029</td>\n",
       "      <td>8381</td>\n",
       "      <td>5905.0</td>\n",
       "      <td>6495.0</td>\n",
       "      <td>2017-10-13 21:46:00+00</td>\n",
       "      <td>2017-10-14 19:32:00+00</td>\n",
       "      <td>7710</td>\n",
       "      <td>2017-10-01 00:13:40.213+00</td>\n",
       "      <td>{5983,5983}</td>\n",
       "      <td>{8380}</td>\n",
       "      <td>611</td>\n",
       "      <td>542</td>\n",
       "    </tr>\n",
       "  </tbody>\n",
       "</table>\n",
       "</div>"
      ],
      "text/plain": [
       "        id  company  o_station  d_station            departure_ts  \\\n",
       "0  6795025     8385        NaN        NaN  2017-10-13 14:00:00+00   \n",
       "1  6795026        9       63.0     1044.0  2017-10-13 13:05:00+00   \n",
       "2  6795027     8377     5905.0     6495.0  2017-10-13 13:27:00+00   \n",
       "3  6795028     8377     5905.0     6495.0  2017-10-13 13:27:00+00   \n",
       "4  6795029     8381     5905.0     6495.0  2017-10-13 21:46:00+00   \n",
       "\n",
       "               arrival_ts  price_in_cents                   search_ts  \\\n",
       "0  2017-10-13 20:10:00+00            4550  2017-10-01 00:13:31.327+00   \n",
       "1  2017-10-14 06:55:00+00            1450  2017-10-01 00:13:35.773+00   \n",
       "2  2017-10-14 21:24:00+00            7400  2017-10-01 00:13:40.212+00   \n",
       "3  2017-10-14 11:02:00+00           13500  2017-10-01 00:13:40.213+00   \n",
       "4  2017-10-14 19:32:00+00            7710  2017-10-01 00:13:40.213+00   \n",
       "\n",
       "       middle_stations other_companies  o_city  d_city  \n",
       "0                  NaN             NaN     611     542  \n",
       "1            {149,418}            {13}     611     542  \n",
       "2  {798,798,6794,6246}     {8377,8376}     611     542  \n",
       "3  {798,798,6794,6246}     {8377,8376}     611     542  \n",
       "4          {5983,5983}          {8380}     611     542  "
      ]
     },
     "execution_count": 8,
     "metadata": {},
     "output_type": "execute_result"
    }
   ],
   "source": [
    "print(f\"Instances de données disponibles : {ticket_data.shape[0]} \\n\")\n",
    "ticket_data.head()"
   ]
  },
  {
   "cell_type": "markdown",
   "id": "2b6d90e3",
   "metadata": {
    "papermill": {
     "duration": 0.018482,
     "end_time": "2022-12-07T23:58:45.103943",
     "exception": false,
     "start_time": "2022-12-07T23:58:45.085461",
     "status": "completed"
    },
    "tags": []
   },
   "source": [
    "### Il y a t-il de données manquantes dans les dataset ?"
   ]
  },
  {
   "cell_type": "markdown",
   "id": "a10d712c",
   "metadata": {
    "papermill": {
     "duration": 0.017975,
     "end_time": "2022-12-07T23:58:45.140049",
     "exception": false,
     "start_time": "2022-12-07T23:58:45.122074",
     "status": "completed"
    },
    "tags": []
   },
   "source": [
    "Nous avons au total **7672** données manquantes dans le dataset **cities**."
   ]
  },
  {
   "cell_type": "code",
   "execution_count": 9,
   "id": "ce58a8ab",
   "metadata": {
    "execution": {
     "iopub.execute_input": "2022-12-07T23:58:45.177852Z",
     "iopub.status.busy": "2022-12-07T23:58:45.177420Z",
     "iopub.status.idle": "2022-12-07T23:58:45.187208Z",
     "shell.execute_reply": "2022-12-07T23:58:45.186325Z"
    },
    "papermill": {
     "duration": 0.031153,
     "end_time": "2022-12-07T23:58:45.189346",
     "exception": false,
     "start_time": "2022-12-07T23:58:45.158193",
     "status": "completed"
    },
    "tags": []
   },
   "outputs": [
    {
     "data": {
      "text/plain": [
       "7672"
      ]
     },
     "execution_count": 9,
     "metadata": {},
     "output_type": "execute_result"
    }
   ],
   "source": [
    "cities.isnull().sum().sum()"
   ]
  },
  {
   "cell_type": "markdown",
   "id": "9c4999c6",
   "metadata": {
    "papermill": {
     "duration": 0.017624,
     "end_time": "2022-12-07T23:58:45.225015",
     "exception": false,
     "start_time": "2022-12-07T23:58:45.207391",
     "status": "completed"
    },
    "tags": []
   },
   "source": [
    "Il n'y a aucune donnée manquante dans le dataset **stations**"
   ]
  },
  {
   "cell_type": "code",
   "execution_count": 10,
   "id": "207bde9b",
   "metadata": {
    "execution": {
     "iopub.execute_input": "2022-12-07T23:58:45.263078Z",
     "iopub.status.busy": "2022-12-07T23:58:45.262636Z",
     "iopub.status.idle": "2022-12-07T23:58:45.273171Z",
     "shell.execute_reply": "2022-12-07T23:58:45.272236Z"
    },
    "papermill": {
     "duration": 0.032612,
     "end_time": "2022-12-07T23:58:45.275559",
     "exception": false,
     "start_time": "2022-12-07T23:58:45.242947",
     "status": "completed"
    },
    "tags": []
   },
   "outputs": [
    {
     "data": {
      "text/plain": [
       "0"
      ]
     },
     "execution_count": 10,
     "metadata": {},
     "output_type": "execute_result"
    }
   ],
   "source": [
    "stations.isnull().sum().sum()"
   ]
  },
  {
   "cell_type": "markdown",
   "id": "920dc474",
   "metadata": {
    "papermill": {
     "duration": 0.017908,
     "end_time": "2022-12-07T23:58:45.312384",
     "exception": false,
     "start_time": "2022-12-07T23:58:45.294476",
     "status": "completed"
    },
    "tags": []
   },
   "source": [
    "Nous observons 26 données manquantes dans le dataset **providers**"
   ]
  },
  {
   "cell_type": "code",
   "execution_count": 11,
   "id": "fa0a16ab",
   "metadata": {
    "execution": {
     "iopub.execute_input": "2022-12-07T23:58:45.352648Z",
     "iopub.status.busy": "2022-12-07T23:58:45.351746Z",
     "iopub.status.idle": "2022-12-07T23:58:45.365033Z",
     "shell.execute_reply": "2022-12-07T23:58:45.363115Z"
    },
    "papermill": {
     "duration": 0.037363,
     "end_time": "2022-12-07T23:58:45.368241",
     "exception": false,
     "start_time": "2022-12-07T23:58:45.330878",
     "status": "completed"
    },
    "tags": []
   },
   "outputs": [
    {
     "name": "stdout",
     "output_type": "stream",
     "text": [
      "Total des données manquantes : 26 \n",
      "\n"
     ]
    },
    {
     "data": {
      "text/plain": [
       "26"
      ]
     },
     "execution_count": 11,
     "metadata": {},
     "output_type": "execute_result"
    }
   ],
   "source": [
    "print(\"Total des données manquantes :\", providers.isna().sum().sum(), \"\\n\")\n",
    "providers.isna().sum().sum()"
   ]
  },
  {
   "cell_type": "markdown",
   "id": "52e39a32",
   "metadata": {
    "papermill": {
     "duration": 0.019018,
     "end_time": "2022-12-07T23:58:45.406546",
     "exception": false,
     "start_time": "2022-12-07T23:58:45.387528",
     "status": "completed"
    },
    "tags": []
   },
   "source": [
    "Nous avons au total **165764** données manquantes dans le dataset **ticket_data**"
   ]
  },
  {
   "cell_type": "code",
   "execution_count": 12,
   "id": "d77d0a24",
   "metadata": {
    "execution": {
     "iopub.execute_input": "2022-12-07T23:58:45.447803Z",
     "iopub.status.busy": "2022-12-07T23:58:45.446662Z",
     "iopub.status.idle": "2022-12-07T23:58:45.473581Z",
     "shell.execute_reply": "2022-12-07T23:58:45.472475Z"
    },
    "papermill": {
     "duration": 0.050355,
     "end_time": "2022-12-07T23:58:45.476067",
     "exception": false,
     "start_time": "2022-12-07T23:58:45.425712",
     "status": "completed"
    },
    "tags": []
   },
   "outputs": [
    {
     "data": {
      "text/plain": [
       "165764"
      ]
     },
     "execution_count": 12,
     "metadata": {},
     "output_type": "execute_result"
    }
   ],
   "source": [
    "ticket_data.isna().sum().sum()"
   ]
  },
  {
   "cell_type": "code",
   "execution_count": null,
   "id": "ee95e970",
   "metadata": {
    "papermill": {
     "duration": 0.019337,
     "end_time": "2022-12-07T23:58:45.514230",
     "exception": false,
     "start_time": "2022-12-07T23:58:45.494893",
     "status": "completed"
    },
    "tags": []
   },
   "outputs": [],
   "source": []
  },
  {
   "cell_type": "markdown",
   "id": "1f2fa0f7",
   "metadata": {
    "papermill": {
     "duration": 0.018163,
     "end_time": "2022-12-07T23:58:45.550907",
     "exception": false,
     "start_time": "2022-12-07T23:58:45.532744",
     "status": "completed"
    },
    "tags": []
   },
   "source": [
    "<div style=\"background-color:#5bbbcf;padding:2px;border-radius:4px\">  \n",
    "    <h1 align=\"center\" style=\"color:white;\">1. Extraction des informations</h1>  \n",
    "</div>"
   ]
  },
  {
   "cell_type": "markdown",
   "id": "48538ad6",
   "metadata": {
    "papermill": {
     "duration": 0.01808,
     "end_time": "2022-12-07T23:58:45.587714",
     "exception": false,
     "start_time": "2022-12-07T23:58:45.569634",
     "status": "completed"
    },
    "tags": []
   },
   "source": [
    "## 1. Prix min, max, moyen\n",
    "\n",
    "Ici, nous nous intéressons aux prix minimum, maximum et moyen.\n",
    "\n",
    "Le Dataset `ticket_data` contient toutes les informations nécessaire pour obtenir le résultat. "
   ]
  },
  {
   "cell_type": "code",
   "execution_count": 13,
   "id": "f11a3dc9",
   "metadata": {
    "execution": {
     "iopub.execute_input": "2022-12-07T23:58:45.626583Z",
     "iopub.status.busy": "2022-12-07T23:58:45.626175Z",
     "iopub.status.idle": "2022-12-07T23:58:45.635619Z",
     "shell.execute_reply": "2022-12-07T23:58:45.633898Z"
    },
    "papermill": {
     "duration": 0.031881,
     "end_time": "2022-12-07T23:58:45.638232",
     "exception": false,
     "start_time": "2022-12-07T23:58:45.606351",
     "status": "completed"
    },
    "tags": []
   },
   "outputs": [
    {
     "name": "stdout",
     "output_type": "stream",
     "text": [
      "Le prix minimum de tout les trajets est : 300\n",
      "Le prix maximum de tout les trajets est : 38550\n",
      "Le prix moyen de tout les trajets est : 4382.711061374178\n"
     ]
    }
   ],
   "source": [
    "min_price  = ticket_data.price_in_cents.min()   # Prix min de tout les trajets\n",
    "max_price  = ticket_data.price_in_cents.max()   # Prix max de tout les trajets\n",
    "mean_price = ticket_data.price_in_cents.mean()  # Prix moyenne de tout les trajets\n",
    "\n",
    "print(f\"Le prix minimum de tout les trajets est : {min_price}\")\n",
    "print(f\"Le prix maximum de tout les trajets est : {max_price}\")\n",
    "print(f\"Le prix moyen de tout les trajets est : {mean_price}\")"
   ]
  },
  {
   "cell_type": "code",
   "execution_count": 14,
   "id": "3a2a120c",
   "metadata": {
    "execution": {
     "iopub.execute_input": "2022-12-07T23:58:45.677470Z",
     "iopub.status.busy": "2022-12-07T23:58:45.677082Z",
     "iopub.status.idle": "2022-12-07T23:58:45.711281Z",
     "shell.execute_reply": "2022-12-07T23:58:45.710068Z"
    },
    "papermill": {
     "duration": 0.056639,
     "end_time": "2022-12-07T23:58:45.713679",
     "exception": false,
     "start_time": "2022-12-07T23:58:45.657040",
     "status": "completed"
    },
    "tags": []
   },
   "outputs": [
    {
     "data": {
      "text/html": [
       "<div>\n",
       "<style scoped>\n",
       "    .dataframe tbody tr th:only-of-type {\n",
       "        vertical-align: middle;\n",
       "    }\n",
       "\n",
       "    .dataframe tbody tr th {\n",
       "        vertical-align: top;\n",
       "    }\n",
       "\n",
       "    .dataframe thead th {\n",
       "        text-align: right;\n",
       "    }\n",
       "</style>\n",
       "<table border=\"1\" class=\"dataframe\">\n",
       "  <thead>\n",
       "    <tr style=\"text-align: right;\">\n",
       "      <th></th>\n",
       "      <th>o_city</th>\n",
       "      <th>d_city</th>\n",
       "      <th>price_min</th>\n",
       "      <th>price_max</th>\n",
       "      <th>price_mean</th>\n",
       "    </tr>\n",
       "  </thead>\n",
       "  <tbody>\n",
       "    <tr>\n",
       "      <th>0</th>\n",
       "      <td>5</td>\n",
       "      <td>23</td>\n",
       "      <td>18600</td>\n",
       "      <td>22000</td>\n",
       "      <td>20320.000000</td>\n",
       "    </tr>\n",
       "    <tr>\n",
       "      <th>1</th>\n",
       "      <td>6</td>\n",
       "      <td>227</td>\n",
       "      <td>9860</td>\n",
       "      <td>13650</td>\n",
       "      <td>11755.000000</td>\n",
       "    </tr>\n",
       "    <tr>\n",
       "      <th>2</th>\n",
       "      <td>6</td>\n",
       "      <td>504</td>\n",
       "      <td>2000</td>\n",
       "      <td>8920</td>\n",
       "      <td>4042.666667</td>\n",
       "    </tr>\n",
       "  </tbody>\n",
       "</table>\n",
       "</div>"
      ],
      "text/plain": [
       "   o_city  d_city  price_min  price_max    price_mean\n",
       "0       5      23      18600      22000  20320.000000\n",
       "1       6     227       9860      13650  11755.000000\n",
       "2       6     504       2000       8920   4042.666667"
      ]
     },
     "execution_count": 14,
     "metadata": {},
     "output_type": "execute_result"
    }
   ],
   "source": [
    "# Prix min, max et moyen de chaque trajet\n",
    "priceParTrajet = ticket_data.groupby(['o_city', 'd_city']).agg({'price_in_cents': ['min', 'max','mean']})\n",
    "priceParTrajet.columns = ['price_min', 'price_max', 'price_mean']\n",
    "priceParTrajet = priceParTrajet.reset_index()\n",
    "priceParTrajet.head(3)"
   ]
  },
  {
   "cell_type": "code",
   "execution_count": 15,
   "id": "472a348c",
   "metadata": {
    "_kg_hide-input": false,
    "execution": {
     "iopub.execute_input": "2022-12-07T23:58:45.753075Z",
     "iopub.status.busy": "2022-12-07T23:58:45.752636Z",
     "iopub.status.idle": "2022-12-07T23:58:52.067572Z",
     "shell.execute_reply": "2022-12-07T23:58:52.066425Z"
    },
    "papermill": {
     "duration": 6.337805,
     "end_time": "2022-12-07T23:58:52.070315",
     "exception": false,
     "start_time": "2022-12-07T23:58:45.732510",
     "status": "completed"
    },
    "tags": []
   },
   "outputs": [
    {
     "data": {
      "text/html": [
       "<style type=\"text/css\">\n",
       "#T_5ded5_row0_col0, #T_5ded5_row0_col1, #T_5ded5_row0_col2 {\n",
       "  background-color: #ff0000;\n",
       "  color: #f1f1f1;\n",
       "}\n",
       "#T_5ded5_row1_col0 {\n",
       "  background-color: #f97575;\n",
       "  color: #f1f1f1;\n",
       "}\n",
       "#T_5ded5_row1_col1 {\n",
       "  background-color: #fa6767;\n",
       "  color: #f1f1f1;\n",
       "}\n",
       "#T_5ded5_row1_col2 {\n",
       "  background-color: #fa6969;\n",
       "  color: #f1f1f1;\n",
       "}\n",
       "#T_5ded5_row2_col0, #T_5ded5_row7_col0 {\n",
       "  background-color: #f4dfdf;\n",
       "  color: #000000;\n",
       "}\n",
       "#T_5ded5_row2_col1 {\n",
       "  background-color: #f7a1a1;\n",
       "  color: #000000;\n",
       "}\n",
       "#T_5ded5_row2_col2 {\n",
       "  background-color: #f5c9c9;\n",
       "  color: #000000;\n",
       "}\n",
       "#T_5ded5_row3_col0 {\n",
       "  background-color: #f4d7d7;\n",
       "  color: #000000;\n",
       "}\n",
       "#T_5ded5_row3_col1 {\n",
       "  background-color: #f3e7e7;\n",
       "  color: #000000;\n",
       "}\n",
       "#T_5ded5_row3_col2 {\n",
       "  background-color: #f4d8d8;\n",
       "  color: #000000;\n",
       "}\n",
       "#T_5ded5_row4_col0, #T_5ded5_row4_col1, #T_5ded5_row4_col2 {\n",
       "  background-color: #f3f0f0;\n",
       "  color: #000000;\n",
       "}\n",
       "#T_5ded5_row5_col0 {\n",
       "  background-color: #f5c8c8;\n",
       "  color: #000000;\n",
       "}\n",
       "#T_5ded5_row5_col1 {\n",
       "  background-color: #f4dcdc;\n",
       "  color: #000000;\n",
       "}\n",
       "#T_5ded5_row5_col2 {\n",
       "  background-color: #f5cbcb;\n",
       "  color: #000000;\n",
       "}\n",
       "#T_5ded5_row6_col0 {\n",
       "  background-color: #f6b6b6;\n",
       "  color: #000000;\n",
       "}\n",
       "#T_5ded5_row6_col1 {\n",
       "  background-color: #f5cdcd;\n",
       "  color: #000000;\n",
       "}\n",
       "#T_5ded5_row6_col2 {\n",
       "  background-color: #f6bbbb;\n",
       "  color: #000000;\n",
       "}\n",
       "#T_5ded5_row7_col1 {\n",
       "  background-color: #f3e6e6;\n",
       "  color: #000000;\n",
       "}\n",
       "#T_5ded5_row7_col2 {\n",
       "  background-color: #f4dada;\n",
       "  color: #000000;\n",
       "}\n",
       "#T_5ded5_row8_col0 {\n",
       "  background-color: #f4d9d9;\n",
       "  color: #000000;\n",
       "}\n",
       "#T_5ded5_row8_col1 {\n",
       "  background-color: #f88a8a;\n",
       "  color: #f1f1f1;\n",
       "}\n",
       "#T_5ded5_row8_col2 {\n",
       "  background-color: #f6acac;\n",
       "  color: #000000;\n",
       "}\n",
       "#T_5ded5_row9_col0 {\n",
       "  background-color: #f3e5e5;\n",
       "  color: #000000;\n",
       "}\n",
       "#T_5ded5_row9_col1 {\n",
       "  background-color: #f6b7b7;\n",
       "  color: #000000;\n",
       "}\n",
       "#T_5ded5_row9_col2 {\n",
       "  background-color: #f5c5c5;\n",
       "  color: #000000;\n",
       "}\n",
       "</style>\n",
       "<table id=\"T_5ded5_\">\n",
       "  <thead>\n",
       "    <tr>\n",
       "      <th class=\"blank level0\" >&nbsp;</th>\n",
       "      <th class=\"col_heading level0 col0\" >price_min</th>\n",
       "      <th class=\"col_heading level0 col1\" >price_max</th>\n",
       "      <th class=\"col_heading level0 col2\" >price_mean</th>\n",
       "      <th class=\"col_heading level0 col3\" >o_city_name</th>\n",
       "      <th class=\"col_heading level0 col4\" >d_city_name</th>\n",
       "    </tr>\n",
       "  </thead>\n",
       "  <tbody>\n",
       "    <tr>\n",
       "      <th id=\"T_5ded5_level0_row0\" class=\"row_heading level0 row0\" >0</th>\n",
       "      <td id=\"T_5ded5_row0_col0\" class=\"data row0 col0\" >18600</td>\n",
       "      <td id=\"T_5ded5_row0_col1\" class=\"data row0 col1\" >22000</td>\n",
       "      <td id=\"T_5ded5_row0_col2\" class=\"data row0 col2\" >20320.00</td>\n",
       "      <td id=\"T_5ded5_row0_col3\" class=\"data row0 col3\" >agde</td>\n",
       "      <td id=\"T_5ded5_row0_col4\" class=\"data row0 col4\" >amsterdam</td>\n",
       "    </tr>\n",
       "    <tr>\n",
       "      <th id=\"T_5ded5_level0_row1\" class=\"row_heading level0 row1\" >1</th>\n",
       "      <td id=\"T_5ded5_row1_col0\" class=\"data row1 col0\" >9860</td>\n",
       "      <td id=\"T_5ded5_row1_col1\" class=\"data row1 col1\" >13650</td>\n",
       "      <td id=\"T_5ded5_row1_col2\" class=\"data row1 col2\" >11755.00</td>\n",
       "      <td id=\"T_5ded5_row1_col3\" class=\"data row1 col3\" >agen</td>\n",
       "      <td id=\"T_5ded5_row1_col4\" class=\"data row1 col4\" >dijon</td>\n",
       "    </tr>\n",
       "    <tr>\n",
       "      <th id=\"T_5ded5_level0_row2\" class=\"row_heading level0 row2\" >2</th>\n",
       "      <td id=\"T_5ded5_row2_col0\" class=\"data row2 col0\" >2000</td>\n",
       "      <td id=\"T_5ded5_row2_col1\" class=\"data row2 col1\" >8920</td>\n",
       "      <td id=\"T_5ded5_row2_col2\" class=\"data row2 col2\" >4042.67</td>\n",
       "      <td id=\"T_5ded5_row2_col3\" class=\"data row2 col3\" >agen</td>\n",
       "      <td id=\"T_5ded5_row2_col4\" class=\"data row2 col4\" >marseille</td>\n",
       "    </tr>\n",
       "    <tr>\n",
       "      <th id=\"T_5ded5_level0_row3\" class=\"row_heading level0 row3\" >3</th>\n",
       "      <td id=\"T_5ded5_row3_col0\" class=\"data row3 col0\" >2600</td>\n",
       "      <td id=\"T_5ded5_row3_col1\" class=\"data row3 col1\" >3190</td>\n",
       "      <td id=\"T_5ded5_row3_col2\" class=\"data row3 col2\" >2797.50</td>\n",
       "      <td id=\"T_5ded5_row3_col3\" class=\"data row3 col3\" >agen</td>\n",
       "      <td id=\"T_5ded5_row3_col4\" class=\"data row3 col4\" >paris</td>\n",
       "    </tr>\n",
       "    <tr>\n",
       "      <th id=\"T_5ded5_level0_row4\" class=\"row_heading level0 row4\" >4</th>\n",
       "      <td id=\"T_5ded5_row4_col0\" class=\"data row4 col0\" >700</td>\n",
       "      <td id=\"T_5ded5_row4_col1\" class=\"data row4 col1\" >2420</td>\n",
       "      <td id=\"T_5ded5_row4_col2\" class=\"data row4 col2\" >864.63</td>\n",
       "      <td id=\"T_5ded5_row4_col3\" class=\"data row4 col3\" >agen</td>\n",
       "      <td id=\"T_5ded5_row4_col4\" class=\"data row4 col4\" >toulouse</td>\n",
       "    </tr>\n",
       "    <tr>\n",
       "      <th id=\"T_5ded5_level0_row5\" class=\"row_heading level0 row5\" >5</th>\n",
       "      <td id=\"T_5ded5_row5_col0\" class=\"data row5 col0\" >3700</td>\n",
       "      <td id=\"T_5ded5_row5_col1\" class=\"data row5 col1\" >4050</td>\n",
       "      <td id=\"T_5ded5_row5_col2\" class=\"data row5 col2\" >3833.33</td>\n",
       "      <td id=\"T_5ded5_row5_col3\" class=\"data row5 col3\" >agen</td>\n",
       "      <td id=\"T_5ded5_row5_col4\" class=\"data row5 col4\" >marseille-aeroport</td>\n",
       "    </tr>\n",
       "    <tr>\n",
       "      <th id=\"T_5ded5_level0_row6\" class=\"row_heading level0 row6\" >6</th>\n",
       "      <td id=\"T_5ded5_row6_col0\" class=\"data row6 col0\" >5090</td>\n",
       "      <td id=\"T_5ded5_row6_col1\" class=\"data row6 col1\" >5290</td>\n",
       "      <td id=\"T_5ded5_row6_col2\" class=\"data row6 col2\" >5190.00</td>\n",
       "      <td id=\"T_5ded5_row6_col3\" class=\"data row6 col3\" >aix-en-provence</td>\n",
       "      <td id=\"T_5ded5_row6_col4\" class=\"data row6 col4\" >angers</td>\n",
       "    </tr>\n",
       "    <tr>\n",
       "      <th id=\"T_5ded5_level0_row7\" class=\"row_heading level0 row7\" >7</th>\n",
       "      <td id=\"T_5ded5_row7_col0\" class=\"data row7 col0\" >2000</td>\n",
       "      <td id=\"T_5ded5_row7_col1\" class=\"data row7 col1\" >3280</td>\n",
       "      <td id=\"T_5ded5_row7_col2\" class=\"data row7 col2\" >2630.00</td>\n",
       "      <td id=\"T_5ded5_row7_col3\" class=\"data row7 col3\" >aix-en-provence</td>\n",
       "      <td id=\"T_5ded5_row7_col4\" class=\"data row7 col4\" >annecy</td>\n",
       "    </tr>\n",
       "    <tr>\n",
       "      <th id=\"T_5ded5_level0_row8\" class=\"row_heading level0 row8\" >8</th>\n",
       "      <td id=\"T_5ded5_row8_col0\" class=\"data row8 col0\" >2390</td>\n",
       "      <td id=\"T_5ded5_row8_col1\" class=\"data row8 col1\" >10740</td>\n",
       "      <td id=\"T_5ded5_row8_col2\" class=\"data row8 col2\" >6405.24</td>\n",
       "      <td id=\"T_5ded5_row8_col3\" class=\"data row8 col3\" >aix-en-provence</td>\n",
       "      <td id=\"T_5ded5_row8_col4\" class=\"data row8 col4\" >clermont-ferrand</td>\n",
       "    </tr>\n",
       "    <tr>\n",
       "      <th id=\"T_5ded5_level0_row9\" class=\"row_heading level0 row9\" >9</th>\n",
       "      <td id=\"T_5ded5_row9_col0\" class=\"data row9 col0\" >1600</td>\n",
       "      <td id=\"T_5ded5_row9_col1\" class=\"data row9 col1\" >7100</td>\n",
       "      <td id=\"T_5ded5_row9_col2\" class=\"data row9 col2\" >4389.39</td>\n",
       "      <td id=\"T_5ded5_row9_col3\" class=\"data row9 col3\" >aix-en-provence</td>\n",
       "      <td id=\"T_5ded5_row9_col4\" class=\"data row9 col4\" >la-rochelle</td>\n",
       "    </tr>\n",
       "  </tbody>\n",
       "</table>\n"
      ],
      "text/plain": [
       "<pandas.io.formats.style.Styler at 0x7f3db2e6af90>"
      ]
     },
     "execution_count": 15,
     "metadata": {},
     "output_type": "execute_result"
    }
   ],
   "source": [
    "# Fonction de récupération du nom d'une ville à partir de son id\n",
    "def get_city_name(id_city):\n",
    "    return cities.query(f'id=={id_city}')['unique_name'].values[0]\n",
    "\n",
    "priceParTrajet['o_city_name'] = priceParTrajet['o_city'].apply(get_city_name) # Récupérer le nom des villes de départ\n",
    "priceParTrajet['d_city_name'] = priceParTrajet['d_city'].apply(get_city_name) # Récupérer le nom des villes d'arrivé\n",
    "\n",
    "priceParTrajet[['price_min','price_max','price_mean','o_city_name','d_city_name']].head(10).style.background_gradient(cmap=cmr).set_precision(2)"
   ]
  },
  {
   "cell_type": "markdown",
   "id": "0869d580",
   "metadata": {
    "papermill": {
     "duration": 0.019445,
     "end_time": "2022-12-07T23:58:52.108920",
     "exception": false,
     "start_time": "2022-12-07T23:58:52.089475",
     "status": "completed"
    },
    "tags": []
   },
   "source": [
    "## Conclusion\n",
    "\n",
    "Comme nous pouvons le constater, le Dataframe **priceParTrajet** résume les prix min, max et moyen de chaque trajet. Par exemple  : \n",
    "\n",
    "- Les prix min, max et moyen du trajet `agde`-`amsterdam` sont respectivement **18600**, **22000** et **20320** cent ;\n",
    "- Les prix min, max et moyen du trajet `agen`-`paris` sont respectivement **2600**, **3190** et  **2797.50** cent ;\n",
    "- Les prix min, max et moyen du trajet `aix-en-provence`-`angers` sont respectivement **5090**, **5290** et  **5190** cent\n",
    "- etc..."
   ]
  },
  {
   "cell_type": "markdown",
   "id": "7293c4bd",
   "metadata": {
    "papermill": {
     "duration": 0.019587,
     "end_time": "2022-12-07T23:58:52.149139",
     "exception": false,
     "start_time": "2022-12-07T23:58:52.129552",
     "status": "completed"
    },
    "tags": []
   },
   "source": [
    "## 2. Durée min, max, moyenne par trajet\n",
    "\n",
    "Ici, nous nous intéressons à la durée minimum, maximum et moyenne par trajet.\n",
    "\n",
    "Le Dataset `ticket_data` contient toutes les informations nécessaire pour obtenir le résultat. "
   ]
  },
  {
   "cell_type": "markdown",
   "id": "b2322bd1",
   "metadata": {
    "papermill": {
     "duration": 0.019214,
     "end_time": "2022-12-07T23:58:52.188100",
     "exception": false,
     "start_time": "2022-12-07T23:58:52.168886",
     "status": "completed"
    },
    "tags": []
   },
   "source": [
    "**Vérification de la présence des valeurs manquantes**\n",
    "\n",
    "Nous devons, avant tout, nous assurer qu'il n'y a pas de données manquantes dans les colonnes des trajets : `departure_ts` marquant le temps de départ et `arrival_ts` marquant le temps d'arrivé."
   ]
  },
  {
   "cell_type": "code",
   "execution_count": 16,
   "id": "da0a3ada",
   "metadata": {
    "execution": {
     "iopub.execute_input": "2022-12-07T23:58:52.230980Z",
     "iopub.status.busy": "2022-12-07T23:58:52.230130Z",
     "iopub.status.idle": "2022-12-07T23:58:52.249558Z",
     "shell.execute_reply": "2022-12-07T23:58:52.248211Z"
    },
    "papermill": {
     "duration": 0.044709,
     "end_time": "2022-12-07T23:58:52.252005",
     "exception": false,
     "start_time": "2022-12-07T23:58:52.207296",
     "status": "completed"
    },
    "tags": []
   },
   "outputs": [
    {
     "data": {
      "text/plain": [
       "departure_ts    0\n",
       "arrival_ts      0\n",
       "dtype: int64"
      ]
     },
     "execution_count": 16,
     "metadata": {},
     "output_type": "execute_result"
    }
   ],
   "source": [
    "# Vérification de la présence des valeurs manquantes\n",
    "TRAJET_COLONNES = ['departure_ts','arrival_ts']\n",
    "ticket_data[TRAJET_COLONNES].isna().sum()"
   ]
  },
  {
   "cell_type": "markdown",
   "id": "3e089adf",
   "metadata": {
    "papermill": {
     "duration": 0.019317,
     "end_time": "2022-12-07T23:58:52.291498",
     "exception": false,
     "start_time": "2022-12-07T23:58:52.272181",
     "status": "completed"
    },
    "tags": []
   },
   "source": [
    "Nous remarquons donc qu'il n'y a aucune donnée manquante dans notre Dataset pour ces deux colonnes.\n",
    "\n",
    "Par la suite, intéressons nous au type de donnée des deux colonnes."
   ]
  },
  {
   "cell_type": "code",
   "execution_count": 17,
   "id": "bfb810b4",
   "metadata": {
    "execution": {
     "iopub.execute_input": "2022-12-07T23:58:52.331870Z",
     "iopub.status.busy": "2022-12-07T23:58:52.331461Z",
     "iopub.status.idle": "2022-12-07T23:58:52.355216Z",
     "shell.execute_reply": "2022-12-07T23:58:52.353559Z"
    },
    "papermill": {
     "duration": 0.04673,
     "end_time": "2022-12-07T23:58:52.357685",
     "exception": false,
     "start_time": "2022-12-07T23:58:52.310955",
     "status": "completed"
    },
    "tags": []
   },
   "outputs": [
    {
     "name": "stdout",
     "output_type": "stream",
     "text": [
      "<class 'pandas.core.frame.DataFrame'>\n",
      "RangeIndex: 74168 entries, 0 to 74167\n",
      "Data columns (total 2 columns):\n",
      " #   Column        Non-Null Count  Dtype \n",
      "---  ------        --------------  ----- \n",
      " 0   departure_ts  74168 non-null  object\n",
      " 1   arrival_ts    74168 non-null  object\n",
      "dtypes: object(2)\n",
      "memory usage: 1.1+ MB\n"
     ]
    }
   ],
   "source": [
    "# Affichage du type de données de chacune des deux colonnes\n",
    "ticket_data[TRAJET_COLONNES].info()"
   ]
  },
  {
   "cell_type": "markdown",
   "id": "cdac5ec4",
   "metadata": {
    "papermill": {
     "duration": 0.022969,
     "end_time": "2022-12-07T23:58:52.405991",
     "exception": false,
     "start_time": "2022-12-07T23:58:52.383022",
     "status": "completed"
    },
    "tags": []
   },
   "source": [
    "Nous remarquons que le type des données est `Object`. Nous aurons donc besoin de les convertir en `datetime` pour pourvoir mieux les manipuler. Pour ce faire, nous allons utiliser l'attribut `to_datetime` de **Pandas**."
   ]
  },
  {
   "cell_type": "code",
   "execution_count": 18,
   "id": "bdfb0f17",
   "metadata": {
    "execution": {
     "iopub.execute_input": "2022-12-07T23:58:52.454220Z",
     "iopub.status.busy": "2022-12-07T23:58:52.453687Z",
     "iopub.status.idle": "2022-12-07T23:58:52.529145Z",
     "shell.execute_reply": "2022-12-07T23:58:52.527697Z"
    },
    "papermill": {
     "duration": 0.100275,
     "end_time": "2022-12-07T23:58:52.532573",
     "exception": false,
     "start_time": "2022-12-07T23:58:52.432298",
     "status": "completed"
    },
    "tags": []
   },
   "outputs": [
    {
     "name": "stdout",
     "output_type": "stream",
     "text": [
      "<class 'pandas.core.frame.DataFrame'>\n",
      "RangeIndex: 74168 entries, 0 to 74167\n",
      "Data columns (total 2 columns):\n",
      " #   Column        Non-Null Count  Dtype              \n",
      "---  ------        --------------  -----              \n",
      " 0   departure_ts  74168 non-null  datetime64[ns, UTC]\n",
      " 1   arrival_ts    74168 non-null  datetime64[ns, UTC]\n",
      "dtypes: datetime64[ns, UTC](2)\n",
      "memory usage: 1.1 MB\n"
     ]
    }
   ],
   "source": [
    "# Conversion des types de données en datetime\n",
    "ticket_data['departure_ts'] = pd.to_datetime(ticket_data.departure_ts)\n",
    "ticket_data['arrival_ts'] = pd.to_datetime(ticket_data.arrival_ts)\n",
    "\n",
    "# Affichage de nouveau type de données de chacune des deux colonnes\n",
    "ticket_data[TRAJET_COLONNES].info()"
   ]
  },
  {
   "cell_type": "markdown",
   "id": "5cad0617",
   "metadata": {
    "papermill": {
     "duration": 0.019518,
     "end_time": "2022-12-07T23:58:52.571963",
     "exception": false,
     "start_time": "2022-12-07T23:58:52.552445",
     "status": "completed"
    },
    "tags": []
   },
   "source": [
    "**Calcule de la durée de chaque trajet**\n",
    "\n",
    "Nous pouvons à présent calculer la durée de chaque trajet, en faisant une soustraction de la durée de départ dans la durée d'arrivé."
   ]
  },
  {
   "cell_type": "code",
   "execution_count": 19,
   "id": "87d470bb",
   "metadata": {
    "execution": {
     "iopub.execute_input": "2022-12-07T23:58:52.613451Z",
     "iopub.status.busy": "2022-12-07T23:58:52.613032Z",
     "iopub.status.idle": "2022-12-07T23:58:52.631207Z",
     "shell.execute_reply": "2022-12-07T23:58:52.629873Z"
    },
    "papermill": {
     "duration": 0.04175,
     "end_time": "2022-12-07T23:58:52.633716",
     "exception": false,
     "start_time": "2022-12-07T23:58:52.591966",
     "status": "completed"
    },
    "tags": []
   },
   "outputs": [
    {
     "data": {
      "text/html": [
       "<div>\n",
       "<style scoped>\n",
       "    .dataframe tbody tr th:only-of-type {\n",
       "        vertical-align: middle;\n",
       "    }\n",
       "\n",
       "    .dataframe tbody tr th {\n",
       "        vertical-align: top;\n",
       "    }\n",
       "\n",
       "    .dataframe thead th {\n",
       "        text-align: right;\n",
       "    }\n",
       "</style>\n",
       "<table border=\"1\" class=\"dataframe\">\n",
       "  <thead>\n",
       "    <tr style=\"text-align: right;\">\n",
       "      <th></th>\n",
       "      <th>departure_ts</th>\n",
       "      <th>arrival_ts</th>\n",
       "      <th>duree</th>\n",
       "    </tr>\n",
       "  </thead>\n",
       "  <tbody>\n",
       "    <tr>\n",
       "      <th>0</th>\n",
       "      <td>2017-10-13 14:00:00+00:00</td>\n",
       "      <td>2017-10-13 20:10:00+00:00</td>\n",
       "      <td>0 days 06:10:00</td>\n",
       "    </tr>\n",
       "    <tr>\n",
       "      <th>1</th>\n",
       "      <td>2017-10-13 13:05:00+00:00</td>\n",
       "      <td>2017-10-14 06:55:00+00:00</td>\n",
       "      <td>0 days 17:50:00</td>\n",
       "    </tr>\n",
       "    <tr>\n",
       "      <th>2</th>\n",
       "      <td>2017-10-13 13:27:00+00:00</td>\n",
       "      <td>2017-10-14 21:24:00+00:00</td>\n",
       "      <td>1 days 07:57:00</td>\n",
       "    </tr>\n",
       "  </tbody>\n",
       "</table>\n",
       "</div>"
      ],
      "text/plain": [
       "               departure_ts                arrival_ts           duree\n",
       "0 2017-10-13 14:00:00+00:00 2017-10-13 20:10:00+00:00 0 days 06:10:00\n",
       "1 2017-10-13 13:05:00+00:00 2017-10-14 06:55:00+00:00 0 days 17:50:00\n",
       "2 2017-10-13 13:27:00+00:00 2017-10-14 21:24:00+00:00 1 days 07:57:00"
      ]
     },
     "execution_count": 19,
     "metadata": {},
     "output_type": "execute_result"
    }
   ],
   "source": [
    "ticket_data['duree'] = ticket_data['arrival_ts'] - ticket_data['departure_ts'] \n",
    "ticket_data[['departure_ts','arrival_ts','duree']].head(3)"
   ]
  },
  {
   "cell_type": "code",
   "execution_count": 20,
   "id": "15ab139b",
   "metadata": {
    "execution": {
     "iopub.execute_input": "2022-12-07T23:58:52.681886Z",
     "iopub.status.busy": "2022-12-07T23:58:52.681047Z",
     "iopub.status.idle": "2022-12-07T23:58:52.691454Z",
     "shell.execute_reply": "2022-12-07T23:58:52.689515Z"
    },
    "papermill": {
     "duration": 0.035895,
     "end_time": "2022-12-07T23:58:52.695091",
     "exception": false,
     "start_time": "2022-12-07T23:58:52.659196",
     "status": "completed"
    },
    "tags": []
   },
   "outputs": [
    {
     "name": "stdout",
     "output_type": "stream",
     "text": [
      "La durée minimale de l'ensemble des trajets est : 0 days 00:20:00\n",
      "La durée maximale de l'ensemble des trajets est : 20 days 12:51:00\n",
      "La durée moyenne de l'ensemble des trajets est : 0 days 07:04:37.247600043\n"
     ]
    }
   ],
   "source": [
    "min_ts  = ticket_data.duree.min()   # Durée min de tout les trajets\n",
    "max_ts  = ticket_data.duree.max()   # Durée max de tout les trajets\n",
    "mean_ts = ticket_data.duree.mean()  # Durée moyenne de tout les trajets\n",
    "\n",
    "print(f\"La durée minimale de l'ensemble des trajets est : {min_ts}\")\n",
    "print(f\"La durée maximale de l'ensemble des trajets est : {max_ts}\")\n",
    "print(f\"La durée moyenne de l'ensemble des trajets est : {mean_ts}\")"
   ]
  },
  {
   "cell_type": "markdown",
   "id": "eeded1c8",
   "metadata": {
    "papermill": {
     "duration": 0.022668,
     "end_time": "2022-12-07T23:58:52.738251",
     "exception": false,
     "start_time": "2022-12-07T23:58:52.715583",
     "status": "completed"
    },
    "tags": []
   },
   "source": [
    "#### Quel est le nombre total de trajet que nous avons ?"
   ]
  },
  {
   "cell_type": "code",
   "execution_count": 21,
   "id": "5a995335",
   "metadata": {
    "execution": {
     "iopub.execute_input": "2022-12-07T23:58:52.784309Z",
     "iopub.status.busy": "2022-12-07T23:58:52.783879Z",
     "iopub.status.idle": "2022-12-07T23:58:52.801854Z",
     "shell.execute_reply": "2022-12-07T23:58:52.800514Z"
    },
    "papermill": {
     "duration": 0.044339,
     "end_time": "2022-12-07T23:58:52.806129",
     "exception": false,
     "start_time": "2022-12-07T23:58:52.761790",
     "status": "completed"
    },
    "tags": []
   },
   "outputs": [
    {
     "name": "stdout",
     "output_type": "stream",
     "text": [
      "Nous avons au total 1437 trajets.\n"
     ]
    }
   ],
   "source": [
    "TOTAL_TRAJET = len(ticket_data.groupby('o_city')['d_city'].value_counts())\n",
    "print(f\"Nous avons au total {TOTAL_TRAJET} trajets.\")"
   ]
  },
  {
   "cell_type": "markdown",
   "id": "316989c7",
   "metadata": {
    "papermill": {
     "duration": 0.020229,
     "end_time": "2022-12-07T23:58:52.847141",
     "exception": false,
     "start_time": "2022-12-07T23:58:52.826912",
     "status": "completed"
    },
    "tags": []
   },
   "source": [
    "**Durée min, max, moyenne par trajet**"
   ]
  },
  {
   "cell_type": "code",
   "execution_count": 22,
   "id": "2fc71303",
   "metadata": {
    "execution": {
     "iopub.execute_input": "2022-12-07T23:58:52.889010Z",
     "iopub.status.busy": "2022-12-07T23:58:52.888582Z",
     "iopub.status.idle": "2022-12-07T23:58:59.058529Z",
     "shell.execute_reply": "2022-12-07T23:58:59.057132Z"
    },
    "papermill": {
     "duration": 6.193967,
     "end_time": "2022-12-07T23:58:59.061261",
     "exception": false,
     "start_time": "2022-12-07T23:58:52.867294",
     "status": "completed"
    },
    "tags": []
   },
   "outputs": [
    {
     "data": {
      "text/html": [
       "<style type=\"text/css\">\n",
       "#T_2fea6_row0_col0 {\n",
       "  background-color: #f79595;\n",
       "  color: #000000;\n",
       "}\n",
       "#T_2fea6_row0_col1 {\n",
       "  background-color: #f7a8a7;\n",
       "  color: #000000;\n",
       "}\n",
       "#T_2fea6_row0_col2 {\n",
       "  background-color: #f89292;\n",
       "  color: #000000;\n",
       "}\n",
       "#T_2fea6_row1_col0 {\n",
       "  background-color: #fa6c6c;\n",
       "  color: #f1f1f1;\n",
       "}\n",
       "#T_2fea6_row1_col1 {\n",
       "  background-color: #f6acac;\n",
       "  color: #000000;\n",
       "}\n",
       "#T_2fea6_row1_col2 {\n",
       "  background-color: #f96e6e;\n",
       "  color: #f1f1f1;\n",
       "}\n",
       "#T_2fea6_row2_col0 {\n",
       "  background-color: #f6bbbb;\n",
       "  color: #000000;\n",
       "}\n",
       "#T_2fea6_row2_col1 {\n",
       "  background-color: #f5bdbd;\n",
       "  color: #000000;\n",
       "}\n",
       "#T_2fea6_row2_col2 {\n",
       "  background-color: #f7a7a7;\n",
       "  color: #000000;\n",
       "}\n",
       "#T_2fea6_row3_col0 {\n",
       "  background-color: #f88c8c;\n",
       "  color: #f1f1f1;\n",
       "}\n",
       "#T_2fea6_row3_col1 {\n",
       "  background-color: #f6b0b0;\n",
       "  color: #000000;\n",
       "}\n",
       "#T_2fea6_row3_col2 {\n",
       "  background-color: #f97e7e;\n",
       "  color: #f1f1f1;\n",
       "}\n",
       "#T_2fea6_row4_col0, #T_2fea6_row4_col1, #T_2fea6_row4_col2 {\n",
       "  background-color: #f3f0f0;\n",
       "  color: #000000;\n",
       "}\n",
       "#T_2fea6_row5_col0 {\n",
       "  background-color: #f5c2c2;\n",
       "  color: #000000;\n",
       "}\n",
       "#T_2fea6_row5_col1 {\n",
       "  background-color: #f4d8d8;\n",
       "  color: #000000;\n",
       "}\n",
       "#T_2fea6_row5_col2 {\n",
       "  background-color: #f5c1c1;\n",
       "  color: #000000;\n",
       "}\n",
       "#T_2fea6_row6_col0 {\n",
       "  background-color: #fb5353;\n",
       "  color: #f1f1f1;\n",
       "}\n",
       "#T_2fea6_row6_col1 {\n",
       "  background-color: #f6abab;\n",
       "  color: #000000;\n",
       "}\n",
       "#T_2fea6_row6_col2 {\n",
       "  background-color: #fa6262;\n",
       "  color: #f1f1f1;\n",
       "}\n",
       "#T_2fea6_row7_col0, #T_2fea6_row7_col2, #T_2fea6_row9_col1 {\n",
       "  background-color: #ff0000;\n",
       "  color: #f1f1f1;\n",
       "}\n",
       "#T_2fea6_row7_col1 {\n",
       "  background-color: #fa6363;\n",
       "  color: #f1f1f1;\n",
       "}\n",
       "#T_2fea6_row8_col0 {\n",
       "  background-color: #f5cccc;\n",
       "  color: #000000;\n",
       "}\n",
       "#T_2fea6_row8_col1 {\n",
       "  background-color: #fc4545;\n",
       "  color: #f1f1f1;\n",
       "}\n",
       "#T_2fea6_row8_col2 {\n",
       "  background-color: #f88686;\n",
       "  color: #f1f1f1;\n",
       "}\n",
       "#T_2fea6_row9_col0 {\n",
       "  background-color: #f79f9f;\n",
       "  color: #000000;\n",
       "}\n",
       "#T_2fea6_row9_col2 {\n",
       "  background-color: #fb5656;\n",
       "  color: #f1f1f1;\n",
       "}\n",
       "</style>\n",
       "<table id=\"T_2fea6_\">\n",
       "  <thead>\n",
       "    <tr>\n",
       "      <th class=\"blank level0\" >&nbsp;</th>\n",
       "      <th class=\"col_heading level0 col0\" >duree_min</th>\n",
       "      <th class=\"col_heading level0 col1\" >duree_max</th>\n",
       "      <th class=\"col_heading level0 col2\" >duree_mean</th>\n",
       "      <th class=\"col_heading level0 col3\" >o_city_name</th>\n",
       "      <th class=\"col_heading level0 col4\" >d_city_name</th>\n",
       "    </tr>\n",
       "  </thead>\n",
       "  <tbody>\n",
       "    <tr>\n",
       "      <th id=\"T_2fea6_level0_row0\" class=\"row_heading level0 row0\" >0</th>\n",
       "      <td id=\"T_2fea6_row0_col0\" class=\"data row0 col0\" >0 days 08:53:00</td>\n",
       "      <td id=\"T_2fea6_row0_col1\" class=\"data row0 col1\" >0 days 15:54:00</td>\n",
       "      <td id=\"T_2fea6_row0_col2\" class=\"data row0 col2\" >0 days 10:18:48</td>\n",
       "      <td id=\"T_2fea6_row0_col3\" class=\"data row0 col3\" >agde</td>\n",
       "      <td id=\"T_2fea6_row0_col4\" class=\"data row0 col4\" >amsterdam</td>\n",
       "    </tr>\n",
       "    <tr>\n",
       "      <th id=\"T_2fea6_level0_row1\" class=\"row_heading level0 row1\" >1</th>\n",
       "      <td id=\"T_2fea6_row1_col0\" class=\"data row1 col0\" >0 days 12:24:00</td>\n",
       "      <td id=\"T_2fea6_row1_col1\" class=\"data row1 col1\" >0 days 15:01:00</td>\n",
       "      <td id=\"T_2fea6_row1_col2\" class=\"data row1 col2\" >0 days 13:42:30</td>\n",
       "      <td id=\"T_2fea6_row1_col3\" class=\"data row1 col3\" >agen</td>\n",
       "      <td id=\"T_2fea6_row1_col4\" class=\"data row1 col4\" >dijon</td>\n",
       "    </tr>\n",
       "    <tr>\n",
       "      <th id=\"T_2fea6_level0_row2\" class=\"row_heading level0 row2\" >2</th>\n",
       "      <td id=\"T_2fea6_row2_col0\" class=\"data row2 col0\" >0 days 05:36:00</td>\n",
       "      <td id=\"T_2fea6_row2_col1\" class=\"data row2 col1\" >0 days 12:20:00</td>\n",
       "      <td id=\"T_2fea6_row2_col2\" class=\"data row2 col2\" >0 days 08:17:24</td>\n",
       "      <td id=\"T_2fea6_row2_col3\" class=\"data row2 col3\" >agen</td>\n",
       "      <td id=\"T_2fea6_row2_col4\" class=\"data row2 col4\" >marseille</td>\n",
       "    </tr>\n",
       "    <tr>\n",
       "      <th id=\"T_2fea6_level0_row3\" class=\"row_heading level0 row3\" >3</th>\n",
       "      <td id=\"T_2fea6_row3_col0\" class=\"data row3 col0\" >0 days 09:40:00</td>\n",
       "      <td id=\"T_2fea6_row3_col1\" class=\"data row3 col1\" >0 days 14:30:00</td>\n",
       "      <td id=\"T_2fea6_row3_col2\" class=\"data row3 col2\" >0 days 12:10:00</td>\n",
       "      <td id=\"T_2fea6_row3_col3\" class=\"data row3 col3\" >agen</td>\n",
       "      <td id=\"T_2fea6_row3_col4\" class=\"data row3 col4\" >paris</td>\n",
       "    </tr>\n",
       "    <tr>\n",
       "      <th id=\"T_2fea6_level0_row4\" class=\"row_heading level0 row4\" >4</th>\n",
       "      <td id=\"T_2fea6_row4_col0\" class=\"data row4 col0\" >0 days 01:00:00</td>\n",
       "      <td id=\"T_2fea6_row4_col1\" class=\"data row4 col1\" >0 days 04:11:00</td>\n",
       "      <td id=\"T_2fea6_row4_col2\" class=\"data row4 col2\" >0 days 01:19:54.626865671</td>\n",
       "      <td id=\"T_2fea6_row4_col3\" class=\"data row4 col3\" >agen</td>\n",
       "      <td id=\"T_2fea6_row4_col4\" class=\"data row4 col4\" >toulouse</td>\n",
       "    </tr>\n",
       "    <tr>\n",
       "      <th id=\"T_2fea6_level0_row5\" class=\"row_heading level0 row5\" >5</th>\n",
       "      <td id=\"T_2fea6_row5_col0\" class=\"data row5 col0\" >0 days 05:00:00</td>\n",
       "      <td id=\"T_2fea6_row5_col1\" class=\"data row5 col1\" >0 days 08:00:00</td>\n",
       "      <td id=\"T_2fea6_row5_col2\" class=\"data row5 col2\" >0 days 05:50:00</td>\n",
       "      <td id=\"T_2fea6_row5_col3\" class=\"data row5 col3\" >agen</td>\n",
       "      <td id=\"T_2fea6_row5_col4\" class=\"data row5 col4\" >marseille-aeroport</td>\n",
       "    </tr>\n",
       "    <tr>\n",
       "      <th id=\"T_2fea6_level0_row6\" class=\"row_heading level0 row6\" >6</th>\n",
       "      <td id=\"T_2fea6_row6_col0\" class=\"data row6 col0\" >0 days 14:35:00</td>\n",
       "      <td id=\"T_2fea6_row6_col1\" class=\"data row6 col1\" >0 days 15:10:00</td>\n",
       "      <td id=\"T_2fea6_row6_col2\" class=\"data row6 col2\" >0 days 14:52:30</td>\n",
       "      <td id=\"T_2fea6_row6_col3\" class=\"data row6 col3\" >aix-en-provence</td>\n",
       "      <td id=\"T_2fea6_row6_col4\" class=\"data row6 col4\" >angers</td>\n",
       "    </tr>\n",
       "    <tr>\n",
       "      <th id=\"T_2fea6_level0_row7\" class=\"row_heading level0 row7\" >7</th>\n",
       "      <td id=\"T_2fea6_row7_col0\" class=\"data row7 col0\" >0 days 21:45:00</td>\n",
       "      <td id=\"T_2fea6_row7_col1\" class=\"data row7 col1\" >1 days 02:45:00</td>\n",
       "      <td id=\"T_2fea6_row7_col2\" class=\"data row7 col2\" >1 days 00:09:00</td>\n",
       "      <td id=\"T_2fea6_row7_col3\" class=\"data row7 col3\" >aix-en-provence</td>\n",
       "      <td id=\"T_2fea6_row7_col4\" class=\"data row7 col4\" >annecy</td>\n",
       "    </tr>\n",
       "    <tr>\n",
       "      <th id=\"T_2fea6_level0_row8\" class=\"row_heading level0 row8\" >8</th>\n",
       "      <td id=\"T_2fea6_row8_col0\" class=\"data row8 col0\" >0 days 04:06:00</td>\n",
       "      <td id=\"T_2fea6_row8_col1\" class=\"data row8 col1\" >1 days 07:40:00</td>\n",
       "      <td id=\"T_2fea6_row8_col2\" class=\"data row8 col2\" >0 days 11:26:25.714285714</td>\n",
       "      <td id=\"T_2fea6_row8_col3\" class=\"data row8 col3\" >aix-en-provence</td>\n",
       "      <td id=\"T_2fea6_row8_col4\" class=\"data row8 col4\" >clermont-ferrand</td>\n",
       "    </tr>\n",
       "    <tr>\n",
       "      <th id=\"T_2fea6_level0_row9\" class=\"row_heading level0 row9\" >9</th>\n",
       "      <td id=\"T_2fea6_row9_col0\" class=\"data row9 col0\" >0 days 08:00:00</td>\n",
       "      <td id=\"T_2fea6_row9_col1\" class=\"data row9 col1\" >1 days 18:40:00</td>\n",
       "      <td id=\"T_2fea6_row9_col2\" class=\"data row9 col2\" >0 days 15:57:34.545454545</td>\n",
       "      <td id=\"T_2fea6_row9_col3\" class=\"data row9 col3\" >aix-en-provence</td>\n",
       "      <td id=\"T_2fea6_row9_col4\" class=\"data row9 col4\" >la-rochelle</td>\n",
       "    </tr>\n",
       "  </tbody>\n",
       "</table>\n"
      ],
      "text/plain": [
       "<pandas.io.formats.style.Styler at 0x7f3db2de21d0>"
      ]
     },
     "execution_count": 22,
     "metadata": {},
     "output_type": "execute_result"
    }
   ],
   "source": [
    "# Durée min, max, moyenne par trajet\n",
    "dureeParTrajet = ticket_data.groupby(['o_city', 'd_city']).agg({'duree': ['min', 'max','mean']})\n",
    "dureeParTrajet.columns = ['duree_min', 'duree_max', 'duree_mean']\n",
    "dureeParTrajet = dureeParTrajet.reset_index()\n",
    "\n",
    "dureeParTrajet['o_city_name'] = dureeParTrajet['o_city'].apply(get_city_name) # Récupérer le nom des villes de départ\n",
    "dureeParTrajet['d_city_name'] = dureeParTrajet['d_city'].apply(get_city_name) # Récupérer le nom des villes d'arrivé\n",
    "dureeParTrajet[['duree_min','duree_max','duree_mean','o_city_name','d_city_name']].head(10).style.background_gradient(cmap=cmr)"
   ]
  },
  {
   "cell_type": "code",
   "execution_count": 23,
   "id": "06bf628c",
   "metadata": {
    "_kg_hide-input": true,
    "execution": {
     "iopub.execute_input": "2022-12-07T23:58:59.108466Z",
     "iopub.status.busy": "2022-12-07T23:58:59.107640Z",
     "iopub.status.idle": "2022-12-07T23:58:59.113324Z",
     "shell.execute_reply": "2022-12-07T23:58:59.112086Z"
    },
    "papermill": {
     "duration": 0.033095,
     "end_time": "2022-12-07T23:58:59.115852",
     "exception": false,
     "start_time": "2022-12-07T23:58:59.082757",
     "status": "completed"
    },
    "tags": []
   },
   "outputs": [],
   "source": [
    "#grouped_multiple['d_cit_name'] = grouped_multiple.merge(cities[['id','unique_name']], how=\"inner\", left_on='d_city', right_on='id')['unique_name']\n",
    "#grouped_multiple['o_cit_name'] = grouped_multiple.merge(cities[['id','unique_name']], how=\"inner\", left_on='o_city', right_on='id')['unique_name']\n",
    "#grouped_multiple.tail()\n",
    "\n",
    "#grouped_multiple['o_city_name'] = pd.merge(left=grouped_multiple, right=cities, how=\"inner\", left_on=\"o_city\", right_on=\"id\")['unique_name']\n",
    "#grouped_multiple['d_city_name'] = pd.merge(left=grouped_multiple, right=cities,  how=\"right\", left_on=\"d_city\", right_on=\"id\")['unique_name']\n",
    "#grouped_multiple.tail()"
   ]
  },
  {
   "cell_type": "markdown",
   "id": "e51ab8f5",
   "metadata": {
    "papermill": {
     "duration": 0.019595,
     "end_time": "2022-12-07T23:58:59.155365",
     "exception": false,
     "start_time": "2022-12-07T23:58:59.135770",
     "status": "completed"
    },
    "tags": []
   },
   "source": [
    "## Conclusion\n",
    "\n",
    "Comme nous pouvons le constater, le Dataframe **dureeParTrajet** résume les durées min, max et moyenne de chaque trajet. Par exemple  : \n",
    "\n",
    "- Les durées min, max et moyenne du trajet `agde`-`amsterdam` sont respectivement **08h53min**, **15h01min** et **10h18min48sec**\n",
    "- Les durées min, max et moyenne du trajet `agen`-`marseille` sont respectivement **05h36min**, **12h20min** et  **08h17min24sec**\n",
    "- Les durées min, max et moyenne du trajet `aix-en-provence`-`clermont-ferrand` sont respectivement **04h06min**, **1 jour 07h40min** et  **11h26min25sec**\n",
    "- etc..."
   ]
  },
  {
   "cell_type": "markdown",
   "id": "1a67a929",
   "metadata": {
    "papermill": {
     "duration": 0.019444,
     "end_time": "2022-12-07T23:58:59.194494",
     "exception": false,
     "start_time": "2022-12-07T23:58:59.175050",
     "status": "completed"
    },
    "tags": []
   },
   "source": [
    "<div style=\"background-color:#5bbbcf;padding:2px;border-radius:4px\">  \n",
    "    <h2 align=\"center\" style=\"color:white;\">2. Différence de prix moyen et durée selon le train, le bus et le covoit selon la distance du trajet \n",
    " </h2>  \n",
    "</div>"
   ]
  },
  {
   "cell_type": "markdown",
   "id": "03663a56",
   "metadata": {
    "papermill": {
     "duration": 0.020548,
     "end_time": "2022-12-07T23:58:59.235318",
     "exception": false,
     "start_time": "2022-12-07T23:58:59.214770",
     "status": "completed"
    },
    "tags": []
   },
   "source": [
    "#### Calcul de la distance de chaque trajet "
   ]
  },
  {
   "cell_type": "code",
   "execution_count": 24,
   "id": "c958abb7",
   "metadata": {
    "execution": {
     "iopub.execute_input": "2022-12-07T23:58:59.278357Z",
     "iopub.status.busy": "2022-12-07T23:58:59.277941Z",
     "iopub.status.idle": "2022-12-07T23:58:59.295326Z",
     "shell.execute_reply": "2022-12-07T23:58:59.294089Z"
    },
    "papermill": {
     "duration": 0.041687,
     "end_time": "2022-12-07T23:58:59.297863",
     "exception": false,
     "start_time": "2022-12-07T23:58:59.256176",
     "status": "completed"
    },
    "tags": []
   },
   "outputs": [
    {
     "data": {
      "text/html": [
       "<div>\n",
       "<style scoped>\n",
       "    .dataframe tbody tr th:only-of-type {\n",
       "        vertical-align: middle;\n",
       "    }\n",
       "\n",
       "    .dataframe tbody tr th {\n",
       "        vertical-align: top;\n",
       "    }\n",
       "\n",
       "    .dataframe thead th {\n",
       "        text-align: right;\n",
       "    }\n",
       "</style>\n",
       "<table border=\"1\" class=\"dataframe\">\n",
       "  <thead>\n",
       "    <tr style=\"text-align: right;\">\n",
       "      <th></th>\n",
       "      <th>company</th>\n",
       "      <th>price_in_cents</th>\n",
       "      <th>o_city</th>\n",
       "      <th>d_city</th>\n",
       "      <th>duree</th>\n",
       "    </tr>\n",
       "  </thead>\n",
       "  <tbody>\n",
       "    <tr>\n",
       "      <th>0</th>\n",
       "      <td>8385</td>\n",
       "      <td>4550</td>\n",
       "      <td>611</td>\n",
       "      <td>542</td>\n",
       "      <td>0 days 06:10:00</td>\n",
       "    </tr>\n",
       "    <tr>\n",
       "      <th>1</th>\n",
       "      <td>9</td>\n",
       "      <td>1450</td>\n",
       "      <td>611</td>\n",
       "      <td>542</td>\n",
       "      <td>0 days 17:50:00</td>\n",
       "    </tr>\n",
       "    <tr>\n",
       "      <th>2</th>\n",
       "      <td>8377</td>\n",
       "      <td>7400</td>\n",
       "      <td>611</td>\n",
       "      <td>542</td>\n",
       "      <td>1 days 07:57:00</td>\n",
       "    </tr>\n",
       "  </tbody>\n",
       "</table>\n",
       "</div>"
      ],
      "text/plain": [
       "   company  price_in_cents  o_city  d_city           duree\n",
       "0     8385            4550     611     542 0 days 06:10:00\n",
       "1        9            1450     611     542 0 days 17:50:00\n",
       "2     8377            7400     611     542 1 days 07:57:00"
      ]
     },
     "execution_count": 24,
     "metadata": {},
     "output_type": "execute_result"
    }
   ],
   "source": [
    "from math import sin, cos, sqrt, atan2, radians\n",
    "\n",
    "distTrajets = ticket_data[['company','price_in_cents','o_city','d_city','duree']].copy()\n",
    "distTrajets.head(3)"
   ]
  },
  {
   "cell_type": "code",
   "execution_count": 25,
   "id": "d571e3a9",
   "metadata": {
    "execution": {
     "iopub.execute_input": "2022-12-07T23:58:59.341316Z",
     "iopub.status.busy": "2022-12-07T23:58:59.340166Z",
     "iopub.status.idle": "2022-12-08T00:05:29.198557Z",
     "shell.execute_reply": "2022-12-08T00:05:29.197684Z"
    },
    "papermill": {
     "duration": 389.902645,
     "end_time": "2022-12-08T00:05:29.220694",
     "exception": false,
     "start_time": "2022-12-07T23:58:59.318049",
     "status": "completed"
    },
    "tags": []
   },
   "outputs": [
    {
     "data": {
      "text/html": [
       "<div>\n",
       "<style scoped>\n",
       "    .dataframe tbody tr th:only-of-type {\n",
       "        vertical-align: middle;\n",
       "    }\n",
       "\n",
       "    .dataframe tbody tr th {\n",
       "        vertical-align: top;\n",
       "    }\n",
       "\n",
       "    .dataframe thead th {\n",
       "        text-align: right;\n",
       "    }\n",
       "</style>\n",
       "<table border=\"1\" class=\"dataframe\">\n",
       "  <thead>\n",
       "    <tr style=\"text-align: right;\">\n",
       "      <th></th>\n",
       "      <th>company</th>\n",
       "      <th>price_in_cents</th>\n",
       "      <th>o_city</th>\n",
       "      <th>d_city</th>\n",
       "      <th>duree</th>\n",
       "      <th>distance_km</th>\n",
       "    </tr>\n",
       "  </thead>\n",
       "  <tbody>\n",
       "    <tr>\n",
       "      <th>0</th>\n",
       "      <td>8385</td>\n",
       "      <td>4550</td>\n",
       "      <td>611</td>\n",
       "      <td>542</td>\n",
       "      <td>0 days 06:10:00</td>\n",
       "      <td>503.75</td>\n",
       "    </tr>\n",
       "    <tr>\n",
       "      <th>1</th>\n",
       "      <td>9</td>\n",
       "      <td>1450</td>\n",
       "      <td>611</td>\n",
       "      <td>542</td>\n",
       "      <td>0 days 17:50:00</td>\n",
       "      <td>503.75</td>\n",
       "    </tr>\n",
       "    <tr>\n",
       "      <th>2</th>\n",
       "      <td>8377</td>\n",
       "      <td>7400</td>\n",
       "      <td>611</td>\n",
       "      <td>542</td>\n",
       "      <td>1 days 07:57:00</td>\n",
       "      <td>503.75</td>\n",
       "    </tr>\n",
       "  </tbody>\n",
       "</table>\n",
       "</div>"
      ],
      "text/plain": [
       "   company  price_in_cents  o_city  d_city           duree  distance_km\n",
       "0     8385            4550     611     542 0 days 06:10:00       503.75\n",
       "1        9            1450     611     542 0 days 17:50:00       503.75\n",
       "2     8377            7400     611     542 1 days 07:57:00       503.75"
      ]
     },
     "execution_count": 25,
     "metadata": {},
     "output_type": "execute_result"
    }
   ],
   "source": [
    "kms = []\n",
    "R = 6378.0 # le rayon approximatif de la terre en km\n",
    "\n",
    "for i in range(distTrajets.shape[0]):\n",
    "    id_o_city = distTrajets['o_city'].iloc[i]\n",
    "    id_d_city = distTrajets['d_city'].iloc[i]\n",
    "    \n",
    "    coordonnes = cities.query(f\"id=={id_o_city}\")[['latitude','longitude']].values[0]\n",
    "    lat1 = radians(coordonnes[0])\n",
    "    lon1 = radians(coordonnes[1])\n",
    "    \n",
    "    coordonnes = cities.query(f\"id=={id_d_city}\")[['latitude','longitude']].values[0]\n",
    "    lat2 = radians(coordonnes[0])\n",
    "    lon2 = radians(coordonnes[1])\n",
    "    \n",
    "    dlon = lon2 - lon1\n",
    "    dlat = lat2 - lat1\n",
    "\n",
    "    a = sin(dlat / 2)**2 + cos(lat1) * cos(lat2) * sin(dlon / 2)**2\n",
    "    c = 2 * atan2(sqrt(a), sqrt(1 - a))\n",
    "\n",
    "    dist = R * c\n",
    "    dist = np.round(dist, 3)\n",
    "    \n",
    "    kms.append(dist)\n",
    "    \n",
    "distTrajets['distance_km'] = kms\n",
    "distTrajets.head(3)"
   ]
  },
  {
   "cell_type": "markdown",
   "id": "7158fb0e",
   "metadata": {
    "papermill": {
     "duration": 0.020216,
     "end_time": "2022-12-08T00:05:29.261088",
     "exception": false,
     "start_time": "2022-12-08T00:05:29.240872",
     "status": "completed"
    },
    "tags": []
   },
   "source": [
    "#### Récupération du type de transport de chaque trajet"
   ]
  },
  {
   "cell_type": "code",
   "execution_count": 26,
   "id": "8838e5f6",
   "metadata": {
    "execution": {
     "iopub.execute_input": "2022-12-08T00:05:29.305028Z",
     "iopub.status.busy": "2022-12-08T00:05:29.304313Z",
     "iopub.status.idle": "2022-12-08T00:05:29.314065Z",
     "shell.execute_reply": "2022-12-08T00:05:29.313036Z"
    },
    "papermill": {
     "duration": 0.035325,
     "end_time": "2022-12-08T00:05:29.316678",
     "exception": false,
     "start_time": "2022-12-08T00:05:29.281353",
     "status": "completed"
    },
    "tags": []
   },
   "outputs": [
    {
     "data": {
      "text/plain": [
       "'bus'"
      ]
     },
     "execution_count": 26,
     "metadata": {},
     "output_type": "execute_result"
    }
   ],
   "source": [
    "# Type de moyen de transport proposer par la compagnie 9\n",
    "providers.query(\"company_id==9\")['transport_type'].values[0]"
   ]
  },
  {
   "cell_type": "markdown",
   "id": "4614863a",
   "metadata": {
    "papermill": {
     "duration": 0.020719,
     "end_time": "2022-12-08T00:05:29.357874",
     "exception": false,
     "start_time": "2022-12-08T00:05:29.337155",
     "status": "completed"
    },
    "tags": []
   },
   "source": [
    "Malheureusement, pour certaines compagnies comme la compagnie `8385`, nous ne disposont pas des informations sur le type de transport."
   ]
  },
  {
   "cell_type": "code",
   "execution_count": 27,
   "id": "d7e8cadd",
   "metadata": {
    "execution": {
     "iopub.execute_input": "2022-12-08T00:05:29.403030Z",
     "iopub.status.busy": "2022-12-08T00:05:29.402421Z",
     "iopub.status.idle": "2022-12-08T00:05:29.412287Z",
     "shell.execute_reply": "2022-12-08T00:05:29.410936Z"
    },
    "papermill": {
     "duration": 0.036063,
     "end_time": "2022-12-08T00:05:29.415258",
     "exception": false,
     "start_time": "2022-12-08T00:05:29.379195",
     "status": "completed"
    },
    "tags": []
   },
   "outputs": [
    {
     "name": "stdout",
     "output_type": "stream",
     "text": [
      "Pas de moyen de transport proposer par la compagnie 8385\n"
     ]
    }
   ],
   "source": [
    "# Type de moyen de transport proposer par la compagnie 8385\n",
    "comp = 8385 # id de la compagnie\n",
    "try:\n",
    "    print(providers.query(f\"company_id=={comp}\")['transport_type'].values[0])\n",
    "except:\n",
    "    print(f\"Pas de moyen de transport proposer par la compagnie {comp}\")"
   ]
  },
  {
   "cell_type": "code",
   "execution_count": 28,
   "id": "2db86d9f",
   "metadata": {
    "execution": {
     "iopub.execute_input": "2022-12-08T00:05:29.458797Z",
     "iopub.status.busy": "2022-12-08T00:05:29.458413Z",
     "iopub.status.idle": "2022-12-08T00:07:53.987141Z",
     "shell.execute_reply": "2022-12-08T00:07:53.985927Z"
    },
    "papermill": {
     "duration": 144.573203,
     "end_time": "2022-12-08T00:07:54.009683",
     "exception": false,
     "start_time": "2022-12-08T00:05:29.436480",
     "status": "completed"
    },
    "tags": []
   },
   "outputs": [
    {
     "data": {
      "text/html": [
       "<div>\n",
       "<style scoped>\n",
       "    .dataframe tbody tr th:only-of-type {\n",
       "        vertical-align: middle;\n",
       "    }\n",
       "\n",
       "    .dataframe tbody tr th {\n",
       "        vertical-align: top;\n",
       "    }\n",
       "\n",
       "    .dataframe thead th {\n",
       "        text-align: right;\n",
       "    }\n",
       "</style>\n",
       "<table border=\"1\" class=\"dataframe\">\n",
       "  <thead>\n",
       "    <tr style=\"text-align: right;\">\n",
       "      <th></th>\n",
       "      <th>company</th>\n",
       "      <th>price_in_cents</th>\n",
       "      <th>o_city</th>\n",
       "      <th>d_city</th>\n",
       "      <th>duree</th>\n",
       "      <th>distance_km</th>\n",
       "      <th>transport_type</th>\n",
       "    </tr>\n",
       "  </thead>\n",
       "  <tbody>\n",
       "    <tr>\n",
       "      <th>0</th>\n",
       "      <td>8385</td>\n",
       "      <td>4550</td>\n",
       "      <td>611</td>\n",
       "      <td>542</td>\n",
       "      <td>0 days 06:10:00</td>\n",
       "      <td>503.75</td>\n",
       "      <td>NaN</td>\n",
       "    </tr>\n",
       "    <tr>\n",
       "      <th>1</th>\n",
       "      <td>9</td>\n",
       "      <td>1450</td>\n",
       "      <td>611</td>\n",
       "      <td>542</td>\n",
       "      <td>0 days 17:50:00</td>\n",
       "      <td>503.75</td>\n",
       "      <td>bus</td>\n",
       "    </tr>\n",
       "    <tr>\n",
       "      <th>2</th>\n",
       "      <td>8377</td>\n",
       "      <td>7400</td>\n",
       "      <td>611</td>\n",
       "      <td>542</td>\n",
       "      <td>1 days 07:57:00</td>\n",
       "      <td>503.75</td>\n",
       "      <td>NaN</td>\n",
       "    </tr>\n",
       "  </tbody>\n",
       "</table>\n",
       "</div>"
      ],
      "text/plain": [
       "   company  price_in_cents  o_city  d_city           duree  distance_km  \\\n",
       "0     8385            4550     611     542 0 days 06:10:00       503.75   \n",
       "1        9            1450     611     542 0 days 17:50:00       503.75   \n",
       "2     8377            7400     611     542 1 days 07:57:00       503.75   \n",
       "\n",
       "  transport_type  \n",
       "0            NaN  \n",
       "1            bus  \n",
       "2            NaN  "
      ]
     },
     "execution_count": 28,
     "metadata": {},
     "output_type": "execute_result"
    }
   ],
   "source": [
    "# Fonction de récupération du type de transport proposé par une compagnie\n",
    "# On retourne NaN si le type n'est pas fourni\n",
    "def get_transport_type(id_transport_type):\n",
    "    try:\n",
    "        return providers.query(f\"company_id=={id_transport_type}\")['transport_type'].values[0]\n",
    "    except:\n",
    "        return np.NaN\n",
    "\n",
    "# Récupération du type de transport de chaque trajet\n",
    "distTrajets['transport_type'] = distTrajets['company'].apply(get_transport_type)\n",
    "distTrajets.head(3)"
   ]
  },
  {
   "cell_type": "code",
   "execution_count": 29,
   "id": "0565f616",
   "metadata": {
    "execution": {
     "iopub.execute_input": "2022-12-08T00:07:54.054316Z",
     "iopub.status.busy": "2022-12-08T00:07:54.053897Z",
     "iopub.status.idle": "2022-12-08T00:07:54.063835Z",
     "shell.execute_reply": "2022-12-08T00:07:54.062872Z"
    },
    "papermill": {
     "duration": 0.035414,
     "end_time": "2022-12-08T00:07:54.066253",
     "exception": false,
     "start_time": "2022-12-08T00:07:54.030839",
     "status": "completed"
    },
    "tags": []
   },
   "outputs": [
    {
     "name": "stdout",
     "output_type": "stream",
     "text": [
      "Nous avons 3574 données utilisables sur les 74168 données fournies\n"
     ]
    }
   ],
   "source": [
    "val = distTrajets.shape[0] - distTrajets['transport_type'].isna().sum()\n",
    "print(f\"Nous avons {val} données utilisables sur les {distTrajets.shape[0]} données fournies\")"
   ]
  },
  {
   "cell_type": "markdown",
   "id": "8383882b",
   "metadata": {
    "papermill": {
     "duration": 0.020613,
     "end_time": "2022-12-08T00:07:54.109318",
     "exception": false,
     "start_time": "2022-12-08T00:07:54.088705",
     "status": "completed"
    },
    "tags": []
   },
   "source": [
    "Nous allons donc continuer les analyses avec les **3574** données utilisables."
   ]
  },
  {
   "cell_type": "code",
   "execution_count": 30,
   "id": "0209397d",
   "metadata": {
    "execution": {
     "iopub.execute_input": "2022-12-08T00:07:54.152617Z",
     "iopub.status.busy": "2022-12-08T00:07:54.152229Z",
     "iopub.status.idle": "2022-12-08T00:07:54.168788Z",
     "shell.execute_reply": "2022-12-08T00:07:54.167678Z"
    },
    "papermill": {
     "duration": 0.041229,
     "end_time": "2022-12-08T00:07:54.171213",
     "exception": false,
     "start_time": "2022-12-08T00:07:54.129984",
     "status": "completed"
    },
    "tags": []
   },
   "outputs": [
    {
     "data": {
      "text/plain": [
       "bus           3560\n",
       "train            9\n",
       "carpooling       5\n",
       "Name: transport_type, dtype: int64"
      ]
     },
     "execution_count": 30,
     "metadata": {},
     "output_type": "execute_result"
    }
   ],
   "source": [
    "# Récupération des 3574 données dans un nouveau dataframe (df) \n",
    "df = distTrajets.dropna(axis=0)\n",
    "\n",
    "# Affichage du nombre de type de transport dont nous disposons\n",
    "df.transport_type.value_counts()"
   ]
  },
  {
   "cell_type": "code",
   "execution_count": 31,
   "id": "d432f151",
   "metadata": {
    "execution": {
     "iopub.execute_input": "2022-12-08T00:07:54.214799Z",
     "iopub.status.busy": "2022-12-08T00:07:54.214061Z",
     "iopub.status.idle": "2022-12-08T00:07:54.221495Z",
     "shell.execute_reply": "2022-12-08T00:07:54.220090Z"
    },
    "papermill": {
     "duration": 0.032551,
     "end_time": "2022-12-08T00:07:54.224683",
     "exception": false,
     "start_time": "2022-12-08T00:07:54.192132",
     "status": "completed"
    },
    "tags": []
   },
   "outputs": [
    {
     "name": "stdout",
     "output_type": "stream",
     "text": [
      "La distance minimale en km de l'ensemble des trajets est 30.547\n",
      "La distance maximale en km de l'ensemble des trajets est 1757.986\n",
      "La distance moyenne en km de l'ensemble des trajets est 452.46020397313936\n"
     ]
    }
   ],
   "source": [
    "print(f\"La distance minimale en km de l'ensemble des trajets est {df.distance_km.min()}\")\n",
    "print(f\"La distance maximale en km de l'ensemble des trajets est {df.distance_km.max()}\")\n",
    "print(f\"La distance moyenne en km de l'ensemble des trajets est {df.distance_km.mean()}\")"
   ]
  },
  {
   "cell_type": "code",
   "execution_count": 32,
   "id": "afc94047",
   "metadata": {
    "execution": {
     "iopub.execute_input": "2022-12-08T00:07:54.269549Z",
     "iopub.status.busy": "2022-12-08T00:07:54.268862Z",
     "iopub.status.idle": "2022-12-08T00:07:54.285644Z",
     "shell.execute_reply": "2022-12-08T00:07:54.284826Z"
    },
    "papermill": {
     "duration": 0.041987,
     "end_time": "2022-12-08T00:07:54.288293",
     "exception": false,
     "start_time": "2022-12-08T00:07:54.246306",
     "status": "completed"
    },
    "tags": []
   },
   "outputs": [
    {
     "data": {
      "text/html": [
       "<div>\n",
       "<style scoped>\n",
       "    .dataframe tbody tr th:only-of-type {\n",
       "        vertical-align: middle;\n",
       "    }\n",
       "\n",
       "    .dataframe tbody tr th {\n",
       "        vertical-align: top;\n",
       "    }\n",
       "\n",
       "    .dataframe thead th {\n",
       "        text-align: right;\n",
       "    }\n",
       "</style>\n",
       "<table border=\"1\" class=\"dataframe\">\n",
       "  <thead>\n",
       "    <tr style=\"text-align: right;\">\n",
       "      <th></th>\n",
       "      <th>company</th>\n",
       "      <th>price_in_cents</th>\n",
       "      <th>o_city</th>\n",
       "      <th>d_city</th>\n",
       "      <th>duree</th>\n",
       "      <th>distance_km</th>\n",
       "      <th>transport_type</th>\n",
       "      <th>distance_range</th>\n",
       "    </tr>\n",
       "  </thead>\n",
       "  <tbody>\n",
       "    <tr>\n",
       "      <th>1</th>\n",
       "      <td>9</td>\n",
       "      <td>1450</td>\n",
       "      <td>611</td>\n",
       "      <td>542</td>\n",
       "      <td>0 days 17:50:00</td>\n",
       "      <td>503.750</td>\n",
       "      <td>bus</td>\n",
       "      <td>501-1000km</td>\n",
       "    </tr>\n",
       "    <tr>\n",
       "      <th>51</th>\n",
       "      <td>9</td>\n",
       "      <td>1990</td>\n",
       "      <td>628</td>\n",
       "      <td>453</td>\n",
       "      <td>0 days 06:35:00</td>\n",
       "      <td>206.069</td>\n",
       "      <td>bus</td>\n",
       "      <td>0-250km</td>\n",
       "    </tr>\n",
       "    <tr>\n",
       "      <th>53</th>\n",
       "      <td>9</td>\n",
       "      <td>1800</td>\n",
       "      <td>628</td>\n",
       "      <td>453</td>\n",
       "      <td>1 days 06:50:00</td>\n",
       "      <td>206.069</td>\n",
       "      <td>bus</td>\n",
       "      <td>0-250km</td>\n",
       "    </tr>\n",
       "    <tr>\n",
       "      <th>55</th>\n",
       "      <td>9</td>\n",
       "      <td>1590</td>\n",
       "      <td>628</td>\n",
       "      <td>453</td>\n",
       "      <td>0 days 04:10:00</td>\n",
       "      <td>206.069</td>\n",
       "      <td>bus</td>\n",
       "      <td>0-250km</td>\n",
       "    </tr>\n",
       "    <tr>\n",
       "      <th>57</th>\n",
       "      <td>9</td>\n",
       "      <td>1100</td>\n",
       "      <td>628</td>\n",
       "      <td>453</td>\n",
       "      <td>1 days 01:05:00</td>\n",
       "      <td>206.069</td>\n",
       "      <td>bus</td>\n",
       "      <td>0-250km</td>\n",
       "    </tr>\n",
       "  </tbody>\n",
       "</table>\n",
       "</div>"
      ],
      "text/plain": [
       "    company  price_in_cents  o_city  d_city           duree  distance_km  \\\n",
       "1         9            1450     611     542 0 days 17:50:00      503.750   \n",
       "51        9            1990     628     453 0 days 06:35:00      206.069   \n",
       "53        9            1800     628     453 1 days 06:50:00      206.069   \n",
       "55        9            1590     628     453 0 days 04:10:00      206.069   \n",
       "57        9            1100     628     453 1 days 01:05:00      206.069   \n",
       "\n",
       "   transport_type distance_range  \n",
       "1             bus     501-1000km  \n",
       "51            bus        0-250km  \n",
       "53            bus        0-250km  \n",
       "55            bus        0-250km  \n",
       "57            bus        0-250km  "
      ]
     },
     "execution_count": 32,
     "metadata": {},
     "output_type": "execute_result"
    }
   ],
   "source": [
    "# Fonction pour récupérer les plages de distance en km\n",
    "def get_distance_range(km):\n",
    "    if km <= 250:\n",
    "        return '0-250km'\n",
    "    elif km <= 500:\n",
    "        return '251-500km'\n",
    "    elif km <= 1000:\n",
    "        return '501-1000km'\n",
    "    else:\n",
    "        return '1001+km'\n",
    "    \n",
    "warnings.filterwarnings('ignore')\n",
    "df['distance_range'] = df['distance_km'].apply(get_distance_range)\n",
    "df.head()"
   ]
  },
  {
   "cell_type": "code",
   "execution_count": 33,
   "id": "bcdc18ee",
   "metadata": {
    "execution": {
     "iopub.execute_input": "2022-12-08T00:07:54.332925Z",
     "iopub.status.busy": "2022-12-08T00:07:54.332215Z",
     "iopub.status.idle": "2022-12-08T00:07:54.356269Z",
     "shell.execute_reply": "2022-12-08T00:07:54.354950Z"
    },
    "papermill": {
     "duration": 0.049553,
     "end_time": "2022-12-08T00:07:54.359071",
     "exception": false,
     "start_time": "2022-12-08T00:07:54.309518",
     "status": "completed"
    },
    "tags": []
   },
   "outputs": [
    {
     "data": {
      "text/html": [
       "<style type=\"text/css\">\n",
       "#T_08df1_row0_col0 {\n",
       "  background-color: #f3e3e3;\n",
       "  color: #000000;\n",
       "}\n",
       "#T_08df1_row0_col1, #T_08df1_row4_col0 {\n",
       "  background-color: #f3efef;\n",
       "  color: #000000;\n",
       "}\n",
       "#T_08df1_row1_col0 {\n",
       "  background-color: #f6bbbb;\n",
       "  color: #000000;\n",
       "}\n",
       "#T_08df1_row1_col1, #T_08df1_row5_col0 {\n",
       "  background-color: #f3f0f0;\n",
       "  color: #000000;\n",
       "}\n",
       "#T_08df1_row2_col0, #T_08df1_row2_col1 {\n",
       "  background-color: #ff0000;\n",
       "  color: #f1f1f1;\n",
       "}\n",
       "#T_08df1_row3_col0 {\n",
       "  background-color: #f4d2d2;\n",
       "  color: #000000;\n",
       "}\n",
       "#T_08df1_row3_col1 {\n",
       "  background-color: #f5c7c7;\n",
       "  color: #000000;\n",
       "}\n",
       "#T_08df1_row4_col1 {\n",
       "  background-color: #f7a3a3;\n",
       "  color: #000000;\n",
       "}\n",
       "#T_08df1_row5_col1 {\n",
       "  background-color: #f5c5c5;\n",
       "  color: #000000;\n",
       "}\n",
       "#T_08df1_row6_col0 {\n",
       "  background-color: #f89494;\n",
       "  color: #000000;\n",
       "}\n",
       "#T_08df1_row6_col1 {\n",
       "  background-color: #f79a9a;\n",
       "  color: #000000;\n",
       "}\n",
       "#T_08df1_row7_col0 {\n",
       "  background-color: #f4d9d9;\n",
       "  color: #000000;\n",
       "}\n",
       "#T_08df1_row7_col1 {\n",
       "  background-color: #f88383;\n",
       "  color: #f1f1f1;\n",
       "}\n",
       "#T_08df1_row8_col0 {\n",
       "  background-color: #f88585;\n",
       "  color: #f1f1f1;\n",
       "}\n",
       "#T_08df1_row8_col1 {\n",
       "  background-color: #f6b1b1;\n",
       "  color: #000000;\n",
       "}\n",
       "</style>\n",
       "<table id=\"T_08df1_\">\n",
       "  <thead>\n",
       "    <tr>\n",
       "      <th class=\"blank\" >&nbsp;</th>\n",
       "      <th class=\"blank level0\" >&nbsp;</th>\n",
       "      <th class=\"col_heading level0 col0\" >duree</th>\n",
       "      <th class=\"col_heading level0 col1\" >price_in_cents</th>\n",
       "    </tr>\n",
       "    <tr>\n",
       "      <th class=\"index_name level0\" >distance_range</th>\n",
       "      <th class=\"index_name level1\" >transport_type</th>\n",
       "      <th class=\"blank col0\" >&nbsp;</th>\n",
       "      <th class=\"blank col1\" >&nbsp;</th>\n",
       "    </tr>\n",
       "  </thead>\n",
       "  <tbody>\n",
       "    <tr>\n",
       "      <th id=\"T_08df1_level0_row0\" class=\"row_heading level0 row0\" rowspan=\"2\">0-250km</th>\n",
       "      <th id=\"T_08df1_level1_row0\" class=\"row_heading level1 row0\" >bus</th>\n",
       "      <td id=\"T_08df1_row0_col0\" class=\"data row0 col0\" >0 days 10:43:36.796875</td>\n",
       "      <td id=\"T_08df1_row0_col1\" class=\"data row0 col1\" >2031.419271</td>\n",
       "    </tr>\n",
       "    <tr>\n",
       "      <th id=\"T_08df1_level1_row1\" class=\"row_heading level1 row1\" >carpooling</th>\n",
       "      <td id=\"T_08df1_row1_col0\" class=\"data row1 col0\" >0 days 14:15:00</td>\n",
       "      <td id=\"T_08df1_row1_col1\" class=\"data row1 col1\" >1990.000000</td>\n",
       "    </tr>\n",
       "    <tr>\n",
       "      <th id=\"T_08df1_level0_row2\" class=\"row_heading level0 row2\" >1001+km</th>\n",
       "      <th id=\"T_08df1_level1_row2\" class=\"row_heading level1 row2\" >bus</th>\n",
       "      <td id=\"T_08df1_row2_col0\" class=\"data row2 col0\" >1 days 06:42:33.409090909</td>\n",
       "      <td id=\"T_08df1_row2_col1\" class=\"data row2 col1\" >8038.977273</td>\n",
       "    </tr>\n",
       "    <tr>\n",
       "      <th id=\"T_08df1_level0_row3\" class=\"row_heading level0 row3\" rowspan=\"3\">251-500km</th>\n",
       "      <th id=\"T_08df1_level1_row3\" class=\"row_heading level1 row3\" >bus</th>\n",
       "      <td id=\"T_08df1_row3_col0\" class=\"data row3 col0\" >0 days 12:15:03.742372881</td>\n",
       "      <td id=\"T_08df1_row3_col1\" class=\"data row3 col1\" >3048.117288</td>\n",
       "    </tr>\n",
       "    <tr>\n",
       "      <th id=\"T_08df1_level1_row4\" class=\"row_heading level1 row4\" >carpooling</th>\n",
       "      <td id=\"T_08df1_row4_col0\" class=\"data row4 col0\" >0 days 09:40:00</td>\n",
       "      <td id=\"T_08df1_row4_col1\" class=\"data row4 col1\" >3945.000000</td>\n",
       "    </tr>\n",
       "    <tr>\n",
       "      <th id=\"T_08df1_level1_row5\" class=\"row_heading level1 row5\" >train</th>\n",
       "      <td id=\"T_08df1_row5_col0\" class=\"data row5 col0\" >0 days 09:33:20</td>\n",
       "      <td id=\"T_08df1_row5_col1\" class=\"data row5 col1\" >3100.000000</td>\n",
       "    </tr>\n",
       "    <tr>\n",
       "      <th id=\"T_08df1_level0_row6\" class=\"row_heading level0 row6\" rowspan=\"3\">501-1000km</th>\n",
       "      <th id=\"T_08df1_level1_row6\" class=\"row_heading level1 row6\" >bus</th>\n",
       "      <td id=\"T_08df1_row6_col0\" class=\"data row6 col0\" >0 days 17:39:51.456468673</td>\n",
       "      <td id=\"T_08df1_row6_col1\" class=\"data row6 col1\" >4151.412531</td>\n",
       "    </tr>\n",
       "    <tr>\n",
       "      <th id=\"T_08df1_level1_row7\" class=\"row_heading level1 row7\" >carpooling</th>\n",
       "      <td id=\"T_08df1_row7_col0\" class=\"data row7 col0\" >0 days 11:32:30</td>\n",
       "      <td id=\"T_08df1_row7_col1\" class=\"data row7 col1\" >4732.000000</td>\n",
       "    </tr>\n",
       "    <tr>\n",
       "      <th id=\"T_08df1_level1_row8\" class=\"row_heading level1 row8\" >train</th>\n",
       "      <td id=\"T_08df1_row8_col0\" class=\"data row8 col0\" >0 days 19:00:00</td>\n",
       "      <td id=\"T_08df1_row8_col1\" class=\"data row8 col1\" >3596.666667</td>\n",
       "    </tr>\n",
       "  </tbody>\n",
       "</table>\n"
      ],
      "text/plain": [
       "<pandas.io.formats.style.Styler at 0x7f3db2e6ab90>"
      ]
     },
     "execution_count": 33,
     "metadata": {},
     "output_type": "execute_result"
    }
   ],
   "source": [
    "# Agrégation des prix et durées selon la distance et moyen de transport\n",
    "df1 = df.groupby(['distance_range', 'transport_type']).agg({'duree': 'mean', 'price_in_cents': 'mean'})\n",
    "df1.style.background_gradient(cmap=cmr)"
   ]
  },
  {
   "cell_type": "code",
   "execution_count": 34,
   "id": "710d3a46",
   "metadata": {
    "_kg_hide-input": true,
    "execution": {
     "iopub.execute_input": "2022-12-08T00:07:54.405511Z",
     "iopub.status.busy": "2022-12-08T00:07:54.405065Z",
     "iopub.status.idle": "2022-12-08T00:07:54.535297Z",
     "shell.execute_reply": "2022-12-08T00:07:54.534108Z"
    },
    "papermill": {
     "duration": 0.156477,
     "end_time": "2022-12-08T00:07:54.538010",
     "exception": false,
     "start_time": "2022-12-08T00:07:54.381533",
     "status": "completed"
    },
    "tags": []
   },
   "outputs": [
    {
     "data": {
      "text/html": [
       "        <script type=\"text/javascript\">\n",
       "        window.PlotlyConfig = {MathJaxConfig: 'local'};\n",
       "        if (window.MathJax && window.MathJax.Hub && window.MathJax.Hub.Config) {window.MathJax.Hub.Config({SVG: {font: \"STIX-Web\"}});}\n",
       "        if (typeof require !== 'undefined') {\n",
       "        require.undef(\"plotly\");\n",
       "        requirejs.config({\n",
       "            paths: {\n",
       "                'plotly': ['https://cdn.plot.ly/plotly-2.14.0.min']\n",
       "            }\n",
       "        });\n",
       "        require(['plotly'], function(Plotly) {\n",
       "            window._Plotly = Plotly;\n",
       "        });\n",
       "        }\n",
       "        </script>\n",
       "        "
      ]
     },
     "metadata": {},
     "output_type": "display_data"
    },
    {
     "data": {
      "text/html": [
       "<div>                            <div id=\"f8862191-2ecd-4372-9747-aff15e2f2e97\" class=\"plotly-graph-div\" style=\"height:525px; width:100%;\"></div>            <script type=\"text/javascript\">                require([\"plotly\"], function(Plotly) {                    window.PLOTLYENV=window.PLOTLYENV || {};                                    if (document.getElementById(\"f8862191-2ecd-4372-9747-aff15e2f2e97\")) {                    Plotly.newPlot(                        \"f8862191-2ecd-4372-9747-aff15e2f2e97\",                        [{\"marker\":{\"color\":\"#1a8df6\"},\"name\":\"bus\",\"x\":[\"0-250km\",\"1001+km\",\"251-500km\",\"501-1000km\"],\"y\":[2031.4192708333333,8038.977272727273,3048.1172881355933,4151.412530512612],\"type\":\"bar\"},{\"marker\":{\"color\":\"#dc3545\"},\"name\":\"train\",\"x\":[\"251-500km\",\"501-1000km\"],\"y\":[3100.0,3596.6666666666665],\"type\":\"bar\"},{\"marker\":{\"color\":\"orange\"},\"name\":\"carpooling\",\"x\":[\"0-250km\",\"251-500km\",\"501-1000km\"],\"y\":[1990.0,3945.0,4732.0],\"type\":\"bar\"}],                        {\"template\":{\"data\":{\"histogram2dcontour\":[{\"type\":\"histogram2dcontour\",\"colorbar\":{\"outlinewidth\":0,\"ticks\":\"\"},\"colorscale\":[[0.0,\"#0d0887\"],[0.1111111111111111,\"#46039f\"],[0.2222222222222222,\"#7201a8\"],[0.3333333333333333,\"#9c179e\"],[0.4444444444444444,\"#bd3786\"],[0.5555555555555556,\"#d8576b\"],[0.6666666666666666,\"#ed7953\"],[0.7777777777777778,\"#fb9f3a\"],[0.8888888888888888,\"#fdca26\"],[1.0,\"#f0f921\"]]}],\"choropleth\":[{\"type\":\"choropleth\",\"colorbar\":{\"outlinewidth\":0,\"ticks\":\"\"}}],\"histogram2d\":[{\"type\":\"histogram2d\",\"colorbar\":{\"outlinewidth\":0,\"ticks\":\"\"},\"colorscale\":[[0.0,\"#0d0887\"],[0.1111111111111111,\"#46039f\"],[0.2222222222222222,\"#7201a8\"],[0.3333333333333333,\"#9c179e\"],[0.4444444444444444,\"#bd3786\"],[0.5555555555555556,\"#d8576b\"],[0.6666666666666666,\"#ed7953\"],[0.7777777777777778,\"#fb9f3a\"],[0.8888888888888888,\"#fdca26\"],[1.0,\"#f0f921\"]]}],\"heatmap\":[{\"type\":\"heatmap\",\"colorbar\":{\"outlinewidth\":0,\"ticks\":\"\"},\"colorscale\":[[0.0,\"#0d0887\"],[0.1111111111111111,\"#46039f\"],[0.2222222222222222,\"#7201a8\"],[0.3333333333333333,\"#9c179e\"],[0.4444444444444444,\"#bd3786\"],[0.5555555555555556,\"#d8576b\"],[0.6666666666666666,\"#ed7953\"],[0.7777777777777778,\"#fb9f3a\"],[0.8888888888888888,\"#fdca26\"],[1.0,\"#f0f921\"]]}],\"heatmapgl\":[{\"type\":\"heatmapgl\",\"colorbar\":{\"outlinewidth\":0,\"ticks\":\"\"},\"colorscale\":[[0.0,\"#0d0887\"],[0.1111111111111111,\"#46039f\"],[0.2222222222222222,\"#7201a8\"],[0.3333333333333333,\"#9c179e\"],[0.4444444444444444,\"#bd3786\"],[0.5555555555555556,\"#d8576b\"],[0.6666666666666666,\"#ed7953\"],[0.7777777777777778,\"#fb9f3a\"],[0.8888888888888888,\"#fdca26\"],[1.0,\"#f0f921\"]]}],\"contourcarpet\":[{\"type\":\"contourcarpet\",\"colorbar\":{\"outlinewidth\":0,\"ticks\":\"\"}}],\"contour\":[{\"type\":\"contour\",\"colorbar\":{\"outlinewidth\":0,\"ticks\":\"\"},\"colorscale\":[[0.0,\"#0d0887\"],[0.1111111111111111,\"#46039f\"],[0.2222222222222222,\"#7201a8\"],[0.3333333333333333,\"#9c179e\"],[0.4444444444444444,\"#bd3786\"],[0.5555555555555556,\"#d8576b\"],[0.6666666666666666,\"#ed7953\"],[0.7777777777777778,\"#fb9f3a\"],[0.8888888888888888,\"#fdca26\"],[1.0,\"#f0f921\"]]}],\"surface\":[{\"type\":\"surface\",\"colorbar\":{\"outlinewidth\":0,\"ticks\":\"\"},\"colorscale\":[[0.0,\"#0d0887\"],[0.1111111111111111,\"#46039f\"],[0.2222222222222222,\"#7201a8\"],[0.3333333333333333,\"#9c179e\"],[0.4444444444444444,\"#bd3786\"],[0.5555555555555556,\"#d8576b\"],[0.6666666666666666,\"#ed7953\"],[0.7777777777777778,\"#fb9f3a\"],[0.8888888888888888,\"#fdca26\"],[1.0,\"#f0f921\"]]}],\"mesh3d\":[{\"type\":\"mesh3d\",\"colorbar\":{\"outlinewidth\":0,\"ticks\":\"\"}}],\"scatter\":[{\"fillpattern\":{\"fillmode\":\"overlay\",\"size\":10,\"solidity\":0.2},\"type\":\"scatter\"}],\"parcoords\":[{\"type\":\"parcoords\",\"line\":{\"colorbar\":{\"outlinewidth\":0,\"ticks\":\"\"}}}],\"scatterpolargl\":[{\"type\":\"scatterpolargl\",\"marker\":{\"colorbar\":{\"outlinewidth\":0,\"ticks\":\"\"}}}],\"bar\":[{\"error_x\":{\"color\":\"#2a3f5f\"},\"error_y\":{\"color\":\"#2a3f5f\"},\"marker\":{\"line\":{\"color\":\"#E5ECF6\",\"width\":0.5},\"pattern\":{\"fillmode\":\"overlay\",\"size\":10,\"solidity\":0.2}},\"type\":\"bar\"}],\"scattergeo\":[{\"type\":\"scattergeo\",\"marker\":{\"colorbar\":{\"outlinewidth\":0,\"ticks\":\"\"}}}],\"scatterpolar\":[{\"type\":\"scatterpolar\",\"marker\":{\"colorbar\":{\"outlinewidth\":0,\"ticks\":\"\"}}}],\"histogram\":[{\"marker\":{\"pattern\":{\"fillmode\":\"overlay\",\"size\":10,\"solidity\":0.2}},\"type\":\"histogram\"}],\"scattergl\":[{\"type\":\"scattergl\",\"marker\":{\"colorbar\":{\"outlinewidth\":0,\"ticks\":\"\"}}}],\"scatter3d\":[{\"type\":\"scatter3d\",\"line\":{\"colorbar\":{\"outlinewidth\":0,\"ticks\":\"\"}},\"marker\":{\"colorbar\":{\"outlinewidth\":0,\"ticks\":\"\"}}}],\"scattermapbox\":[{\"type\":\"scattermapbox\",\"marker\":{\"colorbar\":{\"outlinewidth\":0,\"ticks\":\"\"}}}],\"scatterternary\":[{\"type\":\"scatterternary\",\"marker\":{\"colorbar\":{\"outlinewidth\":0,\"ticks\":\"\"}}}],\"scattercarpet\":[{\"type\":\"scattercarpet\",\"marker\":{\"colorbar\":{\"outlinewidth\":0,\"ticks\":\"\"}}}],\"carpet\":[{\"aaxis\":{\"endlinecolor\":\"#2a3f5f\",\"gridcolor\":\"white\",\"linecolor\":\"white\",\"minorgridcolor\":\"white\",\"startlinecolor\":\"#2a3f5f\"},\"baxis\":{\"endlinecolor\":\"#2a3f5f\",\"gridcolor\":\"white\",\"linecolor\":\"white\",\"minorgridcolor\":\"white\",\"startlinecolor\":\"#2a3f5f\"},\"type\":\"carpet\"}],\"table\":[{\"cells\":{\"fill\":{\"color\":\"#EBF0F8\"},\"line\":{\"color\":\"white\"}},\"header\":{\"fill\":{\"color\":\"#C8D4E3\"},\"line\":{\"color\":\"white\"}},\"type\":\"table\"}],\"barpolar\":[{\"marker\":{\"line\":{\"color\":\"#E5ECF6\",\"width\":0.5},\"pattern\":{\"fillmode\":\"overlay\",\"size\":10,\"solidity\":0.2}},\"type\":\"barpolar\"}],\"pie\":[{\"automargin\":true,\"type\":\"pie\"}]},\"layout\":{\"autotypenumbers\":\"strict\",\"colorway\":[\"#636efa\",\"#EF553B\",\"#00cc96\",\"#ab63fa\",\"#FFA15A\",\"#19d3f3\",\"#FF6692\",\"#B6E880\",\"#FF97FF\",\"#FECB52\"],\"font\":{\"color\":\"#2a3f5f\"},\"hovermode\":\"closest\",\"hoverlabel\":{\"align\":\"left\"},\"paper_bgcolor\":\"white\",\"plot_bgcolor\":\"#E5ECF6\",\"polar\":{\"bgcolor\":\"#E5ECF6\",\"angularaxis\":{\"gridcolor\":\"white\",\"linecolor\":\"white\",\"ticks\":\"\"},\"radialaxis\":{\"gridcolor\":\"white\",\"linecolor\":\"white\",\"ticks\":\"\"}},\"ternary\":{\"bgcolor\":\"#E5ECF6\",\"aaxis\":{\"gridcolor\":\"white\",\"linecolor\":\"white\",\"ticks\":\"\"},\"baxis\":{\"gridcolor\":\"white\",\"linecolor\":\"white\",\"ticks\":\"\"},\"caxis\":{\"gridcolor\":\"white\",\"linecolor\":\"white\",\"ticks\":\"\"}},\"coloraxis\":{\"colorbar\":{\"outlinewidth\":0,\"ticks\":\"\"}},\"colorscale\":{\"sequential\":[[0.0,\"#0d0887\"],[0.1111111111111111,\"#46039f\"],[0.2222222222222222,\"#7201a8\"],[0.3333333333333333,\"#9c179e\"],[0.4444444444444444,\"#bd3786\"],[0.5555555555555556,\"#d8576b\"],[0.6666666666666666,\"#ed7953\"],[0.7777777777777778,\"#fb9f3a\"],[0.8888888888888888,\"#fdca26\"],[1.0,\"#f0f921\"]],\"sequentialminus\":[[0.0,\"#0d0887\"],[0.1111111111111111,\"#46039f\"],[0.2222222222222222,\"#7201a8\"],[0.3333333333333333,\"#9c179e\"],[0.4444444444444444,\"#bd3786\"],[0.5555555555555556,\"#d8576b\"],[0.6666666666666666,\"#ed7953\"],[0.7777777777777778,\"#fb9f3a\"],[0.8888888888888888,\"#fdca26\"],[1.0,\"#f0f921\"]],\"diverging\":[[0,\"#8e0152\"],[0.1,\"#c51b7d\"],[0.2,\"#de77ae\"],[0.3,\"#f1b6da\"],[0.4,\"#fde0ef\"],[0.5,\"#f7f7f7\"],[0.6,\"#e6f5d0\"],[0.7,\"#b8e186\"],[0.8,\"#7fbc41\"],[0.9,\"#4d9221\"],[1,\"#276419\"]]},\"xaxis\":{\"gridcolor\":\"white\",\"linecolor\":\"white\",\"ticks\":\"\",\"title\":{\"standoff\":15},\"zerolinecolor\":\"white\",\"automargin\":true,\"zerolinewidth\":2},\"yaxis\":{\"gridcolor\":\"white\",\"linecolor\":\"white\",\"ticks\":\"\",\"title\":{\"standoff\":15},\"zerolinecolor\":\"white\",\"automargin\":true,\"zerolinewidth\":2},\"scene\":{\"xaxis\":{\"backgroundcolor\":\"#E5ECF6\",\"gridcolor\":\"white\",\"linecolor\":\"white\",\"showbackground\":true,\"ticks\":\"\",\"zerolinecolor\":\"white\",\"gridwidth\":2},\"yaxis\":{\"backgroundcolor\":\"#E5ECF6\",\"gridcolor\":\"white\",\"linecolor\":\"white\",\"showbackground\":true,\"ticks\":\"\",\"zerolinecolor\":\"white\",\"gridwidth\":2},\"zaxis\":{\"backgroundcolor\":\"#E5ECF6\",\"gridcolor\":\"white\",\"linecolor\":\"white\",\"showbackground\":true,\"ticks\":\"\",\"zerolinecolor\":\"white\",\"gridwidth\":2}},\"shapedefaults\":{\"line\":{\"color\":\"#2a3f5f\"}},\"annotationdefaults\":{\"arrowcolor\":\"#2a3f5f\",\"arrowhead\":0,\"arrowwidth\":1},\"geo\":{\"bgcolor\":\"white\",\"landcolor\":\"#E5ECF6\",\"subunitcolor\":\"white\",\"showland\":true,\"showlakes\":true,\"lakecolor\":\"white\"},\"title\":{\"x\":0.05},\"mapbox\":{\"style\":\"light\"}}},\"barmode\":\"group\",\"title\":{\"text\":\"Rapport Prix moyen/distance des types de transport\"}},                        {\"responsive\": true}                    ).then(function(){\n",
       "                            \n",
       "var gd = document.getElementById('f8862191-2ecd-4372-9747-aff15e2f2e97');\n",
       "var x = new MutationObserver(function (mutations, observer) {{\n",
       "        var display = window.getComputedStyle(gd).display;\n",
       "        if (!display || display === 'none') {{\n",
       "            console.log([gd, 'removed!']);\n",
       "            Plotly.purge(gd);\n",
       "            observer.disconnect();\n",
       "        }}\n",
       "}});\n",
       "\n",
       "// Listen for the removal of the full notebook cells\n",
       "var notebookContainer = gd.closest('#notebook-container');\n",
       "if (notebookContainer) {{\n",
       "    x.observe(notebookContainer, {childList: true});\n",
       "}}\n",
       "\n",
       "// Listen for the clearing of the current output cell\n",
       "var outputEl = gd.closest('.output');\n",
       "if (outputEl) {{\n",
       "    x.observe(outputEl, {childList: true});\n",
       "}}\n",
       "\n",
       "                        })                };                });            </script>        </div>"
      ]
     },
     "metadata": {},
     "output_type": "display_data"
    }
   ],
   "source": [
    "# Récupération des données des prix de chaque type de transport\n",
    "df_prix_bus = df1.query(\"transport_type=='bus'\").groupby(['distance_range']).agg({'price_in_cents': 'mean'})\n",
    "df_prix_train = df1.query(\"transport_type=='train'\").groupby(['distance_range']).agg({'price_in_cents': 'mean'})\n",
    "df_prix_car = df1.query(\"transport_type=='carpooling'\").groupby(['distance_range']).agg({'price_in_cents': 'mean'})\n",
    "\n",
    "# Visualisation Interactive des données\n",
    "fig = go.Figure(data=[\n",
    "    go.Bar(name='bus', x=df_prix_bus.index, y=df_prix_bus.price_in_cents, marker_color='#1a8df6'),\n",
    "    go.Bar(name='train', x=df_prix_train.index, y=df_prix_train.price_in_cents, marker_color='#dc3545'),\n",
    "    go.Bar(name='carpooling', x=df_prix_car.index, y=df_prix_car.price_in_cents, marker_color='orange'),\n",
    "])    \n",
    "\n",
    "fig.update_layout(barmode='group',title='Rapport Prix moyen/distance des types de transport')\n",
    "fig.show()"
   ]
  },
  {
   "cell_type": "code",
   "execution_count": 35,
   "id": "ce263368",
   "metadata": {
    "_kg_hide-input": true,
    "execution": {
     "iopub.execute_input": "2022-12-08T00:07:54.585024Z",
     "iopub.status.busy": "2022-12-08T00:07:54.583836Z",
     "iopub.status.idle": "2022-12-08T00:07:54.615417Z",
     "shell.execute_reply": "2022-12-08T00:07:54.614304Z"
    },
    "papermill": {
     "duration": 0.057278,
     "end_time": "2022-12-08T00:07:54.617905",
     "exception": false,
     "start_time": "2022-12-08T00:07:54.560627",
     "status": "completed"
    },
    "tags": []
   },
   "outputs": [
    {
     "data": {
      "text/html": [
       "<div>                            <div id=\"794ec4ff-2599-46c2-8c9f-8a21268dcb25\" class=\"plotly-graph-div\" style=\"height:525px; width:100%;\"></div>            <script type=\"text/javascript\">                require([\"plotly\"], function(Plotly) {                    window.PLOTLYENV=window.PLOTLYENV || {};                                    if (document.getElementById(\"794ec4ff-2599-46c2-8c9f-8a21268dcb25\")) {                    Plotly.newPlot(                        \"794ec4ff-2599-46c2-8c9f-8a21268dcb25\",                        [{\"marker\":{\"color\":\"#1a8df6\"},\"name\":\"bus\",\"x\":[\"0-250km\",\"1001+km\",\"251-500km\",\"501-1000km\"],\"y\":[38616796875000,110553409090909,44103742372881,63591456468673],\"type\":\"bar\"},{\"marker\":{\"color\":\"#dc3545\"},\"name\":\"train\",\"x\":[\"251-500km\",\"501-1000km\"],\"y\":[34400000000000,68400000000000],\"type\":\"bar\"},{\"marker\":{\"color\":\"orange\"},\"name\":\"carpooling\",\"x\":[\"0-250km\",\"251-500km\",\"501-1000km\"],\"y\":[51300000000000,34800000000000,41550000000000],\"type\":\"bar\"}],                        {\"template\":{\"data\":{\"histogram2dcontour\":[{\"type\":\"histogram2dcontour\",\"colorbar\":{\"outlinewidth\":0,\"ticks\":\"\"},\"colorscale\":[[0.0,\"#0d0887\"],[0.1111111111111111,\"#46039f\"],[0.2222222222222222,\"#7201a8\"],[0.3333333333333333,\"#9c179e\"],[0.4444444444444444,\"#bd3786\"],[0.5555555555555556,\"#d8576b\"],[0.6666666666666666,\"#ed7953\"],[0.7777777777777778,\"#fb9f3a\"],[0.8888888888888888,\"#fdca26\"],[1.0,\"#f0f921\"]]}],\"choropleth\":[{\"type\":\"choropleth\",\"colorbar\":{\"outlinewidth\":0,\"ticks\":\"\"}}],\"histogram2d\":[{\"type\":\"histogram2d\",\"colorbar\":{\"outlinewidth\":0,\"ticks\":\"\"},\"colorscale\":[[0.0,\"#0d0887\"],[0.1111111111111111,\"#46039f\"],[0.2222222222222222,\"#7201a8\"],[0.3333333333333333,\"#9c179e\"],[0.4444444444444444,\"#bd3786\"],[0.5555555555555556,\"#d8576b\"],[0.6666666666666666,\"#ed7953\"],[0.7777777777777778,\"#fb9f3a\"],[0.8888888888888888,\"#fdca26\"],[1.0,\"#f0f921\"]]}],\"heatmap\":[{\"type\":\"heatmap\",\"colorbar\":{\"outlinewidth\":0,\"ticks\":\"\"},\"colorscale\":[[0.0,\"#0d0887\"],[0.1111111111111111,\"#46039f\"],[0.2222222222222222,\"#7201a8\"],[0.3333333333333333,\"#9c179e\"],[0.4444444444444444,\"#bd3786\"],[0.5555555555555556,\"#d8576b\"],[0.6666666666666666,\"#ed7953\"],[0.7777777777777778,\"#fb9f3a\"],[0.8888888888888888,\"#fdca26\"],[1.0,\"#f0f921\"]]}],\"heatmapgl\":[{\"type\":\"heatmapgl\",\"colorbar\":{\"outlinewidth\":0,\"ticks\":\"\"},\"colorscale\":[[0.0,\"#0d0887\"],[0.1111111111111111,\"#46039f\"],[0.2222222222222222,\"#7201a8\"],[0.3333333333333333,\"#9c179e\"],[0.4444444444444444,\"#bd3786\"],[0.5555555555555556,\"#d8576b\"],[0.6666666666666666,\"#ed7953\"],[0.7777777777777778,\"#fb9f3a\"],[0.8888888888888888,\"#fdca26\"],[1.0,\"#f0f921\"]]}],\"contourcarpet\":[{\"type\":\"contourcarpet\",\"colorbar\":{\"outlinewidth\":0,\"ticks\":\"\"}}],\"contour\":[{\"type\":\"contour\",\"colorbar\":{\"outlinewidth\":0,\"ticks\":\"\"},\"colorscale\":[[0.0,\"#0d0887\"],[0.1111111111111111,\"#46039f\"],[0.2222222222222222,\"#7201a8\"],[0.3333333333333333,\"#9c179e\"],[0.4444444444444444,\"#bd3786\"],[0.5555555555555556,\"#d8576b\"],[0.6666666666666666,\"#ed7953\"],[0.7777777777777778,\"#fb9f3a\"],[0.8888888888888888,\"#fdca26\"],[1.0,\"#f0f921\"]]}],\"surface\":[{\"type\":\"surface\",\"colorbar\":{\"outlinewidth\":0,\"ticks\":\"\"},\"colorscale\":[[0.0,\"#0d0887\"],[0.1111111111111111,\"#46039f\"],[0.2222222222222222,\"#7201a8\"],[0.3333333333333333,\"#9c179e\"],[0.4444444444444444,\"#bd3786\"],[0.5555555555555556,\"#d8576b\"],[0.6666666666666666,\"#ed7953\"],[0.7777777777777778,\"#fb9f3a\"],[0.8888888888888888,\"#fdca26\"],[1.0,\"#f0f921\"]]}],\"mesh3d\":[{\"type\":\"mesh3d\",\"colorbar\":{\"outlinewidth\":0,\"ticks\":\"\"}}],\"scatter\":[{\"fillpattern\":{\"fillmode\":\"overlay\",\"size\":10,\"solidity\":0.2},\"type\":\"scatter\"}],\"parcoords\":[{\"type\":\"parcoords\",\"line\":{\"colorbar\":{\"outlinewidth\":0,\"ticks\":\"\"}}}],\"scatterpolargl\":[{\"type\":\"scatterpolargl\",\"marker\":{\"colorbar\":{\"outlinewidth\":0,\"ticks\":\"\"}}}],\"bar\":[{\"error_x\":{\"color\":\"#2a3f5f\"},\"error_y\":{\"color\":\"#2a3f5f\"},\"marker\":{\"line\":{\"color\":\"#E5ECF6\",\"width\":0.5},\"pattern\":{\"fillmode\":\"overlay\",\"size\":10,\"solidity\":0.2}},\"type\":\"bar\"}],\"scattergeo\":[{\"type\":\"scattergeo\",\"marker\":{\"colorbar\":{\"outlinewidth\":0,\"ticks\":\"\"}}}],\"scatterpolar\":[{\"type\":\"scatterpolar\",\"marker\":{\"colorbar\":{\"outlinewidth\":0,\"ticks\":\"\"}}}],\"histogram\":[{\"marker\":{\"pattern\":{\"fillmode\":\"overlay\",\"size\":10,\"solidity\":0.2}},\"type\":\"histogram\"}],\"scattergl\":[{\"type\":\"scattergl\",\"marker\":{\"colorbar\":{\"outlinewidth\":0,\"ticks\":\"\"}}}],\"scatter3d\":[{\"type\":\"scatter3d\",\"line\":{\"colorbar\":{\"outlinewidth\":0,\"ticks\":\"\"}},\"marker\":{\"colorbar\":{\"outlinewidth\":0,\"ticks\":\"\"}}}],\"scattermapbox\":[{\"type\":\"scattermapbox\",\"marker\":{\"colorbar\":{\"outlinewidth\":0,\"ticks\":\"\"}}}],\"scatterternary\":[{\"type\":\"scatterternary\",\"marker\":{\"colorbar\":{\"outlinewidth\":0,\"ticks\":\"\"}}}],\"scattercarpet\":[{\"type\":\"scattercarpet\",\"marker\":{\"colorbar\":{\"outlinewidth\":0,\"ticks\":\"\"}}}],\"carpet\":[{\"aaxis\":{\"endlinecolor\":\"#2a3f5f\",\"gridcolor\":\"white\",\"linecolor\":\"white\",\"minorgridcolor\":\"white\",\"startlinecolor\":\"#2a3f5f\"},\"baxis\":{\"endlinecolor\":\"#2a3f5f\",\"gridcolor\":\"white\",\"linecolor\":\"white\",\"minorgridcolor\":\"white\",\"startlinecolor\":\"#2a3f5f\"},\"type\":\"carpet\"}],\"table\":[{\"cells\":{\"fill\":{\"color\":\"#EBF0F8\"},\"line\":{\"color\":\"white\"}},\"header\":{\"fill\":{\"color\":\"#C8D4E3\"},\"line\":{\"color\":\"white\"}},\"type\":\"table\"}],\"barpolar\":[{\"marker\":{\"line\":{\"color\":\"#E5ECF6\",\"width\":0.5},\"pattern\":{\"fillmode\":\"overlay\",\"size\":10,\"solidity\":0.2}},\"type\":\"barpolar\"}],\"pie\":[{\"automargin\":true,\"type\":\"pie\"}]},\"layout\":{\"autotypenumbers\":\"strict\",\"colorway\":[\"#636efa\",\"#EF553B\",\"#00cc96\",\"#ab63fa\",\"#FFA15A\",\"#19d3f3\",\"#FF6692\",\"#B6E880\",\"#FF97FF\",\"#FECB52\"],\"font\":{\"color\":\"#2a3f5f\"},\"hovermode\":\"closest\",\"hoverlabel\":{\"align\":\"left\"},\"paper_bgcolor\":\"white\",\"plot_bgcolor\":\"#E5ECF6\",\"polar\":{\"bgcolor\":\"#E5ECF6\",\"angularaxis\":{\"gridcolor\":\"white\",\"linecolor\":\"white\",\"ticks\":\"\"},\"radialaxis\":{\"gridcolor\":\"white\",\"linecolor\":\"white\",\"ticks\":\"\"}},\"ternary\":{\"bgcolor\":\"#E5ECF6\",\"aaxis\":{\"gridcolor\":\"white\",\"linecolor\":\"white\",\"ticks\":\"\"},\"baxis\":{\"gridcolor\":\"white\",\"linecolor\":\"white\",\"ticks\":\"\"},\"caxis\":{\"gridcolor\":\"white\",\"linecolor\":\"white\",\"ticks\":\"\"}},\"coloraxis\":{\"colorbar\":{\"outlinewidth\":0,\"ticks\":\"\"}},\"colorscale\":{\"sequential\":[[0.0,\"#0d0887\"],[0.1111111111111111,\"#46039f\"],[0.2222222222222222,\"#7201a8\"],[0.3333333333333333,\"#9c179e\"],[0.4444444444444444,\"#bd3786\"],[0.5555555555555556,\"#d8576b\"],[0.6666666666666666,\"#ed7953\"],[0.7777777777777778,\"#fb9f3a\"],[0.8888888888888888,\"#fdca26\"],[1.0,\"#f0f921\"]],\"sequentialminus\":[[0.0,\"#0d0887\"],[0.1111111111111111,\"#46039f\"],[0.2222222222222222,\"#7201a8\"],[0.3333333333333333,\"#9c179e\"],[0.4444444444444444,\"#bd3786\"],[0.5555555555555556,\"#d8576b\"],[0.6666666666666666,\"#ed7953\"],[0.7777777777777778,\"#fb9f3a\"],[0.8888888888888888,\"#fdca26\"],[1.0,\"#f0f921\"]],\"diverging\":[[0,\"#8e0152\"],[0.1,\"#c51b7d\"],[0.2,\"#de77ae\"],[0.3,\"#f1b6da\"],[0.4,\"#fde0ef\"],[0.5,\"#f7f7f7\"],[0.6,\"#e6f5d0\"],[0.7,\"#b8e186\"],[0.8,\"#7fbc41\"],[0.9,\"#4d9221\"],[1,\"#276419\"]]},\"xaxis\":{\"gridcolor\":\"white\",\"linecolor\":\"white\",\"ticks\":\"\",\"title\":{\"standoff\":15},\"zerolinecolor\":\"white\",\"automargin\":true,\"zerolinewidth\":2},\"yaxis\":{\"gridcolor\":\"white\",\"linecolor\":\"white\",\"ticks\":\"\",\"title\":{\"standoff\":15},\"zerolinecolor\":\"white\",\"automargin\":true,\"zerolinewidth\":2},\"scene\":{\"xaxis\":{\"backgroundcolor\":\"#E5ECF6\",\"gridcolor\":\"white\",\"linecolor\":\"white\",\"showbackground\":true,\"ticks\":\"\",\"zerolinecolor\":\"white\",\"gridwidth\":2},\"yaxis\":{\"backgroundcolor\":\"#E5ECF6\",\"gridcolor\":\"white\",\"linecolor\":\"white\",\"showbackground\":true,\"ticks\":\"\",\"zerolinecolor\":\"white\",\"gridwidth\":2},\"zaxis\":{\"backgroundcolor\":\"#E5ECF6\",\"gridcolor\":\"white\",\"linecolor\":\"white\",\"showbackground\":true,\"ticks\":\"\",\"zerolinecolor\":\"white\",\"gridwidth\":2}},\"shapedefaults\":{\"line\":{\"color\":\"#2a3f5f\"}},\"annotationdefaults\":{\"arrowcolor\":\"#2a3f5f\",\"arrowhead\":0,\"arrowwidth\":1},\"geo\":{\"bgcolor\":\"white\",\"landcolor\":\"#E5ECF6\",\"subunitcolor\":\"white\",\"showland\":true,\"showlakes\":true,\"lakecolor\":\"white\"},\"title\":{\"x\":0.05},\"mapbox\":{\"style\":\"light\"}}},\"barmode\":\"group\",\"title\":{\"text\":\"Rapport Durée moyenne/Distance des types de transport\"}},                        {\"responsive\": true}                    ).then(function(){\n",
       "                            \n",
       "var gd = document.getElementById('794ec4ff-2599-46c2-8c9f-8a21268dcb25');\n",
       "var x = new MutationObserver(function (mutations, observer) {{\n",
       "        var display = window.getComputedStyle(gd).display;\n",
       "        if (!display || display === 'none') {{\n",
       "            console.log([gd, 'removed!']);\n",
       "            Plotly.purge(gd);\n",
       "            observer.disconnect();\n",
       "        }}\n",
       "}});\n",
       "\n",
       "// Listen for the removal of the full notebook cells\n",
       "var notebookContainer = gd.closest('#notebook-container');\n",
       "if (notebookContainer) {{\n",
       "    x.observe(notebookContainer, {childList: true});\n",
       "}}\n",
       "\n",
       "// Listen for the clearing of the current output cell\n",
       "var outputEl = gd.closest('.output');\n",
       "if (outputEl) {{\n",
       "    x.observe(outputEl, {childList: true});\n",
       "}}\n",
       "\n",
       "                        })                };                });            </script>        </div>"
      ]
     },
     "metadata": {},
     "output_type": "display_data"
    }
   ],
   "source": [
    "# Récupération des données des durées de chaque type de transport\n",
    "df_duree_bus = df1.query(\"transport_type=='bus'\").groupby(['distance_range']).agg({'duree': 'mean'})\n",
    "df_duree_train = df1.query(\"transport_type=='train'\").groupby(['distance_range']).agg({'duree': 'mean'})\n",
    "df_duree_car = df1.query(\"transport_type=='carpooling'\").groupby(['distance_range']).agg({'duree': 'mean'})\n",
    "\n",
    "# Visualisation Interactive des données\n",
    "fig = go.Figure(data=[\n",
    "    go.Bar(name='bus', x=df_duree_bus.index, y=df_duree_bus.duree, marker_color='#1a8df6'),\n",
    "    go.Bar(name='train', x=df_duree_train.index, y=df_duree_train.duree, marker_color='#dc3545'),\n",
    "    go.Bar(name='carpooling', x=df_duree_car.index, y=df_duree_car.duree, marker_color='orange'),\n",
    "])    \n",
    "\n",
    "fig.update_layout(barmode='group',title='Rapport Durée moyenne/Distance des types de transport')\n",
    "fig.show()"
   ]
  },
  {
   "cell_type": "markdown",
   "id": "51753390",
   "metadata": {
    "papermill": {
     "duration": 0.022687,
     "end_time": "2022-12-08T00:07:54.663338",
     "exception": false,
     "start_time": "2022-12-08T00:07:54.640651",
     "status": "completed"
    },
    "tags": []
   },
   "source": [
    "## Conclusion\n",
    "\n",
    "Comme nous pouvons le remarquer, le Dataframe **df1** résume ...\n",
    "\n",
    "- Sur une distance de **0-250 km** nous n'avons deux types de transport : \n",
    "    - le bus avec une durée moyenne de `10h 43min 36sec` et un prix moyen de `2031.41` cent\n",
    "    - le carpooling (covoiturage) avec une durée moyenne de `14h 15min` et un prix moyen de `1990` cent\n",
    "    \n",
    "    \n",
    "- Sur une distance **251-500 km** nous avons trois types de transport : \n",
    "    - le covoiturage avec une durée moyenne de `09h 40min` et un prix moyen de `3945` cent\n",
    "    - le train avec une durée moyenne de `09h 33min 20sec` et un prix moyen de `3100` cent\n",
    "    - le bus avec une durée moyenne de `17h 39min 51sec` et un prix moyen de `4151.41` cent\n",
    "    \n",
    "    \n",
    "- Sur une distance **501-1000 km** nous n'avons trois types de transport : \n",
    "    - le covoiturage avec une durée moyenne de `11h 32min 30sec` et un prix moyen de `4732` cent\n",
    "    - le train avec une durée moyenne de `19h00` et un prix moyen de `3596.66` cent\n",
    "    \n",
    "    \n",
    " - Sur une distance de plus de **1001 km** nous n'avons qu'un seul type de transport : \n",
    "    - le bus avec une durée moyenne de `1jour 06h 42min 33sec` et un prix moyen de `8038.97` cent\n",
    "  \n",
    "  \n",
    "  \n",
    "  \n",
    "## Remarques\n",
    "\n",
    "Il est tout à fait normal de reporter les observations suivants :\n",
    "      \n",
    "- La plus **petite durée moyenne** fait en déplacement est `09h 33min 20sec`. Elle se fait en **train** sur une distance de **251-500 km**;\n",
    "\n",
    "- La plus **longue durée moyenne** fait en déplacement est `1jour 06h 42min 33sec`. Elle se en **bus** sur une distance de **1001+ km**;\n",
    "\n",
    "- Le plus **petit prix moyen** payé en déplacement est `1990` cent, en **covoiturage** et sur une distance de **0-250 km**;\n",
    "\n",
    "- Le plus **grand prix moyen** payé en déplacement est `8038.97` cent, dans un **bus** et sur une distance de **plus de 1001 km**."
   ]
  },
  {
   "cell_type": "markdown",
   "id": "c683ff51",
   "metadata": {
    "papermill": {
     "duration": 0.022119,
     "end_time": "2022-12-08T00:07:54.707977",
     "exception": false,
     "start_time": "2022-12-08T00:07:54.685858",
     "status": "completed"
    },
    "tags": []
   },
   "source": [
    "\n",
    "<div style=\"background-color:#5bbbcf;padding:2px;border-radius:4px\">  \n",
    "    <h2 align=\"center\" style=\"color:white;\">3. Bonus </h2>  \n",
    "</div>"
   ]
  },
  {
   "cell_type": "markdown",
   "id": "0c22d101",
   "metadata": {
    "papermill": {
     "duration": 0.023211,
     "end_time": "2022-12-08T00:07:54.753511",
     "exception": false,
     "start_time": "2022-12-08T00:07:54.730300",
     "status": "completed"
    },
    "tags": []
   },
   "source": [
    "**Remplacer quelques valeurs manquantes du dataset providers**\n",
    "\n",
    "Nous avons précédemment remarquer que des valeurs manques dans les colonnes : `provider_id`, `has_wifi`, `has_plug`, `has_adjustable_seats` et `has_bicycle` du dataset **providers**. \n",
    "\n",
    "Dans cette section, nous allons nous intéresser à remplacer les valeurs manquantes des colonnes `has_wifi`, `has_plug`, `has_adjustable_seats` et `has_bicycle`."
   ]
  },
  {
   "cell_type": "code",
   "execution_count": 36,
   "id": "fc4ccd24",
   "metadata": {
    "execution": {
     "iopub.execute_input": "2022-12-08T00:07:54.799923Z",
     "iopub.status.busy": "2022-12-08T00:07:54.799528Z",
     "iopub.status.idle": "2022-12-08T00:07:54.812057Z",
     "shell.execute_reply": "2022-12-08T00:07:54.810846Z"
    },
    "papermill": {
     "duration": 0.038325,
     "end_time": "2022-12-08T00:07:54.814400",
     "exception": false,
     "start_time": "2022-12-08T00:07:54.776075",
     "status": "completed"
    },
    "tags": []
   },
   "outputs": [
    {
     "data": {
      "text/plain": [
       "provider_id             14\n",
       "has_wifi                 3\n",
       "has_plug                 3\n",
       "has_adjustable_seats     3\n",
       "has_bicycle              3\n",
       "dtype: int64"
      ]
     },
     "execution_count": 36,
     "metadata": {},
     "output_type": "execute_result"
    }
   ],
   "source": [
    "# Les colonnes des valeurs manquantes\n",
    "MISSING_COL = [col for col in providers.columns.to_list() if providers[col].isna().any()]\n",
    "providers[MISSING_COL].isna().sum()"
   ]
  },
  {
   "cell_type": "markdown",
   "id": "1c204801",
   "metadata": {
    "papermill": {
     "duration": 0.021839,
     "end_time": "2022-12-08T00:07:54.858772",
     "exception": false,
     "start_time": "2022-12-08T00:07:54.836933",
     "status": "completed"
    },
    "tags": []
   },
   "source": [
    "Nous remarquons l'absence de trois valeurs manquantes dans chacune de nos quatres colonnes cibles.\n",
    "\n",
    "Intéressons nous aux instances de ces valeurs manquantes."
   ]
  },
  {
   "cell_type": "code",
   "execution_count": 37,
   "id": "ec942136",
   "metadata": {
    "execution": {
     "iopub.execute_input": "2022-12-08T00:07:54.906578Z",
     "iopub.status.busy": "2022-12-08T00:07:54.906206Z",
     "iopub.status.idle": "2022-12-08T00:07:54.922466Z",
     "shell.execute_reply": "2022-12-08T00:07:54.921148Z"
    },
    "papermill": {
     "duration": 0.043536,
     "end_time": "2022-12-08T00:07:54.924808",
     "exception": false,
     "start_time": "2022-12-08T00:07:54.881272",
     "status": "completed"
    },
    "tags": []
   },
   "outputs": [
    {
     "data": {
      "text/html": [
       "<div>\n",
       "<style scoped>\n",
       "    .dataframe tbody tr th:only-of-type {\n",
       "        vertical-align: middle;\n",
       "    }\n",
       "\n",
       "    .dataframe tbody tr th {\n",
       "        vertical-align: top;\n",
       "    }\n",
       "\n",
       "    .dataframe thead th {\n",
       "        text-align: right;\n",
       "    }\n",
       "</style>\n",
       "<table border=\"1\" class=\"dataframe\">\n",
       "  <thead>\n",
       "    <tr style=\"text-align: right;\">\n",
       "      <th></th>\n",
       "      <th>id</th>\n",
       "      <th>company_id</th>\n",
       "      <th>provider_id</th>\n",
       "      <th>name</th>\n",
       "      <th>fullname</th>\n",
       "      <th>has_wifi</th>\n",
       "      <th>has_plug</th>\n",
       "      <th>has_adjustable_seats</th>\n",
       "      <th>has_bicycle</th>\n",
       "      <th>transport_type</th>\n",
       "    </tr>\n",
       "  </thead>\n",
       "  <tbody>\n",
       "    <tr>\n",
       "      <th>212</th>\n",
       "      <td>8374</td>\n",
       "      <td>20</td>\n",
       "      <td>NaN</td>\n",
       "      <td>transdev</td>\n",
       "      <td>Transdev</td>\n",
       "      <td>NaN</td>\n",
       "      <td>NaN</td>\n",
       "      <td>NaN</td>\n",
       "      <td>NaN</td>\n",
       "      <td>bus</td>\n",
       "    </tr>\n",
       "    <tr>\n",
       "      <th>224</th>\n",
       "      <td>8387</td>\n",
       "      <td>30</td>\n",
       "      <td>NaN</td>\n",
       "      <td>vatry</td>\n",
       "      <td>Vatry</td>\n",
       "      <td>NaN</td>\n",
       "      <td>NaN</td>\n",
       "      <td>NaN</td>\n",
       "      <td>NaN</td>\n",
       "      <td>bus</td>\n",
       "    </tr>\n",
       "    <tr>\n",
       "      <th>225</th>\n",
       "      <td>8388</td>\n",
       "      <td>40</td>\n",
       "      <td>NaN</td>\n",
       "      <td>beauval</td>\n",
       "      <td>Beauval</td>\n",
       "      <td>NaN</td>\n",
       "      <td>NaN</td>\n",
       "      <td>NaN</td>\n",
       "      <td>NaN</td>\n",
       "      <td>bus</td>\n",
       "    </tr>\n",
       "  </tbody>\n",
       "</table>\n",
       "</div>"
      ],
      "text/plain": [
       "       id  company_id provider_id      name  fullname has_wifi has_plug  \\\n",
       "212  8374          20         NaN  transdev  Transdev      NaN      NaN   \n",
       "224  8387          30         NaN     vatry     Vatry      NaN      NaN   \n",
       "225  8388          40         NaN   beauval   Beauval      NaN      NaN   \n",
       "\n",
       "    has_adjustable_seats has_bicycle transport_type  \n",
       "212                  NaN         NaN            bus  \n",
       "224                  NaN         NaN            bus  \n",
       "225                  NaN         NaN            bus  "
      ]
     },
     "execution_count": 37,
     "metadata": {},
     "output_type": "execute_result"
    }
   ],
   "source": [
    "# Les instances pour lesquelles des valeurs manques\n",
    "providers[providers.has_plug.isna()]"
   ]
  },
  {
   "cell_type": "markdown",
   "id": "2719401d",
   "metadata": {
    "papermill": {
     "duration": 0.021939,
     "end_time": "2022-12-08T00:07:54.969478",
     "exception": false,
     "start_time": "2022-12-08T00:07:54.947539",
     "status": "completed"
    },
    "tags": []
   },
   "source": [
    "Nous observons que :\n",
    "- Seulements trois différentes instances sont concernées par les valeurs manquantes de nos colonnes cibles;\n",
    "- Et que trois différentes compagnies sont impliquées sur ces instances;\n",
    "\n",
    "\n",
    "Nous proposons de nous intéresser aux offres habituelles de ces 3 compagnies sur chacune de nos colonnes cibles."
   ]
  },
  {
   "cell_type": "markdown",
   "id": "fffcab39",
   "metadata": {
    "papermill": {
     "duration": 0.022149,
     "end_time": "2022-12-08T00:07:55.013782",
     "exception": false,
     "start_time": "2022-12-08T00:07:54.991633",
     "status": "completed"
    },
    "tags": []
   },
   "source": [
    "### 1. Compagnie **20**"
   ]
  },
  {
   "cell_type": "code",
   "execution_count": 38,
   "id": "870247d0",
   "metadata": {
    "execution": {
     "iopub.execute_input": "2022-12-08T00:07:55.060644Z",
     "iopub.status.busy": "2022-12-08T00:07:55.060103Z",
     "iopub.status.idle": "2022-12-08T00:07:55.078278Z",
     "shell.execute_reply": "2022-12-08T00:07:55.077476Z"
    },
    "papermill": {
     "duration": 0.044148,
     "end_time": "2022-12-08T00:07:55.080380",
     "exception": false,
     "start_time": "2022-12-08T00:07:55.036232",
     "status": "completed"
    },
    "tags": []
   },
   "outputs": [
    {
     "data": {
      "text/html": [
       "<div>\n",
       "<style scoped>\n",
       "    .dataframe tbody tr th:only-of-type {\n",
       "        vertical-align: middle;\n",
       "    }\n",
       "\n",
       "    .dataframe tbody tr th {\n",
       "        vertical-align: top;\n",
       "    }\n",
       "\n",
       "    .dataframe thead th {\n",
       "        text-align: right;\n",
       "    }\n",
       "</style>\n",
       "<table border=\"1\" class=\"dataframe\">\n",
       "  <thead>\n",
       "    <tr style=\"text-align: right;\">\n",
       "      <th></th>\n",
       "      <th>id</th>\n",
       "      <th>company_id</th>\n",
       "      <th>provider_id</th>\n",
       "      <th>name</th>\n",
       "      <th>fullname</th>\n",
       "      <th>has_wifi</th>\n",
       "      <th>has_plug</th>\n",
       "      <th>has_adjustable_seats</th>\n",
       "      <th>has_bicycle</th>\n",
       "      <th>transport_type</th>\n",
       "    </tr>\n",
       "  </thead>\n",
       "  <tbody>\n",
       "    <tr>\n",
       "      <th>209</th>\n",
       "      <td>8371</td>\n",
       "      <td>20</td>\n",
       "      <td>I</td>\n",
       "      <td>isilines</td>\n",
       "      <td>Isilines</td>\n",
       "      <td>True</td>\n",
       "      <td>True</td>\n",
       "      <td>True</td>\n",
       "      <td>False</td>\n",
       "      <td>bus</td>\n",
       "    </tr>\n",
       "    <tr>\n",
       "      <th>210</th>\n",
       "      <td>8372</td>\n",
       "      <td>20</td>\n",
       "      <td>E</td>\n",
       "      <td>eurolines</td>\n",
       "      <td>Eurolines</td>\n",
       "      <td>False</td>\n",
       "      <td>False</td>\n",
       "      <td>True</td>\n",
       "      <td>False</td>\n",
       "      <td>bus</td>\n",
       "    </tr>\n",
       "    <tr>\n",
       "      <th>211</th>\n",
       "      <td>8373</td>\n",
       "      <td>20</td>\n",
       "      <td>M</td>\n",
       "      <td>movelia</td>\n",
       "      <td>Movelia</td>\n",
       "      <td>False</td>\n",
       "      <td>False</td>\n",
       "      <td>False</td>\n",
       "      <td>False</td>\n",
       "      <td>bus</td>\n",
       "    </tr>\n",
       "    <tr>\n",
       "      <th>212</th>\n",
       "      <td>8374</td>\n",
       "      <td>20</td>\n",
       "      <td>NaN</td>\n",
       "      <td>transdev</td>\n",
       "      <td>Transdev</td>\n",
       "      <td>NaN</td>\n",
       "      <td>NaN</td>\n",
       "      <td>NaN</td>\n",
       "      <td>NaN</td>\n",
       "      <td>bus</td>\n",
       "    </tr>\n",
       "  </tbody>\n",
       "</table>\n",
       "</div>"
      ],
      "text/plain": [
       "       id  company_id provider_id       name   fullname has_wifi has_plug  \\\n",
       "209  8371          20           I   isilines   Isilines     True     True   \n",
       "210  8372          20           E  eurolines  Eurolines    False    False   \n",
       "211  8373          20           M    movelia    Movelia    False    False   \n",
       "212  8374          20         NaN   transdev   Transdev      NaN      NaN   \n",
       "\n",
       "    has_adjustable_seats has_bicycle transport_type  \n",
       "209                 True       False            bus  \n",
       "210                 True       False            bus  \n",
       "211                False       False            bus  \n",
       "212                  NaN         NaN            bus  "
      ]
     },
     "execution_count": 38,
     "metadata": {},
     "output_type": "execute_result"
    }
   ],
   "source": [
    "# Les offres de la compagnie 20\n",
    "providers.query(\"company_id==20\")"
   ]
  },
  {
   "cell_type": "markdown",
   "id": "6e8fbd9f",
   "metadata": {
    "papermill": {
     "duration": 0.023471,
     "end_time": "2022-12-08T00:07:55.127751",
     "exception": false,
     "start_time": "2022-12-08T00:07:55.104280",
     "status": "completed"
    },
    "tags": []
   },
   "source": [
    "En regardant de près les offres de la compagnie 20, nous nous rendons compte que :\n",
    "\n",
    "- la plupart des valeurs des colonnes `has_wifi`, `has_plug` et `has_bicycle` contient la valeur *False*. Pour ces colonnes, nous allons donc remplacer par *False*, la valeur manquante de l'instance de la compagnie 20.\n",
    "- la plupart des valeurs de la colonne `has_adjustable_seats` contient la valeur *True*. Pour cette colonne, nous allons donc remplacer par *True*, la valeur manquante de l'instance de la compagnie 20."
   ]
  },
  {
   "cell_type": "code",
   "execution_count": 39,
   "id": "fcf913aa",
   "metadata": {
    "execution": {
     "iopub.execute_input": "2022-12-08T00:07:55.174580Z",
     "iopub.status.busy": "2022-12-08T00:07:55.174196Z",
     "iopub.status.idle": "2022-12-08T00:07:55.203730Z",
     "shell.execute_reply": "2022-12-08T00:07:55.202363Z"
    },
    "papermill": {
     "duration": 0.056025,
     "end_time": "2022-12-08T00:07:55.206246",
     "exception": false,
     "start_time": "2022-12-08T00:07:55.150221",
     "status": "completed"
    },
    "tags": []
   },
   "outputs": [
    {
     "data": {
      "text/html": [
       "<div>\n",
       "<style scoped>\n",
       "    .dataframe tbody tr th:only-of-type {\n",
       "        vertical-align: middle;\n",
       "    }\n",
       "\n",
       "    .dataframe tbody tr th {\n",
       "        vertical-align: top;\n",
       "    }\n",
       "\n",
       "    .dataframe thead th {\n",
       "        text-align: right;\n",
       "    }\n",
       "</style>\n",
       "<table border=\"1\" class=\"dataframe\">\n",
       "  <thead>\n",
       "    <tr style=\"text-align: right;\">\n",
       "      <th></th>\n",
       "      <th>id</th>\n",
       "      <th>company_id</th>\n",
       "      <th>provider_id</th>\n",
       "      <th>name</th>\n",
       "      <th>fullname</th>\n",
       "      <th>has_wifi</th>\n",
       "      <th>has_plug</th>\n",
       "      <th>has_adjustable_seats</th>\n",
       "      <th>has_bicycle</th>\n",
       "      <th>transport_type</th>\n",
       "    </tr>\n",
       "  </thead>\n",
       "  <tbody>\n",
       "    <tr>\n",
       "      <th>209</th>\n",
       "      <td>8371</td>\n",
       "      <td>20</td>\n",
       "      <td>I</td>\n",
       "      <td>isilines</td>\n",
       "      <td>Isilines</td>\n",
       "      <td>True</td>\n",
       "      <td>True</td>\n",
       "      <td>True</td>\n",
       "      <td>False</td>\n",
       "      <td>bus</td>\n",
       "    </tr>\n",
       "    <tr>\n",
       "      <th>210</th>\n",
       "      <td>8372</td>\n",
       "      <td>20</td>\n",
       "      <td>E</td>\n",
       "      <td>eurolines</td>\n",
       "      <td>Eurolines</td>\n",
       "      <td>False</td>\n",
       "      <td>False</td>\n",
       "      <td>True</td>\n",
       "      <td>False</td>\n",
       "      <td>bus</td>\n",
       "    </tr>\n",
       "    <tr>\n",
       "      <th>211</th>\n",
       "      <td>8373</td>\n",
       "      <td>20</td>\n",
       "      <td>M</td>\n",
       "      <td>movelia</td>\n",
       "      <td>Movelia</td>\n",
       "      <td>False</td>\n",
       "      <td>False</td>\n",
       "      <td>False</td>\n",
       "      <td>False</td>\n",
       "      <td>bus</td>\n",
       "    </tr>\n",
       "    <tr>\n",
       "      <th>212</th>\n",
       "      <td>8374</td>\n",
       "      <td>20</td>\n",
       "      <td>NaN</td>\n",
       "      <td>transdev</td>\n",
       "      <td>Transdev</td>\n",
       "      <td>False</td>\n",
       "      <td>False</td>\n",
       "      <td>True</td>\n",
       "      <td>False</td>\n",
       "      <td>bus</td>\n",
       "    </tr>\n",
       "  </tbody>\n",
       "</table>\n",
       "</div>"
      ],
      "text/plain": [
       "       id  company_id provider_id       name   fullname has_wifi has_plug  \\\n",
       "209  8371          20           I   isilines   Isilines     True     True   \n",
       "210  8372          20           E  eurolines  Eurolines    False    False   \n",
       "211  8373          20           M    movelia    Movelia    False    False   \n",
       "212  8374          20         NaN   transdev   Transdev    False    False   \n",
       "\n",
       "    has_adjustable_seats has_bicycle transport_type  \n",
       "209                 True       False            bus  \n",
       "210                 True       False            bus  \n",
       "211                False       False            bus  \n",
       "212                 True       False            bus  "
      ]
     },
     "execution_count": 39,
     "metadata": {},
     "output_type": "execute_result"
    }
   ],
   "source": [
    "# Remplacement des valeurs manquantes des colonnes \"has_plug\", \"has_wifi\" et \"has_bicycle\"\n",
    "for col in ['has_plug','has_wifi','has_bicycle']:\n",
    "    providers[col][providers.id==8374] = False\n",
    "    \n",
    "# Remplacement de la valeur manquante de colonne \"has_adjustable_seats\"\n",
    "providers['has_adjustable_seats'][providers.id==8374] = True\n",
    "\n",
    "providers.query(\"company_id==20\")"
   ]
  },
  {
   "cell_type": "markdown",
   "id": "8f3a0f4a",
   "metadata": {
    "papermill": {
     "duration": 0.023221,
     "end_time": "2022-12-08T00:07:55.252346",
     "exception": false,
     "start_time": "2022-12-08T00:07:55.229125",
     "status": "completed"
    },
    "tags": []
   },
   "source": [
    "### 2. Compagnies **30** & **40**\n"
   ]
  },
  {
   "cell_type": "code",
   "execution_count": 40,
   "id": "76249ed8",
   "metadata": {
    "execution": {
     "iopub.execute_input": "2022-12-08T00:07:55.300173Z",
     "iopub.status.busy": "2022-12-08T00:07:55.299740Z",
     "iopub.status.idle": "2022-12-08T00:07:55.319794Z",
     "shell.execute_reply": "2022-12-08T00:07:55.318475Z"
    },
    "papermill": {
     "duration": 0.046692,
     "end_time": "2022-12-08T00:07:55.322056",
     "exception": false,
     "start_time": "2022-12-08T00:07:55.275364",
     "status": "completed"
    },
    "tags": []
   },
   "outputs": [
    {
     "data": {
      "text/html": [
       "<div>\n",
       "<style scoped>\n",
       "    .dataframe tbody tr th:only-of-type {\n",
       "        vertical-align: middle;\n",
       "    }\n",
       "\n",
       "    .dataframe tbody tr th {\n",
       "        vertical-align: top;\n",
       "    }\n",
       "\n",
       "    .dataframe thead th {\n",
       "        text-align: right;\n",
       "    }\n",
       "</style>\n",
       "<table border=\"1\" class=\"dataframe\">\n",
       "  <thead>\n",
       "    <tr style=\"text-align: right;\">\n",
       "      <th></th>\n",
       "      <th>id</th>\n",
       "      <th>company_id</th>\n",
       "      <th>provider_id</th>\n",
       "      <th>name</th>\n",
       "      <th>fullname</th>\n",
       "      <th>has_wifi</th>\n",
       "      <th>has_plug</th>\n",
       "      <th>has_adjustable_seats</th>\n",
       "      <th>has_bicycle</th>\n",
       "      <th>transport_type</th>\n",
       "    </tr>\n",
       "  </thead>\n",
       "  <tbody>\n",
       "    <tr>\n",
       "      <th>224</th>\n",
       "      <td>8387</td>\n",
       "      <td>30</td>\n",
       "      <td>NaN</td>\n",
       "      <td>vatry</td>\n",
       "      <td>Vatry</td>\n",
       "      <td>NaN</td>\n",
       "      <td>NaN</td>\n",
       "      <td>NaN</td>\n",
       "      <td>NaN</td>\n",
       "      <td>bus</td>\n",
       "    </tr>\n",
       "    <tr>\n",
       "      <th>225</th>\n",
       "      <td>8388</td>\n",
       "      <td>40</td>\n",
       "      <td>NaN</td>\n",
       "      <td>beauval</td>\n",
       "      <td>Beauval</td>\n",
       "      <td>NaN</td>\n",
       "      <td>NaN</td>\n",
       "      <td>NaN</td>\n",
       "      <td>NaN</td>\n",
       "      <td>bus</td>\n",
       "    </tr>\n",
       "  </tbody>\n",
       "</table>\n",
       "</div>"
      ],
      "text/plain": [
       "       id  company_id provider_id     name fullname has_wifi has_plug  \\\n",
       "224  8387          30         NaN    vatry    Vatry      NaN      NaN   \n",
       "225  8388          40         NaN  beauval  Beauval      NaN      NaN   \n",
       "\n",
       "    has_adjustable_seats has_bicycle transport_type  \n",
       "224                  NaN         NaN            bus  \n",
       "225                  NaN         NaN            bus  "
      ]
     },
     "execution_count": 40,
     "metadata": {},
     "output_type": "execute_result"
    }
   ],
   "source": [
    "# Les offres des compagnies 30 & 40\n",
    "providers.query(\"company_id in [30, 40]\")"
   ]
  },
  {
   "cell_type": "markdown",
   "id": "184159a9",
   "metadata": {
    "papermill": {
     "duration": 0.022851,
     "end_time": "2022-12-08T00:07:55.368156",
     "exception": false,
     "start_time": "2022-12-08T00:07:55.345305",
     "status": "completed"
    },
    "tags": []
   },
   "source": [
    "Aucune des compagnies **30** et **40** ne possède d'autres offres. Nous ne pouvons remplacer les valeurs manquantes de nos colonnes cibles pour ces 2 compagnies avec la méthode précédente. Alors, comment procéder ?\n",
    "\n",
    "Remarquons que le moyen de transport que proposent nos 2 compagnies est le **bus**. Une idée pourrait être de remplacer les valeurs manquantes par les valeurs les plus fréquentes de nos colonnes cibles, pour le type de transport **bus**."
   ]
  },
  {
   "cell_type": "code",
   "execution_count": 41,
   "id": "672de427",
   "metadata": {
    "execution": {
     "iopub.execute_input": "2022-12-08T00:07:55.415281Z",
     "iopub.status.busy": "2022-12-08T00:07:55.414864Z",
     "iopub.status.idle": "2022-12-08T00:07:55.428349Z",
     "shell.execute_reply": "2022-12-08T00:07:55.427160Z"
    },
    "papermill": {
     "duration": 0.039835,
     "end_time": "2022-12-08T00:07:55.430777",
     "exception": false,
     "start_time": "2022-12-08T00:07:55.390942",
     "status": "completed"
    },
    "tags": []
   },
   "outputs": [
    {
     "name": "stdout",
     "output_type": "stream",
     "text": [
      "False    209\n",
      "True       3\n",
      "Name: has_wifi, dtype: int64\n",
      "False    210\n",
      "True       2\n",
      "Name: has_plug, dtype: int64\n",
      "False    207\n",
      "True       5\n",
      "Name: has_adjustable_seats, dtype: int64\n",
      "False    212\n",
      "Name: has_bicycle, dtype: int64\n"
     ]
    }
   ],
   "source": [
    "MISSING_COLONNES = ['has_wifi','has_plug','has_adjustable_seats','has_bicycle'] # Nos colonnes cibles\n",
    "providers_bus = providers.query(\"transport_type=='bus'\") # Les données ayant pour type de transport \"bus\"\n",
    "\n",
    "# les valeurs fréqentes dans chaque colonnes\n",
    "for col in MISSING_COLONNES:\n",
    "    print(providers_bus[col].value_counts())"
   ]
  },
  {
   "cell_type": "markdown",
   "id": "217a3c21",
   "metadata": {
    "papermill": {
     "duration": 0.022946,
     "end_time": "2022-12-08T00:07:55.477156",
     "exception": false,
     "start_time": "2022-12-08T00:07:55.454210",
     "status": "completed"
    },
    "tags": []
   },
   "source": [
    "Nous observons que, pour chacune de nos 4 colonnes, la valeur la plus fréquente est *False*. Nous pouvons ainsi remplacer les valeurs manquantes par *False*, dans chacune de nos 4 colonnes cibles."
   ]
  },
  {
   "cell_type": "code",
   "execution_count": 42,
   "id": "f9257aa6",
   "metadata": {
    "execution": {
     "iopub.execute_input": "2022-12-08T00:07:55.525454Z",
     "iopub.status.busy": "2022-12-08T00:07:55.525062Z",
     "iopub.status.idle": "2022-12-08T00:07:55.541503Z",
     "shell.execute_reply": "2022-12-08T00:07:55.540301Z"
    },
    "papermill": {
     "duration": 0.043169,
     "end_time": "2022-12-08T00:07:55.543792",
     "exception": false,
     "start_time": "2022-12-08T00:07:55.500623",
     "status": "completed"
    },
    "tags": []
   },
   "outputs": [
    {
     "data": {
      "text/plain": [
       "has_wifi                False\n",
       "has_plug                False\n",
       "has_adjustable_seats    False\n",
       "has_bicycle             False\n",
       "dtype: bool"
      ]
     },
     "execution_count": 42,
     "metadata": {},
     "output_type": "execute_result"
    }
   ],
   "source": [
    "# Remplacement des valeurs null par la valeur \"False\", dans chacune des 4 colonnes\n",
    "for col in MISSING_COLONNES:\n",
    "    providers[col] = providers[col].fillna(False)\n",
    "\n",
    "# Aucune de nos 4 colonnes ne contient de valeur null\n",
    "providers[MISSING_COLONNES].isna().any()"
   ]
  },
  {
   "cell_type": "code",
   "execution_count": null,
   "id": "e3eda6d7",
   "metadata": {
    "papermill": {
     "duration": 0.022784,
     "end_time": "2022-12-08T00:07:55.589539",
     "exception": false,
     "start_time": "2022-12-08T00:07:55.566755",
     "status": "completed"
    },
    "tags": []
   },
   "outputs": [],
   "source": []
  },
  {
   "cell_type": "code",
   "execution_count": null,
   "id": "2b23d923",
   "metadata": {
    "papermill": {
     "duration": 0.022508,
     "end_time": "2022-12-08T00:07:55.635000",
     "exception": false,
     "start_time": "2022-12-08T00:07:55.612492",
     "status": "completed"
    },
    "tags": []
   },
   "outputs": [],
   "source": []
  },
  {
   "cell_type": "markdown",
   "id": "0e0adc33",
   "metadata": {
    "papermill": {
     "duration": 0.022386,
     "end_time": "2022-12-08T00:07:55.680050",
     "exception": false,
     "start_time": "2022-12-08T00:07:55.657664",
     "status": "completed"
    },
    "tags": []
   },
   "source": [
    "# Ressources\n",
    "\n",
    "> [Calcul de durée par trajet](https://jamesrledoux.com/code/group-by-aggregate-pandas)\n",
    "\n",
    "> [Calcul de distance entre deux points](https://stackoverflow.com/questions/19412462/getting-distance-between-two-points-based-on-latitude-longitude)"
   ]
  }
 ],
 "metadata": {
  "kernelspec": {
   "display_name": "Python 3",
   "language": "python",
   "name": "python3"
  },
  "language_info": {
   "codemirror_mode": {
    "name": "ipython",
    "version": 3
   },
   "file_extension": ".py",
   "mimetype": "text/x-python",
   "name": "python",
   "nbconvert_exporter": "python",
   "pygments_lexer": "ipython3",
   "version": "3.7.12"
  },
  "papermill": {
   "default_parameters": {},
   "duration": 564.039754,
   "end_time": "2022-12-08T00:07:56.628894",
   "environment_variables": {},
   "exception": null,
   "input_path": "__notebook__.ipynb",
   "output_path": "__notebook__.ipynb",
   "parameters": {},
   "start_time": "2022-12-07T23:58:32.589140",
   "version": "2.3.4"
  }
 },
 "nbformat": 4,
 "nbformat_minor": 5
}
