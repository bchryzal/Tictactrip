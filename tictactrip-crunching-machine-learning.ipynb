{
 "cells": [
  {
   "cell_type": "markdown",
   "id": "435e314b",
   "metadata": {
    "papermill": {
     "duration": 0.01395,
     "end_time": "2022-12-07T12:46:04.646737",
     "exception": false,
     "start_time": "2022-12-07T12:46:04.632787",
     "status": "completed"
    },
    "tags": []
   },
   "source": [
    "# Tictactrip : Crunching de data\n",
    "\n",
    "### Objectifs\n",
    "\n",
    "- Extraire des infos intéressantes type :\n",
    "    - prix min, moyen et max\n",
    "    - durée min, max, moyenne par trajet\n",
    "\n",
    "\n",
    "- Différence de prix moyen et durée selon le train, le bus et le covoit selon la distance du trajet\n",
    "    \n",
    "    Par exemple (0-200km, 201-800km, 800-2000km, 2000+km)\n",
    "    \n",
    "- Le plus d’infos bonus !\n",
    "    \n",
    "    Comme par exemple : *Graphes, prédictions de prix, rapport des soucis relevés dans les données, visualisation interactive, sourcing & utilisation de données externes pertinentes, utilisation d’API externes* \n",
    "\n",
    "\n",
    "### Méthodologie\n",
    "\n",
    "- Chargement et compréhension des Données\n",
    "- Extraction d'informations sur les données\n",
    "- Comparaisons (suivant le prix et durée) des méthodes de transport par tranche de distance\n",
    "- Bonus : \n",
    "- Ressources"
   ]
  },
  {
   "cell_type": "code",
   "execution_count": 1,
   "id": "1c3bd93e",
   "metadata": {
    "_cell_guid": "b1076dfc-b9ad-4769-8c92-a6c4dae69d19",
    "_kg_hide-input": true,
    "_uuid": "8f2839f25d086af736a60e9eeb907d3b93b6e0e5",
    "execution": {
     "iopub.execute_input": "2022-12-07T12:46:04.675022Z",
     "iopub.status.busy": "2022-12-07T12:46:04.674290Z",
     "iopub.status.idle": "2022-12-07T12:46:06.479000Z",
     "shell.execute_reply": "2022-12-07T12:46:06.478266Z"
    },
    "papermill": {
     "duration": 1.822229,
     "end_time": "2022-12-07T12:46:06.481418",
     "exception": false,
     "start_time": "2022-12-07T12:46:04.659189",
     "status": "completed"
    },
    "tags": []
   },
   "outputs": [],
   "source": [
    "import numpy as np # linear algebra\n",
    "import pandas as pd # data processing, CSV file I/O (e.g. pd.read_csv)\n",
    "\n",
    "import gc\n",
    "\n",
    "import matplotlib.pyplot as plt\n",
    "import seaborn as sns\n",
    "\n",
    "import plotly.express as px\n",
    "import plotly.graph_objects as go\n",
    "\n",
    "import warnings\n",
    "warnings.filterwarnings('ignore')\n",
    "\n",
    "cmo = sns.light_palette(\"orange\", as_cmap=True)\n",
    "cmg = sns.light_palette(\"green\", as_cmap=True)\n",
    "cmb = sns.light_palette(\"blue\", as_cmap=True)\n",
    "cmr = sns.light_palette(\"red\", as_cmap=True)"
   ]
  },
  {
   "cell_type": "markdown",
   "id": "7783e5c1",
   "metadata": {
    "papermill": {
     "duration": 0.011897,
     "end_time": "2022-12-07T12:46:06.505806",
     "exception": false,
     "start_time": "2022-12-07T12:46:06.493909",
     "status": "completed"
    },
    "tags": []
   },
   "source": [
    "<div style=\"background-color:#5bbbcf;padding:2px;border-radius:4px\">  \n",
    "    <h1 align=\"center\" style=\"color:white;\">0. Chargement et compréhension des données</h1>  \n",
    "</div>"
   ]
  },
  {
   "cell_type": "markdown",
   "id": "b0226ef8",
   "metadata": {
    "papermill": {
     "duration": 0.011843,
     "end_time": "2022-12-07T12:46:06.529336",
     "exception": false,
     "start_time": "2022-12-07T12:46:06.517493",
     "status": "completed"
    },
    "tags": []
   },
   "source": [
    "### Chargement des données"
   ]
  },
  {
   "cell_type": "code",
   "execution_count": 2,
   "id": "bcb5b8ad",
   "metadata": {
    "execution": {
     "iopub.execute_input": "2022-12-07T12:46:06.559132Z",
     "iopub.status.busy": "2022-12-07T12:46:06.558351Z",
     "iopub.status.idle": "2022-12-07T12:46:06.867120Z",
     "shell.execute_reply": "2022-12-07T12:46:06.866455Z"
    },
    "papermill": {
     "duration": 0.327054,
     "end_time": "2022-12-07T12:46:06.869511",
     "exception": false,
     "start_time": "2022-12-07T12:46:06.542457",
     "status": "completed"
    },
    "tags": []
   },
   "outputs": [
    {
     "data": {
      "text/plain": [
       "((8040, 6), (227, 10), (11035, 4), (74168, 12))"
      ]
     },
     "execution_count": 2,
     "metadata": {},
     "output_type": "execute_result"
    }
   ],
   "source": [
    "cities = pd.read_csv('/kaggle/input/tictactrip/cities.csv')\n",
    "providers = pd.read_csv('/kaggle/input/tictactrip/providers.csv')\n",
    "stations = pd.read_csv('/kaggle/input/tictactrip/stations.csv')\n",
    "ticket_data = pd.read_csv('/kaggle/input/tictactrip/ticket_data.csv')\n",
    "\n",
    "cities.shape, providers.shape, stations.shape, ticket_data.shape"
   ]
  },
  {
   "cell_type": "markdown",
   "id": "26ac099b",
   "metadata": {
    "papermill": {
     "duration": 0.012093,
     "end_time": "2022-12-07T12:46:06.894145",
     "exception": false,
     "start_time": "2022-12-07T12:46:06.882052",
     "status": "completed"
    },
    "tags": []
   },
   "source": [
    "### Compréhension des données"
   ]
  },
  {
   "cell_type": "markdown",
   "id": "58f844fd",
   "metadata": {
    "papermill": {
     "duration": 0.011459,
     "end_time": "2022-12-07T12:46:06.917472",
     "exception": false,
     "start_time": "2022-12-07T12:46:06.906013",
     "status": "completed"
    },
    "tags": []
   },
   "source": [
    "#### Villes\n",
    "\n",
    "Le dataset `cities` contient des informations sur les villes desservies par tictactrip. On peut y trouver des informations comme latitude, longitude, nom, population de chaque ville.\n",
    "\n",
    "Nous disposons de **8040** instances de données dans ce dataset."
   ]
  },
  {
   "cell_type": "code",
   "execution_count": 3,
   "id": "13a8fbca",
   "metadata": {
    "execution": {
     "iopub.execute_input": "2022-12-07T12:46:06.943253Z",
     "iopub.status.busy": "2022-12-07T12:46:06.942884Z",
     "iopub.status.idle": "2022-12-07T12:46:06.960044Z",
     "shell.execute_reply": "2022-12-07T12:46:06.959085Z"
    },
    "papermill": {
     "duration": 0.032459,
     "end_time": "2022-12-07T12:46:06.962073",
     "exception": false,
     "start_time": "2022-12-07T12:46:06.929614",
     "status": "completed"
    },
    "tags": []
   },
   "outputs": [
    {
     "name": "stdout",
     "output_type": "stream",
     "text": [
      "Instances de données disponibles : 8040 \n",
      "\n"
     ]
    },
    {
     "data": {
      "text/html": [
       "<div>\n",
       "<style scoped>\n",
       "    .dataframe tbody tr th:only-of-type {\n",
       "        vertical-align: middle;\n",
       "    }\n",
       "\n",
       "    .dataframe tbody tr th {\n",
       "        vertical-align: top;\n",
       "    }\n",
       "\n",
       "    .dataframe thead th {\n",
       "        text-align: right;\n",
       "    }\n",
       "</style>\n",
       "<table border=\"1\" class=\"dataframe\">\n",
       "  <thead>\n",
       "    <tr style=\"text-align: right;\">\n",
       "      <th></th>\n",
       "      <th>id</th>\n",
       "      <th>local_name</th>\n",
       "      <th>unique_name</th>\n",
       "      <th>latitude</th>\n",
       "      <th>longitude</th>\n",
       "      <th>population</th>\n",
       "    </tr>\n",
       "  </thead>\n",
       "  <tbody>\n",
       "    <tr>\n",
       "      <th>0</th>\n",
       "      <td>5159</td>\n",
       "      <td>Padua, Veneto, Italia</td>\n",
       "      <td>padua</td>\n",
       "      <td>45.406435</td>\n",
       "      <td>11.876761</td>\n",
       "      <td>209678.0</td>\n",
       "    </tr>\n",
       "    <tr>\n",
       "      <th>1</th>\n",
       "      <td>76</td>\n",
       "      <td>Barcelona, Cataluña, España</td>\n",
       "      <td>barcelona</td>\n",
       "      <td>41.385064</td>\n",
       "      <td>2.173404</td>\n",
       "      <td>1611822.0</td>\n",
       "    </tr>\n",
       "    <tr>\n",
       "      <th>2</th>\n",
       "      <td>81</td>\n",
       "      <td>Basel, Basel-Stadt, Schweiz</td>\n",
       "      <td>basel</td>\n",
       "      <td>47.593437</td>\n",
       "      <td>7.619812</td>\n",
       "      <td>NaN</td>\n",
       "    </tr>\n",
       "    <tr>\n",
       "      <th>3</th>\n",
       "      <td>259</td>\n",
       "      <td>Erlangen, Bayern, Deutschland</td>\n",
       "      <td>erlangen</td>\n",
       "      <td>49.589674</td>\n",
       "      <td>11.011961</td>\n",
       "      <td>105412.0</td>\n",
       "    </tr>\n",
       "    <tr>\n",
       "      <th>4</th>\n",
       "      <td>11979</td>\n",
       "      <td>Balș, Olt, România</td>\n",
       "      <td>balș</td>\n",
       "      <td>44.353354</td>\n",
       "      <td>24.095672</td>\n",
       "      <td>NaN</td>\n",
       "    </tr>\n",
       "  </tbody>\n",
       "</table>\n",
       "</div>"
      ],
      "text/plain": [
       "      id                     local_name unique_name   latitude  longitude  \\\n",
       "0   5159          Padua, Veneto, Italia       padua  45.406435  11.876761   \n",
       "1     76    Barcelona, Cataluña, España   barcelona  41.385064   2.173404   \n",
       "2     81    Basel, Basel-Stadt, Schweiz       basel  47.593437   7.619812   \n",
       "3    259  Erlangen, Bayern, Deutschland    erlangen  49.589674  11.011961   \n",
       "4  11979             Balș, Olt, România        balș  44.353354  24.095672   \n",
       "\n",
       "   population  \n",
       "0    209678.0  \n",
       "1   1611822.0  \n",
       "2         NaN  \n",
       "3    105412.0  \n",
       "4         NaN  "
      ]
     },
     "execution_count": 3,
     "metadata": {},
     "output_type": "execute_result"
    }
   ],
   "source": [
    "print(f\"Instances de données disponibles : {cities.shape[0]} \\n\")\n",
    "cities.head()"
   ]
  },
  {
   "cell_type": "code",
   "execution_count": 4,
   "id": "0ce9b39a",
   "metadata": {
    "execution": {
     "iopub.execute_input": "2022-12-07T12:46:06.988117Z",
     "iopub.status.busy": "2022-12-07T12:46:06.987597Z",
     "iopub.status.idle": "2022-12-07T12:46:07.007992Z",
     "shell.execute_reply": "2022-12-07T12:46:07.007155Z"
    },
    "papermill": {
     "duration": 0.035778,
     "end_time": "2022-12-07T12:46:07.010061",
     "exception": false,
     "start_time": "2022-12-07T12:46:06.974283",
     "status": "completed"
    },
    "tags": []
   },
   "outputs": [
    {
     "data": {
      "text/html": [
       "<div>\n",
       "<style scoped>\n",
       "    .dataframe tbody tr th:only-of-type {\n",
       "        vertical-align: middle;\n",
       "    }\n",
       "\n",
       "    .dataframe tbody tr th {\n",
       "        vertical-align: top;\n",
       "    }\n",
       "\n",
       "    .dataframe thead th {\n",
       "        text-align: right;\n",
       "    }\n",
       "</style>\n",
       "<table border=\"1\" class=\"dataframe\">\n",
       "  <thead>\n",
       "    <tr style=\"text-align: right;\">\n",
       "      <th></th>\n",
       "      <th>id</th>\n",
       "      <th>local_name</th>\n",
       "      <th>unique_name</th>\n",
       "      <th>latitude</th>\n",
       "      <th>longitude</th>\n",
       "      <th>population</th>\n",
       "    </tr>\n",
       "  </thead>\n",
       "  <tbody>\n",
       "    <tr>\n",
       "      <th>2630</th>\n",
       "      <td>542</td>\n",
       "      <td>Montpellier, Occitanie, France</td>\n",
       "      <td>montpellier</td>\n",
       "      <td>43.604452</td>\n",
       "      <td>3.918318</td>\n",
       "      <td>275318.0</td>\n",
       "    </tr>\n",
       "  </tbody>\n",
       "</table>\n",
       "</div>"
      ],
      "text/plain": [
       "       id                      local_name  unique_name   latitude  longitude  \\\n",
       "2630  542  Montpellier, Occitanie, France  montpellier  43.604452   3.918318   \n",
       "\n",
       "      population  \n",
       "2630    275318.0  "
      ]
     },
     "execution_count": 4,
     "metadata": {},
     "output_type": "execute_result"
    }
   ],
   "source": [
    "cities.query(\"id == 542\")"
   ]
  },
  {
   "cell_type": "markdown",
   "id": "eabc6cf2",
   "metadata": {
    "papermill": {
     "duration": 0.012045,
     "end_time": "2022-12-07T12:46:07.035329",
     "exception": false,
     "start_time": "2022-12-07T12:46:07.023284",
     "status": "completed"
    },
    "tags": []
   },
   "source": [
    "#### Fournisseurs (Prestataires)\n",
    "\n",
    "Le dataset `providers` contient des informations sur les différents fournisseurs. Un fournisseurs est une \"sous-compagnie\". On peut y trouver des informations comme le nom des fournisseurs, les identifiants des compagnies, les moyens de transport que propose chaque compagnie, les caractéristiques des moyens de transport, etc...\n",
    "\n",
    "Il y a **227** instances de données disponibles dans ce dataset."
   ]
  },
  {
   "cell_type": "code",
   "execution_count": 5,
   "id": "b4e6bf5c",
   "metadata": {
    "execution": {
     "iopub.execute_input": "2022-12-07T12:46:07.061282Z",
     "iopub.status.busy": "2022-12-07T12:46:07.060264Z",
     "iopub.status.idle": "2022-12-07T12:46:07.074732Z",
     "shell.execute_reply": "2022-12-07T12:46:07.073716Z"
    },
    "papermill": {
     "duration": 0.029516,
     "end_time": "2022-12-07T12:46:07.076662",
     "exception": false,
     "start_time": "2022-12-07T12:46:07.047146",
     "status": "completed"
    },
    "tags": []
   },
   "outputs": [
    {
     "name": "stdout",
     "output_type": "stream",
     "text": [
      "Instances de données disponibles : 227 \n",
      "\n"
     ]
    },
    {
     "data": {
      "text/html": [
       "<div>\n",
       "<style scoped>\n",
       "    .dataframe tbody tr th:only-of-type {\n",
       "        vertical-align: middle;\n",
       "    }\n",
       "\n",
       "    .dataframe tbody tr th {\n",
       "        vertical-align: top;\n",
       "    }\n",
       "\n",
       "    .dataframe thead th {\n",
       "        text-align: right;\n",
       "    }\n",
       "</style>\n",
       "<table border=\"1\" class=\"dataframe\">\n",
       "  <thead>\n",
       "    <tr style=\"text-align: right;\">\n",
       "      <th></th>\n",
       "      <th>id</th>\n",
       "      <th>company_id</th>\n",
       "      <th>provider_id</th>\n",
       "      <th>name</th>\n",
       "      <th>fullname</th>\n",
       "      <th>has_wifi</th>\n",
       "      <th>has_plug</th>\n",
       "      <th>has_adjustable_seats</th>\n",
       "      <th>has_bicycle</th>\n",
       "      <th>transport_type</th>\n",
       "    </tr>\n",
       "  </thead>\n",
       "  <tbody>\n",
       "    <tr>\n",
       "      <th>0</th>\n",
       "      <td>9</td>\n",
       "      <td>1</td>\n",
       "      <td>NaN</td>\n",
       "      <td>ouibus</td>\n",
       "      <td>Ouibus</td>\n",
       "      <td>True</td>\n",
       "      <td>True</td>\n",
       "      <td>True</td>\n",
       "      <td>False</td>\n",
       "      <td>bus</td>\n",
       "    </tr>\n",
       "    <tr>\n",
       "      <th>1</th>\n",
       "      <td>10</td>\n",
       "      <td>2</td>\n",
       "      <td>NaN</td>\n",
       "      <td>deinbus</td>\n",
       "      <td>Deinbus.de</td>\n",
       "      <td>False</td>\n",
       "      <td>False</td>\n",
       "      <td>False</td>\n",
       "      <td>False</td>\n",
       "      <td>bus</td>\n",
       "    </tr>\n",
       "    <tr>\n",
       "      <th>2</th>\n",
       "      <td>11</td>\n",
       "      <td>3</td>\n",
       "      <td>NaN</td>\n",
       "      <td>infobus</td>\n",
       "      <td>Infobus</td>\n",
       "      <td>False</td>\n",
       "      <td>False</td>\n",
       "      <td>False</td>\n",
       "      <td>False</td>\n",
       "      <td>bus</td>\n",
       "    </tr>\n",
       "    <tr>\n",
       "      <th>3</th>\n",
       "      <td>12</td>\n",
       "      <td>4</td>\n",
       "      <td>NaN</td>\n",
       "      <td>studentAgency</td>\n",
       "      <td>Student Agency</td>\n",
       "      <td>False</td>\n",
       "      <td>False</td>\n",
       "      <td>False</td>\n",
       "      <td>False</td>\n",
       "      <td>bus</td>\n",
       "    </tr>\n",
       "    <tr>\n",
       "      <th>4</th>\n",
       "      <td>13</td>\n",
       "      <td>5</td>\n",
       "      <td>NaN</td>\n",
       "      <td>flixbus</td>\n",
       "      <td>Flixbus</td>\n",
       "      <td>True</td>\n",
       "      <td>False</td>\n",
       "      <td>False</td>\n",
       "      <td>False</td>\n",
       "      <td>bus</td>\n",
       "    </tr>\n",
       "  </tbody>\n",
       "</table>\n",
       "</div>"
      ],
      "text/plain": [
       "   id  company_id provider_id           name        fullname has_wifi  \\\n",
       "0   9           1         NaN         ouibus          Ouibus     True   \n",
       "1  10           2         NaN        deinbus      Deinbus.de    False   \n",
       "2  11           3         NaN        infobus         Infobus    False   \n",
       "3  12           4         NaN  studentAgency  Student Agency    False   \n",
       "4  13           5         NaN        flixbus         Flixbus     True   \n",
       "\n",
       "  has_plug has_adjustable_seats has_bicycle transport_type  \n",
       "0     True                 True       False            bus  \n",
       "1    False                False       False            bus  \n",
       "2    False                False       False            bus  \n",
       "3    False                False       False            bus  \n",
       "4    False                False       False            bus  "
      ]
     },
     "execution_count": 5,
     "metadata": {},
     "output_type": "execute_result"
    }
   ],
   "source": [
    "print(f\"Instances de données disponibles : {providers.shape[0]} \\n\")\n",
    "providers.head()"
   ]
  },
  {
   "cell_type": "code",
   "execution_count": 6,
   "id": "cc7150cc",
   "metadata": {
    "execution": {
     "iopub.execute_input": "2022-12-07T12:46:07.106307Z",
     "iopub.status.busy": "2022-12-07T12:46:07.105996Z",
     "iopub.status.idle": "2022-12-07T12:46:07.115939Z",
     "shell.execute_reply": "2022-12-07T12:46:07.115088Z"
    },
    "papermill": {
     "duration": 0.028437,
     "end_time": "2022-12-07T12:46:07.117748",
     "exception": false,
     "start_time": "2022-12-07T12:46:07.089311",
     "status": "completed"
    },
    "tags": []
   },
   "outputs": [
    {
     "data": {
      "text/plain": [
       "bus           214\n",
       "train          10\n",
       "carpooling      2\n",
       "car             1\n",
       "Name: transport_type, dtype: int64"
      ]
     },
     "execution_count": 6,
     "metadata": {},
     "output_type": "execute_result"
    }
   ],
   "source": [
    "# Différents moyens de transport disponible\n",
    "providers.transport_type.value_counts()"
   ]
  },
  {
   "cell_type": "markdown",
   "id": "a226218d",
   "metadata": {
    "papermill": {
     "duration": 0.012297,
     "end_time": "2022-12-07T12:46:07.142356",
     "exception": false,
     "start_time": "2022-12-07T12:46:07.130059",
     "status": "completed"
    },
    "tags": []
   },
   "source": [
    "Nous remarquons dans ce dataset que les 227 différents moyens de transport sont réparti de manière suivante : \n",
    "\n",
    "- 214 **bus**;\n",
    "- 10 **train**;\n",
    "- 2 **carpooling** (covoiturage);\n",
    "- 1 **car** (voiture)."
   ]
  },
  {
   "cell_type": "markdown",
   "id": "5d7f6a37",
   "metadata": {
    "papermill": {
     "duration": 0.012045,
     "end_time": "2022-12-07T12:46:07.166934",
     "exception": false,
     "start_time": "2022-12-07T12:46:07.154889",
     "status": "completed"
    },
    "tags": []
   },
   "source": [
    "#### Stations\n",
    "\n",
    "Le dataset `stations` contient des informations sur les stations desservies par tictactrip. On peut y trouver des informations comme latitude, longitude, nom de chaque station. \n",
    "\n",
    "Nous avons la présence de **11035** instances de données dans ce dataset."
   ]
  },
  {
   "cell_type": "code",
   "execution_count": 7,
   "id": "80d5da95",
   "metadata": {
    "execution": {
     "iopub.execute_input": "2022-12-07T12:46:07.193640Z",
     "iopub.status.busy": "2022-12-07T12:46:07.193258Z",
     "iopub.status.idle": "2022-12-07T12:46:07.204144Z",
     "shell.execute_reply": "2022-12-07T12:46:07.202762Z"
    },
    "papermill": {
     "duration": 0.026631,
     "end_time": "2022-12-07T12:46:07.206261",
     "exception": false,
     "start_time": "2022-12-07T12:46:07.179630",
     "status": "completed"
    },
    "tags": []
   },
   "outputs": [
    {
     "name": "stdout",
     "output_type": "stream",
     "text": [
      "Instances de données disponibles : 11035 \n",
      "\n"
     ]
    },
    {
     "data": {
      "text/html": [
       "<div>\n",
       "<style scoped>\n",
       "    .dataframe tbody tr th:only-of-type {\n",
       "        vertical-align: middle;\n",
       "    }\n",
       "\n",
       "    .dataframe tbody tr th {\n",
       "        vertical-align: top;\n",
       "    }\n",
       "\n",
       "    .dataframe thead th {\n",
       "        text-align: right;\n",
       "    }\n",
       "</style>\n",
       "<table border=\"1\" class=\"dataframe\">\n",
       "  <thead>\n",
       "    <tr style=\"text-align: right;\">\n",
       "      <th></th>\n",
       "      <th>id</th>\n",
       "      <th>unique_name</th>\n",
       "      <th>latitude</th>\n",
       "      <th>longitude</th>\n",
       "    </tr>\n",
       "  </thead>\n",
       "  <tbody>\n",
       "    <tr>\n",
       "      <th>0</th>\n",
       "      <td>1</td>\n",
       "      <td>Aalen (Stuttgarter Straße)</td>\n",
       "      <td>48.835296</td>\n",
       "      <td>10.092956</td>\n",
       "    </tr>\n",
       "    <tr>\n",
       "      <th>1</th>\n",
       "      <td>2</td>\n",
       "      <td>Aéroport Bordeaux-Mérignac</td>\n",
       "      <td>44.830226</td>\n",
       "      <td>-0.700883</td>\n",
       "    </tr>\n",
       "    <tr>\n",
       "      <th>2</th>\n",
       "      <td>3</td>\n",
       "      <td>Aéroport CDG</td>\n",
       "      <td>49.009900</td>\n",
       "      <td>2.559310</td>\n",
       "    </tr>\n",
       "    <tr>\n",
       "      <th>3</th>\n",
       "      <td>4</td>\n",
       "      <td>Aéroport de Berlin-Schönefeld</td>\n",
       "      <td>52.389446</td>\n",
       "      <td>13.520345</td>\n",
       "    </tr>\n",
       "    <tr>\n",
       "      <th>4</th>\n",
       "      <td>5</td>\n",
       "      <td>Aéroport de Dresden</td>\n",
       "      <td>51.123604</td>\n",
       "      <td>13.764737</td>\n",
       "    </tr>\n",
       "  </tbody>\n",
       "</table>\n",
       "</div>"
      ],
      "text/plain": [
       "   id                     unique_name   latitude  longitude\n",
       "0   1      Aalen (Stuttgarter Straße)  48.835296  10.092956\n",
       "1   2      Aéroport Bordeaux-Mérignac  44.830226  -0.700883\n",
       "2   3                   Aéroport CDG   49.009900   2.559310\n",
       "3   4  Aéroport de Berlin-Schönefeld   52.389446  13.520345\n",
       "4   5             Aéroport de Dresden  51.123604  13.764737"
      ]
     },
     "execution_count": 7,
     "metadata": {},
     "output_type": "execute_result"
    }
   ],
   "source": [
    "print(f\"Instances de données disponibles : {stations.shape[0]} \\n\")\n",
    "stations.head()"
   ]
  },
  {
   "cell_type": "markdown",
   "id": "8770f49b",
   "metadata": {
    "papermill": {
     "duration": 0.012792,
     "end_time": "2022-12-07T12:46:07.232019",
     "exception": false,
     "start_time": "2022-12-07T12:46:07.219227",
     "status": "completed"
    },
    "tags": []
   },
   "source": [
    "#### Tickets\n",
    "\n",
    "Le dataset `ticket_data` contient des informations sur les tickets desservies par tictactrip. On peut y trouver des informations comme les trajets, les identifiants des villes de départ et d'arrivé, le prix de chaque trajet, etc... \n",
    "\n",
    "Nous avons **74168** instances de données disponibles dans ce dataset."
   ]
  },
  {
   "cell_type": "code",
   "execution_count": 8,
   "id": "25a84332",
   "metadata": {
    "execution": {
     "iopub.execute_input": "2022-12-07T12:46:07.259776Z",
     "iopub.status.busy": "2022-12-07T12:46:07.258990Z",
     "iopub.status.idle": "2022-12-07T12:46:07.274435Z",
     "shell.execute_reply": "2022-12-07T12:46:07.273475Z"
    },
    "papermill": {
     "duration": 0.030991,
     "end_time": "2022-12-07T12:46:07.276136",
     "exception": false,
     "start_time": "2022-12-07T12:46:07.245145",
     "status": "completed"
    },
    "tags": []
   },
   "outputs": [
    {
     "name": "stdout",
     "output_type": "stream",
     "text": [
      "Instances de données disponibles : 74168 \n",
      "\n"
     ]
    },
    {
     "data": {
      "text/html": [
       "<div>\n",
       "<style scoped>\n",
       "    .dataframe tbody tr th:only-of-type {\n",
       "        vertical-align: middle;\n",
       "    }\n",
       "\n",
       "    .dataframe tbody tr th {\n",
       "        vertical-align: top;\n",
       "    }\n",
       "\n",
       "    .dataframe thead th {\n",
       "        text-align: right;\n",
       "    }\n",
       "</style>\n",
       "<table border=\"1\" class=\"dataframe\">\n",
       "  <thead>\n",
       "    <tr style=\"text-align: right;\">\n",
       "      <th></th>\n",
       "      <th>id</th>\n",
       "      <th>company</th>\n",
       "      <th>o_station</th>\n",
       "      <th>d_station</th>\n",
       "      <th>departure_ts</th>\n",
       "      <th>arrival_ts</th>\n",
       "      <th>price_in_cents</th>\n",
       "      <th>search_ts</th>\n",
       "      <th>middle_stations</th>\n",
       "      <th>other_companies</th>\n",
       "      <th>o_city</th>\n",
       "      <th>d_city</th>\n",
       "    </tr>\n",
       "  </thead>\n",
       "  <tbody>\n",
       "    <tr>\n",
       "      <th>0</th>\n",
       "      <td>6795025</td>\n",
       "      <td>8385</td>\n",
       "      <td>NaN</td>\n",
       "      <td>NaN</td>\n",
       "      <td>2017-10-13 14:00:00+00</td>\n",
       "      <td>2017-10-13 20:10:00+00</td>\n",
       "      <td>4550</td>\n",
       "      <td>2017-10-01 00:13:31.327+00</td>\n",
       "      <td>NaN</td>\n",
       "      <td>NaN</td>\n",
       "      <td>611</td>\n",
       "      <td>542</td>\n",
       "    </tr>\n",
       "    <tr>\n",
       "      <th>1</th>\n",
       "      <td>6795026</td>\n",
       "      <td>9</td>\n",
       "      <td>63.0</td>\n",
       "      <td>1044.0</td>\n",
       "      <td>2017-10-13 13:05:00+00</td>\n",
       "      <td>2017-10-14 06:55:00+00</td>\n",
       "      <td>1450</td>\n",
       "      <td>2017-10-01 00:13:35.773+00</td>\n",
       "      <td>{149,418}</td>\n",
       "      <td>{13}</td>\n",
       "      <td>611</td>\n",
       "      <td>542</td>\n",
       "    </tr>\n",
       "    <tr>\n",
       "      <th>2</th>\n",
       "      <td>6795027</td>\n",
       "      <td>8377</td>\n",
       "      <td>5905.0</td>\n",
       "      <td>6495.0</td>\n",
       "      <td>2017-10-13 13:27:00+00</td>\n",
       "      <td>2017-10-14 21:24:00+00</td>\n",
       "      <td>7400</td>\n",
       "      <td>2017-10-01 00:13:40.212+00</td>\n",
       "      <td>{798,798,6794,6246}</td>\n",
       "      <td>{8377,8376}</td>\n",
       "      <td>611</td>\n",
       "      <td>542</td>\n",
       "    </tr>\n",
       "    <tr>\n",
       "      <th>3</th>\n",
       "      <td>6795028</td>\n",
       "      <td>8377</td>\n",
       "      <td>5905.0</td>\n",
       "      <td>6495.0</td>\n",
       "      <td>2017-10-13 13:27:00+00</td>\n",
       "      <td>2017-10-14 11:02:00+00</td>\n",
       "      <td>13500</td>\n",
       "      <td>2017-10-01 00:13:40.213+00</td>\n",
       "      <td>{798,798,6794,6246}</td>\n",
       "      <td>{8377,8376}</td>\n",
       "      <td>611</td>\n",
       "      <td>542</td>\n",
       "    </tr>\n",
       "    <tr>\n",
       "      <th>4</th>\n",
       "      <td>6795029</td>\n",
       "      <td>8381</td>\n",
       "      <td>5905.0</td>\n",
       "      <td>6495.0</td>\n",
       "      <td>2017-10-13 21:46:00+00</td>\n",
       "      <td>2017-10-14 19:32:00+00</td>\n",
       "      <td>7710</td>\n",
       "      <td>2017-10-01 00:13:40.213+00</td>\n",
       "      <td>{5983,5983}</td>\n",
       "      <td>{8380}</td>\n",
       "      <td>611</td>\n",
       "      <td>542</td>\n",
       "    </tr>\n",
       "  </tbody>\n",
       "</table>\n",
       "</div>"
      ],
      "text/plain": [
       "        id  company  o_station  d_station            departure_ts  \\\n",
       "0  6795025     8385        NaN        NaN  2017-10-13 14:00:00+00   \n",
       "1  6795026        9       63.0     1044.0  2017-10-13 13:05:00+00   \n",
       "2  6795027     8377     5905.0     6495.0  2017-10-13 13:27:00+00   \n",
       "3  6795028     8377     5905.0     6495.0  2017-10-13 13:27:00+00   \n",
       "4  6795029     8381     5905.0     6495.0  2017-10-13 21:46:00+00   \n",
       "\n",
       "               arrival_ts  price_in_cents                   search_ts  \\\n",
       "0  2017-10-13 20:10:00+00            4550  2017-10-01 00:13:31.327+00   \n",
       "1  2017-10-14 06:55:00+00            1450  2017-10-01 00:13:35.773+00   \n",
       "2  2017-10-14 21:24:00+00            7400  2017-10-01 00:13:40.212+00   \n",
       "3  2017-10-14 11:02:00+00           13500  2017-10-01 00:13:40.213+00   \n",
       "4  2017-10-14 19:32:00+00            7710  2017-10-01 00:13:40.213+00   \n",
       "\n",
       "       middle_stations other_companies  o_city  d_city  \n",
       "0                  NaN             NaN     611     542  \n",
       "1            {149,418}            {13}     611     542  \n",
       "2  {798,798,6794,6246}     {8377,8376}     611     542  \n",
       "3  {798,798,6794,6246}     {8377,8376}     611     542  \n",
       "4          {5983,5983}          {8380}     611     542  "
      ]
     },
     "execution_count": 8,
     "metadata": {},
     "output_type": "execute_result"
    }
   ],
   "source": [
    "print(f\"Instances de données disponibles : {ticket_data.shape[0]} \\n\")\n",
    "ticket_data.head()"
   ]
  },
  {
   "cell_type": "markdown",
   "id": "28b95590",
   "metadata": {
    "papermill": {
     "duration": 0.013235,
     "end_time": "2022-12-07T12:46:07.302315",
     "exception": false,
     "start_time": "2022-12-07T12:46:07.289080",
     "status": "completed"
    },
    "tags": []
   },
   "source": [
    "### Il y a t-il de données manquantes dans les dataset ?"
   ]
  },
  {
   "cell_type": "markdown",
   "id": "09b7704d",
   "metadata": {
    "papermill": {
     "duration": 0.012653,
     "end_time": "2022-12-07T12:46:07.328375",
     "exception": false,
     "start_time": "2022-12-07T12:46:07.315722",
     "status": "completed"
    },
    "tags": []
   },
   "source": [
    "Nous avons au total **7672** données manquantes dans le dataset **cities**."
   ]
  },
  {
   "cell_type": "code",
   "execution_count": 9,
   "id": "86068bad",
   "metadata": {
    "execution": {
     "iopub.execute_input": "2022-12-07T12:46:07.356254Z",
     "iopub.status.busy": "2022-12-07T12:46:07.355438Z",
     "iopub.status.idle": "2022-12-07T12:46:07.363669Z",
     "shell.execute_reply": "2022-12-07T12:46:07.362665Z"
    },
    "papermill": {
     "duration": 0.024085,
     "end_time": "2022-12-07T12:46:07.365654",
     "exception": false,
     "start_time": "2022-12-07T12:46:07.341569",
     "status": "completed"
    },
    "tags": []
   },
   "outputs": [
    {
     "data": {
      "text/plain": [
       "7672"
      ]
     },
     "execution_count": 9,
     "metadata": {},
     "output_type": "execute_result"
    }
   ],
   "source": [
    "cities.isnull().sum().sum()"
   ]
  },
  {
   "cell_type": "markdown",
   "id": "b043deaf",
   "metadata": {
    "papermill": {
     "duration": 0.014057,
     "end_time": "2022-12-07T12:46:07.393643",
     "exception": false,
     "start_time": "2022-12-07T12:46:07.379586",
     "status": "completed"
    },
    "tags": []
   },
   "source": [
    "Il n'y a aucune donnée manquante dans le dataset **stations**"
   ]
  },
  {
   "cell_type": "code",
   "execution_count": 10,
   "id": "6748c8bd",
   "metadata": {
    "execution": {
     "iopub.execute_input": "2022-12-07T12:46:07.422552Z",
     "iopub.status.busy": "2022-12-07T12:46:07.421649Z",
     "iopub.status.idle": "2022-12-07T12:46:07.430105Z",
     "shell.execute_reply": "2022-12-07T12:46:07.429233Z"
    },
    "papermill": {
     "duration": 0.024996,
     "end_time": "2022-12-07T12:46:07.432168",
     "exception": false,
     "start_time": "2022-12-07T12:46:07.407172",
     "status": "completed"
    },
    "tags": []
   },
   "outputs": [
    {
     "data": {
      "text/plain": [
       "0"
      ]
     },
     "execution_count": 10,
     "metadata": {},
     "output_type": "execute_result"
    }
   ],
   "source": [
    "stations.isnull().sum().sum()"
   ]
  },
  {
   "cell_type": "markdown",
   "id": "efda0442",
   "metadata": {
    "papermill": {
     "duration": 0.012981,
     "end_time": "2022-12-07T12:46:07.459126",
     "exception": false,
     "start_time": "2022-12-07T12:46:07.446145",
     "status": "completed"
    },
    "tags": []
   },
   "source": [
    "Nous observons 26 données manquantes dans le dataset **providers**"
   ]
  },
  {
   "cell_type": "code",
   "execution_count": 11,
   "id": "5e9c3051",
   "metadata": {
    "execution": {
     "iopub.execute_input": "2022-12-07T12:46:07.487170Z",
     "iopub.status.busy": "2022-12-07T12:46:07.486568Z",
     "iopub.status.idle": "2022-12-07T12:46:07.494034Z",
     "shell.execute_reply": "2022-12-07T12:46:07.493121Z"
    },
    "papermill": {
     "duration": 0.023545,
     "end_time": "2022-12-07T12:46:07.495873",
     "exception": false,
     "start_time": "2022-12-07T12:46:07.472328",
     "status": "completed"
    },
    "tags": []
   },
   "outputs": [
    {
     "data": {
      "text/plain": [
       "26"
      ]
     },
     "execution_count": 11,
     "metadata": {},
     "output_type": "execute_result"
    }
   ],
   "source": [
    "providers.isna().sum().sum()"
   ]
  },
  {
   "cell_type": "markdown",
   "id": "603636e9",
   "metadata": {
    "papermill": {
     "duration": 0.013111,
     "end_time": "2022-12-07T12:46:07.522706",
     "exception": false,
     "start_time": "2022-12-07T12:46:07.509595",
     "status": "completed"
    },
    "tags": []
   },
   "source": [
    "Nous avons au total **165764** données manquantes dans le dataset **ticket_data**"
   ]
  },
  {
   "cell_type": "code",
   "execution_count": 12,
   "id": "e92aa123",
   "metadata": {
    "execution": {
     "iopub.execute_input": "2022-12-07T12:46:07.551178Z",
     "iopub.status.busy": "2022-12-07T12:46:07.550630Z",
     "iopub.status.idle": "2022-12-07T12:46:07.572590Z",
     "shell.execute_reply": "2022-12-07T12:46:07.571787Z"
    },
    "papermill": {
     "duration": 0.03802,
     "end_time": "2022-12-07T12:46:07.574568",
     "exception": false,
     "start_time": "2022-12-07T12:46:07.536548",
     "status": "completed"
    },
    "tags": []
   },
   "outputs": [
    {
     "data": {
      "text/plain": [
       "165764"
      ]
     },
     "execution_count": 12,
     "metadata": {},
     "output_type": "execute_result"
    }
   ],
   "source": [
    "ticket_data.isna().sum().sum()"
   ]
  },
  {
   "cell_type": "code",
   "execution_count": null,
   "id": "1b3939dc",
   "metadata": {
    "papermill": {
     "duration": 0.013291,
     "end_time": "2022-12-07T12:46:07.601679",
     "exception": false,
     "start_time": "2022-12-07T12:46:07.588388",
     "status": "completed"
    },
    "tags": []
   },
   "outputs": [],
   "source": []
  },
  {
   "cell_type": "markdown",
   "id": "b89a2f48",
   "metadata": {
    "papermill": {
     "duration": 0.013903,
     "end_time": "2022-12-07T12:46:07.629932",
     "exception": false,
     "start_time": "2022-12-07T12:46:07.616029",
     "status": "completed"
    },
    "tags": []
   },
   "source": [
    "<div style=\"background-color:#5bbbcf;padding:2px;border-radius:4px\">  \n",
    "    <h1 align=\"center\" style=\"color:white;\">1. Extraction des informations</h1>  \n",
    "</div>"
   ]
  },
  {
   "cell_type": "markdown",
   "id": "4e1611ed",
   "metadata": {
    "papermill": {
     "duration": 0.013729,
     "end_time": "2022-12-07T12:46:07.658223",
     "exception": false,
     "start_time": "2022-12-07T12:46:07.644494",
     "status": "completed"
    },
    "tags": []
   },
   "source": [
    "## 1. Prix min, max, moyen\n",
    "\n",
    "Ici, nous nous intéressons aux prix minimum, maximum et moyen.\n",
    "\n",
    "Le Dataset `ticket_data` contient toutes les informations nécessaire pour obtenir le résultat. "
   ]
  },
  {
   "cell_type": "code",
   "execution_count": 13,
   "id": "5b9dc289",
   "metadata": {
    "execution": {
     "iopub.execute_input": "2022-12-07T12:46:07.687534Z",
     "iopub.status.busy": "2022-12-07T12:46:07.687227Z",
     "iopub.status.idle": "2022-12-07T12:46:07.694785Z",
     "shell.execute_reply": "2022-12-07T12:46:07.693701Z"
    },
    "papermill": {
     "duration": 0.024703,
     "end_time": "2022-12-07T12:46:07.696723",
     "exception": false,
     "start_time": "2022-12-07T12:46:07.672020",
     "status": "completed"
    },
    "tags": []
   },
   "outputs": [
    {
     "name": "stdout",
     "output_type": "stream",
     "text": [
      "Le prix minimum de tout les trajets est : 300\n",
      "Le prix maximum de tout les trajets est : 38550\n",
      "Le prix moyen de tout les trajets est : 4382.711061374178\n"
     ]
    }
   ],
   "source": [
    "min_price  = ticket_data.price_in_cents.min()   # Prix min de tout les trajets\n",
    "max_price  = ticket_data.price_in_cents.max()   # Prix max de tout les trajets\n",
    "mean_price = ticket_data.price_in_cents.mean()  # Prix moyenne de tout les trajets\n",
    "\n",
    "print(f\"Le prix minimum de tout les trajets est : {min_price}\")\n",
    "print(f\"Le prix maximum de tout les trajets est : {max_price}\")\n",
    "print(f\"Le prix moyen de tout les trajets est : {mean_price}\")"
   ]
  },
  {
   "cell_type": "code",
   "execution_count": 14,
   "id": "8f5d155c",
   "metadata": {
    "execution": {
     "iopub.execute_input": "2022-12-07T12:46:07.725710Z",
     "iopub.status.busy": "2022-12-07T12:46:07.725407Z",
     "iopub.status.idle": "2022-12-07T12:46:07.752763Z",
     "shell.execute_reply": "2022-12-07T12:46:07.751985Z"
    },
    "papermill": {
     "duration": 0.043781,
     "end_time": "2022-12-07T12:46:07.754846",
     "exception": false,
     "start_time": "2022-12-07T12:46:07.711065",
     "status": "completed"
    },
    "tags": []
   },
   "outputs": [
    {
     "data": {
      "text/html": [
       "<div>\n",
       "<style scoped>\n",
       "    .dataframe tbody tr th:only-of-type {\n",
       "        vertical-align: middle;\n",
       "    }\n",
       "\n",
       "    .dataframe tbody tr th {\n",
       "        vertical-align: top;\n",
       "    }\n",
       "\n",
       "    .dataframe thead th {\n",
       "        text-align: right;\n",
       "    }\n",
       "</style>\n",
       "<table border=\"1\" class=\"dataframe\">\n",
       "  <thead>\n",
       "    <tr style=\"text-align: right;\">\n",
       "      <th></th>\n",
       "      <th>o_city</th>\n",
       "      <th>d_city</th>\n",
       "      <th>price_min</th>\n",
       "      <th>price_max</th>\n",
       "      <th>price_mean</th>\n",
       "    </tr>\n",
       "  </thead>\n",
       "  <tbody>\n",
       "    <tr>\n",
       "      <th>0</th>\n",
       "      <td>5</td>\n",
       "      <td>23</td>\n",
       "      <td>18600</td>\n",
       "      <td>22000</td>\n",
       "      <td>20320.000000</td>\n",
       "    </tr>\n",
       "    <tr>\n",
       "      <th>1</th>\n",
       "      <td>6</td>\n",
       "      <td>227</td>\n",
       "      <td>9860</td>\n",
       "      <td>13650</td>\n",
       "      <td>11755.000000</td>\n",
       "    </tr>\n",
       "    <tr>\n",
       "      <th>2</th>\n",
       "      <td>6</td>\n",
       "      <td>504</td>\n",
       "      <td>2000</td>\n",
       "      <td>8920</td>\n",
       "      <td>4042.666667</td>\n",
       "    </tr>\n",
       "  </tbody>\n",
       "</table>\n",
       "</div>"
      ],
      "text/plain": [
       "   o_city  d_city  price_min  price_max    price_mean\n",
       "0       5      23      18600      22000  20320.000000\n",
       "1       6     227       9860      13650  11755.000000\n",
       "2       6     504       2000       8920   4042.666667"
      ]
     },
     "execution_count": 14,
     "metadata": {},
     "output_type": "execute_result"
    }
   ],
   "source": [
    "# Prix min, max et moyen de chaque trajet\n",
    "priceParTrajet = ticket_data.groupby(['o_city', 'd_city']).agg({'price_in_cents': ['min', 'max','mean']})\n",
    "priceParTrajet.columns = ['price_min', 'price_max', 'price_mean']\n",
    "priceParTrajet = priceParTrajet.reset_index()\n",
    "priceParTrajet.head(3)"
   ]
  },
  {
   "cell_type": "code",
   "execution_count": 15,
   "id": "d01f64ae",
   "metadata": {
    "_kg_hide-input": false,
    "execution": {
     "iopub.execute_input": "2022-12-07T12:46:07.784669Z",
     "iopub.status.busy": "2022-12-07T12:46:07.784280Z",
     "iopub.status.idle": "2022-12-07T12:46:13.114565Z",
     "shell.execute_reply": "2022-12-07T12:46:13.113731Z"
    },
    "papermill": {
     "duration": 5.347227,
     "end_time": "2022-12-07T12:46:13.116504",
     "exception": false,
     "start_time": "2022-12-07T12:46:07.769277",
     "status": "completed"
    },
    "tags": []
   },
   "outputs": [
    {
     "data": {
      "text/html": [
       "<style type=\"text/css\">\n",
       "#T_b4361_row0_col0, #T_b4361_row0_col1, #T_b4361_row0_col2 {\n",
       "  background-color: #ff0000;\n",
       "  color: #f1f1f1;\n",
       "}\n",
       "#T_b4361_row1_col0 {\n",
       "  background-color: #f97575;\n",
       "  color: #f1f1f1;\n",
       "}\n",
       "#T_b4361_row1_col1 {\n",
       "  background-color: #fa6767;\n",
       "  color: #f1f1f1;\n",
       "}\n",
       "#T_b4361_row1_col2 {\n",
       "  background-color: #fa6969;\n",
       "  color: #f1f1f1;\n",
       "}\n",
       "#T_b4361_row2_col0, #T_b4361_row7_col0 {\n",
       "  background-color: #f4dfdf;\n",
       "  color: #000000;\n",
       "}\n",
       "#T_b4361_row2_col1 {\n",
       "  background-color: #f7a1a1;\n",
       "  color: #000000;\n",
       "}\n",
       "#T_b4361_row2_col2 {\n",
       "  background-color: #f5c9c9;\n",
       "  color: #000000;\n",
       "}\n",
       "#T_b4361_row3_col0 {\n",
       "  background-color: #f4d7d7;\n",
       "  color: #000000;\n",
       "}\n",
       "#T_b4361_row3_col1 {\n",
       "  background-color: #f3e7e7;\n",
       "  color: #000000;\n",
       "}\n",
       "#T_b4361_row3_col2 {\n",
       "  background-color: #f4d8d8;\n",
       "  color: #000000;\n",
       "}\n",
       "#T_b4361_row4_col0, #T_b4361_row4_col1, #T_b4361_row4_col2 {\n",
       "  background-color: #f3f0f0;\n",
       "  color: #000000;\n",
       "}\n",
       "#T_b4361_row5_col0 {\n",
       "  background-color: #f5c8c8;\n",
       "  color: #000000;\n",
       "}\n",
       "#T_b4361_row5_col1 {\n",
       "  background-color: #f4dcdc;\n",
       "  color: #000000;\n",
       "}\n",
       "#T_b4361_row5_col2 {\n",
       "  background-color: #f5cbcb;\n",
       "  color: #000000;\n",
       "}\n",
       "#T_b4361_row6_col0 {\n",
       "  background-color: #f6b6b6;\n",
       "  color: #000000;\n",
       "}\n",
       "#T_b4361_row6_col1 {\n",
       "  background-color: #f5cdcd;\n",
       "  color: #000000;\n",
       "}\n",
       "#T_b4361_row6_col2 {\n",
       "  background-color: #f6bbbb;\n",
       "  color: #000000;\n",
       "}\n",
       "#T_b4361_row7_col1 {\n",
       "  background-color: #f3e6e6;\n",
       "  color: #000000;\n",
       "}\n",
       "#T_b4361_row7_col2 {\n",
       "  background-color: #f4dada;\n",
       "  color: #000000;\n",
       "}\n",
       "#T_b4361_row8_col0 {\n",
       "  background-color: #f4d9d9;\n",
       "  color: #000000;\n",
       "}\n",
       "#T_b4361_row8_col1 {\n",
       "  background-color: #f88a8a;\n",
       "  color: #f1f1f1;\n",
       "}\n",
       "#T_b4361_row8_col2 {\n",
       "  background-color: #f6acac;\n",
       "  color: #000000;\n",
       "}\n",
       "#T_b4361_row9_col0 {\n",
       "  background-color: #f3e5e5;\n",
       "  color: #000000;\n",
       "}\n",
       "#T_b4361_row9_col1 {\n",
       "  background-color: #f6b7b7;\n",
       "  color: #000000;\n",
       "}\n",
       "#T_b4361_row9_col2 {\n",
       "  background-color: #f5c5c5;\n",
       "  color: #000000;\n",
       "}\n",
       "</style>\n",
       "<table id=\"T_b4361_\">\n",
       "  <thead>\n",
       "    <tr>\n",
       "      <th class=\"blank level0\" >&nbsp;</th>\n",
       "      <th class=\"col_heading level0 col0\" >price_min</th>\n",
       "      <th class=\"col_heading level0 col1\" >price_max</th>\n",
       "      <th class=\"col_heading level0 col2\" >price_mean</th>\n",
       "      <th class=\"col_heading level0 col3\" >o_city_name</th>\n",
       "      <th class=\"col_heading level0 col4\" >d_city_name</th>\n",
       "    </tr>\n",
       "  </thead>\n",
       "  <tbody>\n",
       "    <tr>\n",
       "      <th id=\"T_b4361_level0_row0\" class=\"row_heading level0 row0\" >0</th>\n",
       "      <td id=\"T_b4361_row0_col0\" class=\"data row0 col0\" >18600</td>\n",
       "      <td id=\"T_b4361_row0_col1\" class=\"data row0 col1\" >22000</td>\n",
       "      <td id=\"T_b4361_row0_col2\" class=\"data row0 col2\" >20320.00</td>\n",
       "      <td id=\"T_b4361_row0_col3\" class=\"data row0 col3\" >agde</td>\n",
       "      <td id=\"T_b4361_row0_col4\" class=\"data row0 col4\" >amsterdam</td>\n",
       "    </tr>\n",
       "    <tr>\n",
       "      <th id=\"T_b4361_level0_row1\" class=\"row_heading level0 row1\" >1</th>\n",
       "      <td id=\"T_b4361_row1_col0\" class=\"data row1 col0\" >9860</td>\n",
       "      <td id=\"T_b4361_row1_col1\" class=\"data row1 col1\" >13650</td>\n",
       "      <td id=\"T_b4361_row1_col2\" class=\"data row1 col2\" >11755.00</td>\n",
       "      <td id=\"T_b4361_row1_col3\" class=\"data row1 col3\" >agen</td>\n",
       "      <td id=\"T_b4361_row1_col4\" class=\"data row1 col4\" >dijon</td>\n",
       "    </tr>\n",
       "    <tr>\n",
       "      <th id=\"T_b4361_level0_row2\" class=\"row_heading level0 row2\" >2</th>\n",
       "      <td id=\"T_b4361_row2_col0\" class=\"data row2 col0\" >2000</td>\n",
       "      <td id=\"T_b4361_row2_col1\" class=\"data row2 col1\" >8920</td>\n",
       "      <td id=\"T_b4361_row2_col2\" class=\"data row2 col2\" >4042.67</td>\n",
       "      <td id=\"T_b4361_row2_col3\" class=\"data row2 col3\" >agen</td>\n",
       "      <td id=\"T_b4361_row2_col4\" class=\"data row2 col4\" >marseille</td>\n",
       "    </tr>\n",
       "    <tr>\n",
       "      <th id=\"T_b4361_level0_row3\" class=\"row_heading level0 row3\" >3</th>\n",
       "      <td id=\"T_b4361_row3_col0\" class=\"data row3 col0\" >2600</td>\n",
       "      <td id=\"T_b4361_row3_col1\" class=\"data row3 col1\" >3190</td>\n",
       "      <td id=\"T_b4361_row3_col2\" class=\"data row3 col2\" >2797.50</td>\n",
       "      <td id=\"T_b4361_row3_col3\" class=\"data row3 col3\" >agen</td>\n",
       "      <td id=\"T_b4361_row3_col4\" class=\"data row3 col4\" >paris</td>\n",
       "    </tr>\n",
       "    <tr>\n",
       "      <th id=\"T_b4361_level0_row4\" class=\"row_heading level0 row4\" >4</th>\n",
       "      <td id=\"T_b4361_row4_col0\" class=\"data row4 col0\" >700</td>\n",
       "      <td id=\"T_b4361_row4_col1\" class=\"data row4 col1\" >2420</td>\n",
       "      <td id=\"T_b4361_row4_col2\" class=\"data row4 col2\" >864.63</td>\n",
       "      <td id=\"T_b4361_row4_col3\" class=\"data row4 col3\" >agen</td>\n",
       "      <td id=\"T_b4361_row4_col4\" class=\"data row4 col4\" >toulouse</td>\n",
       "    </tr>\n",
       "    <tr>\n",
       "      <th id=\"T_b4361_level0_row5\" class=\"row_heading level0 row5\" >5</th>\n",
       "      <td id=\"T_b4361_row5_col0\" class=\"data row5 col0\" >3700</td>\n",
       "      <td id=\"T_b4361_row5_col1\" class=\"data row5 col1\" >4050</td>\n",
       "      <td id=\"T_b4361_row5_col2\" class=\"data row5 col2\" >3833.33</td>\n",
       "      <td id=\"T_b4361_row5_col3\" class=\"data row5 col3\" >agen</td>\n",
       "      <td id=\"T_b4361_row5_col4\" class=\"data row5 col4\" >marseille-aeroport</td>\n",
       "    </tr>\n",
       "    <tr>\n",
       "      <th id=\"T_b4361_level0_row6\" class=\"row_heading level0 row6\" >6</th>\n",
       "      <td id=\"T_b4361_row6_col0\" class=\"data row6 col0\" >5090</td>\n",
       "      <td id=\"T_b4361_row6_col1\" class=\"data row6 col1\" >5290</td>\n",
       "      <td id=\"T_b4361_row6_col2\" class=\"data row6 col2\" >5190.00</td>\n",
       "      <td id=\"T_b4361_row6_col3\" class=\"data row6 col3\" >aix-en-provence</td>\n",
       "      <td id=\"T_b4361_row6_col4\" class=\"data row6 col4\" >angers</td>\n",
       "    </tr>\n",
       "    <tr>\n",
       "      <th id=\"T_b4361_level0_row7\" class=\"row_heading level0 row7\" >7</th>\n",
       "      <td id=\"T_b4361_row7_col0\" class=\"data row7 col0\" >2000</td>\n",
       "      <td id=\"T_b4361_row7_col1\" class=\"data row7 col1\" >3280</td>\n",
       "      <td id=\"T_b4361_row7_col2\" class=\"data row7 col2\" >2630.00</td>\n",
       "      <td id=\"T_b4361_row7_col3\" class=\"data row7 col3\" >aix-en-provence</td>\n",
       "      <td id=\"T_b4361_row7_col4\" class=\"data row7 col4\" >annecy</td>\n",
       "    </tr>\n",
       "    <tr>\n",
       "      <th id=\"T_b4361_level0_row8\" class=\"row_heading level0 row8\" >8</th>\n",
       "      <td id=\"T_b4361_row8_col0\" class=\"data row8 col0\" >2390</td>\n",
       "      <td id=\"T_b4361_row8_col1\" class=\"data row8 col1\" >10740</td>\n",
       "      <td id=\"T_b4361_row8_col2\" class=\"data row8 col2\" >6405.24</td>\n",
       "      <td id=\"T_b4361_row8_col3\" class=\"data row8 col3\" >aix-en-provence</td>\n",
       "      <td id=\"T_b4361_row8_col4\" class=\"data row8 col4\" >clermont-ferrand</td>\n",
       "    </tr>\n",
       "    <tr>\n",
       "      <th id=\"T_b4361_level0_row9\" class=\"row_heading level0 row9\" >9</th>\n",
       "      <td id=\"T_b4361_row9_col0\" class=\"data row9 col0\" >1600</td>\n",
       "      <td id=\"T_b4361_row9_col1\" class=\"data row9 col1\" >7100</td>\n",
       "      <td id=\"T_b4361_row9_col2\" class=\"data row9 col2\" >4389.39</td>\n",
       "      <td id=\"T_b4361_row9_col3\" class=\"data row9 col3\" >aix-en-provence</td>\n",
       "      <td id=\"T_b4361_row9_col4\" class=\"data row9 col4\" >la-rochelle</td>\n",
       "    </tr>\n",
       "  </tbody>\n",
       "</table>\n"
      ],
      "text/plain": [
       "<pandas.io.formats.style.Styler at 0x7f3e46167d90>"
      ]
     },
     "execution_count": 15,
     "metadata": {},
     "output_type": "execute_result"
    }
   ],
   "source": [
    "# Fonction de récupération du nom d'une ville à partir de son id\n",
    "def get_city_name(id_city):\n",
    "    return cities.query(f'id=={id_city}')['unique_name'].values[0]\n",
    "\n",
    "priceParTrajet['o_city_name'] = priceParTrajet['o_city'].apply(get_city_name) # Récupérer le nom des villes de départ\n",
    "priceParTrajet['d_city_name'] = priceParTrajet['d_city'].apply(get_city_name) # Récupérer le nom des villes d'arrivé\n",
    "\n",
    "priceParTrajet[['price_min','price_max','price_mean','o_city_name','d_city_name']].head(10).style.background_gradient(cmap=cmr).set_precision(2)"
   ]
  },
  {
   "cell_type": "markdown",
   "id": "29050fbe",
   "metadata": {
    "papermill": {
     "duration": 0.013933,
     "end_time": "2022-12-07T12:46:13.144706",
     "exception": false,
     "start_time": "2022-12-07T12:46:13.130773",
     "status": "completed"
    },
    "tags": []
   },
   "source": [
    "## Conclusion\n",
    "\n",
    "Comme nous pouvons le constater, le Dataframe **priceParTrajet** résume les prix min, max et moyen de chaque trajet. Par exemple  : \n",
    "\n",
    "- Les prix min, max et moyen du trajet `agde`-`amsterdam` sont respectivement **18600**, **22000** et **20320** cent ;\n",
    "- Les prix min, max et moyen du trajet `agen`-`paris` sont respectivement **2600**, **3190** et  **2797.50** cent ;\n",
    "- Les prix min, max et moyen du trajet `aix-en-provence`-`angers` sont respectivement **5090**, **5290** et  **5190** cent\n",
    "- etc..."
   ]
  },
  {
   "cell_type": "markdown",
   "id": "10972545",
   "metadata": {
    "papermill": {
     "duration": 0.01387,
     "end_time": "2022-12-07T12:46:13.172260",
     "exception": false,
     "start_time": "2022-12-07T12:46:13.158390",
     "status": "completed"
    },
    "tags": []
   },
   "source": [
    "## 2. Durée min, max, moyenne par trajet\n",
    "\n",
    "Ici, nous nous intéressons à la durée minimum, maximum et moyenne par trajet.\n",
    "\n",
    "Le Dataset `ticket_data` contient toutes les informations nécessaire pour obtenir le résultat. "
   ]
  },
  {
   "cell_type": "markdown",
   "id": "dcde2993",
   "metadata": {
    "papermill": {
     "duration": 0.013458,
     "end_time": "2022-12-07T12:46:13.199932",
     "exception": false,
     "start_time": "2022-12-07T12:46:13.186474",
     "status": "completed"
    },
    "tags": []
   },
   "source": [
    "**Vérification de la présence des valeurs manquantes**\n",
    "\n",
    "Nous devons, avant tout, nous assurer qu'il n'y a pas de données manquantes dans les colonnes des trajets : `departure_ts` marquant le temps de départ et `arrival_ts` marquant le temps d'arrivé."
   ]
  },
  {
   "cell_type": "code",
   "execution_count": 16,
   "id": "b9cfa0b9",
   "metadata": {
    "execution": {
     "iopub.execute_input": "2022-12-07T12:46:13.229933Z",
     "iopub.status.busy": "2022-12-07T12:46:13.229574Z",
     "iopub.status.idle": "2022-12-07T12:46:13.245135Z",
     "shell.execute_reply": "2022-12-07T12:46:13.244116Z"
    },
    "papermill": {
     "duration": 0.033357,
     "end_time": "2022-12-07T12:46:13.247025",
     "exception": false,
     "start_time": "2022-12-07T12:46:13.213668",
     "status": "completed"
    },
    "tags": []
   },
   "outputs": [
    {
     "data": {
      "text/plain": [
       "departure_ts    0\n",
       "arrival_ts      0\n",
       "dtype: int64"
      ]
     },
     "execution_count": 16,
     "metadata": {},
     "output_type": "execute_result"
    }
   ],
   "source": [
    "# Vérification de la présence des valeurs manquantes\n",
    "TRAJET_COLONNES = ['departure_ts','arrival_ts']\n",
    "ticket_data[TRAJET_COLONNES].isna().sum()"
   ]
  },
  {
   "cell_type": "markdown",
   "id": "cbdd114d",
   "metadata": {
    "papermill": {
     "duration": 0.014431,
     "end_time": "2022-12-07T12:46:13.276498",
     "exception": false,
     "start_time": "2022-12-07T12:46:13.262067",
     "status": "completed"
    },
    "tags": []
   },
   "source": [
    "Nous remarquons donc qu'il n'y a aucune donnée manquante dans notre Dataset pour ces deux colonnes.\n",
    "\n",
    "Par la suite, intéressons nous au type de donnée des deux colonnes."
   ]
  },
  {
   "cell_type": "code",
   "execution_count": 17,
   "id": "deefd569",
   "metadata": {
    "execution": {
     "iopub.execute_input": "2022-12-07T12:46:13.306194Z",
     "iopub.status.busy": "2022-12-07T12:46:13.305895Z",
     "iopub.status.idle": "2022-12-07T12:46:13.324019Z",
     "shell.execute_reply": "2022-12-07T12:46:13.323123Z"
    },
    "papermill": {
     "duration": 0.035527,
     "end_time": "2022-12-07T12:46:13.326216",
     "exception": false,
     "start_time": "2022-12-07T12:46:13.290689",
     "status": "completed"
    },
    "tags": []
   },
   "outputs": [
    {
     "name": "stdout",
     "output_type": "stream",
     "text": [
      "<class 'pandas.core.frame.DataFrame'>\n",
      "RangeIndex: 74168 entries, 0 to 74167\n",
      "Data columns (total 2 columns):\n",
      " #   Column        Non-Null Count  Dtype \n",
      "---  ------        --------------  ----- \n",
      " 0   departure_ts  74168 non-null  object\n",
      " 1   arrival_ts    74168 non-null  object\n",
      "dtypes: object(2)\n",
      "memory usage: 1.1+ MB\n"
     ]
    }
   ],
   "source": [
    "# Affichage du type de données de chacune des deux colonnes\n",
    "ticket_data[TRAJET_COLONNES].info()"
   ]
  },
  {
   "cell_type": "markdown",
   "id": "ce4d7c8c",
   "metadata": {
    "papermill": {
     "duration": 0.013592,
     "end_time": "2022-12-07T12:46:13.354138",
     "exception": false,
     "start_time": "2022-12-07T12:46:13.340546",
     "status": "completed"
    },
    "tags": []
   },
   "source": [
    "Nous remarquons que le type des données est `Object`. Nous aurons donc besoin de les convertir en `datetime` pour pourvoir mieux les manipuler. Pour ce faire, nous allons utiliser l'attribut `to_datetime` de **Pandas**."
   ]
  },
  {
   "cell_type": "code",
   "execution_count": 18,
   "id": "cdd93f1e",
   "metadata": {
    "execution": {
     "iopub.execute_input": "2022-12-07T12:46:13.382949Z",
     "iopub.status.busy": "2022-12-07T12:46:13.382632Z",
     "iopub.status.idle": "2022-12-07T12:46:13.431546Z",
     "shell.execute_reply": "2022-12-07T12:46:13.430402Z"
    },
    "papermill": {
     "duration": 0.066303,
     "end_time": "2022-12-07T12:46:13.434150",
     "exception": false,
     "start_time": "2022-12-07T12:46:13.367847",
     "status": "completed"
    },
    "tags": []
   },
   "outputs": [
    {
     "name": "stdout",
     "output_type": "stream",
     "text": [
      "<class 'pandas.core.frame.DataFrame'>\n",
      "RangeIndex: 74168 entries, 0 to 74167\n",
      "Data columns (total 2 columns):\n",
      " #   Column        Non-Null Count  Dtype              \n",
      "---  ------        --------------  -----              \n",
      " 0   departure_ts  74168 non-null  datetime64[ns, UTC]\n",
      " 1   arrival_ts    74168 non-null  datetime64[ns, UTC]\n",
      "dtypes: datetime64[ns, UTC](2)\n",
      "memory usage: 1.1 MB\n"
     ]
    }
   ],
   "source": [
    "# Conversion des types de données en datetime\n",
    "ticket_data['departure_ts'] = pd.to_datetime(ticket_data.departure_ts)\n",
    "ticket_data['arrival_ts'] = pd.to_datetime(ticket_data.arrival_ts)\n",
    "\n",
    "# Affichage de nouveau type de données de chacune des deux colonnes\n",
    "ticket_data[TRAJET_COLONNES].info()"
   ]
  },
  {
   "cell_type": "markdown",
   "id": "d1bdd5c2",
   "metadata": {
    "papermill": {
     "duration": 0.014945,
     "end_time": "2022-12-07T12:46:13.464267",
     "exception": false,
     "start_time": "2022-12-07T12:46:13.449322",
     "status": "completed"
    },
    "tags": []
   },
   "source": [
    "**Calcule de la durée de chaque trajet**\n",
    "\n",
    "Nous pouvons à présent calculer la durée de chaque trajet, en faisant une soustraction de la durée de départ dans la durée d'arrivé."
   ]
  },
  {
   "cell_type": "code",
   "execution_count": 19,
   "id": "67608c89",
   "metadata": {
    "execution": {
     "iopub.execute_input": "2022-12-07T12:46:13.495098Z",
     "iopub.status.busy": "2022-12-07T12:46:13.494713Z",
     "iopub.status.idle": "2022-12-07T12:46:13.509616Z",
     "shell.execute_reply": "2022-12-07T12:46:13.508547Z"
    },
    "papermill": {
     "duration": 0.033162,
     "end_time": "2022-12-07T12:46:13.511750",
     "exception": false,
     "start_time": "2022-12-07T12:46:13.478588",
     "status": "completed"
    },
    "tags": []
   },
   "outputs": [
    {
     "data": {
      "text/html": [
       "<div>\n",
       "<style scoped>\n",
       "    .dataframe tbody tr th:only-of-type {\n",
       "        vertical-align: middle;\n",
       "    }\n",
       "\n",
       "    .dataframe tbody tr th {\n",
       "        vertical-align: top;\n",
       "    }\n",
       "\n",
       "    .dataframe thead th {\n",
       "        text-align: right;\n",
       "    }\n",
       "</style>\n",
       "<table border=\"1\" class=\"dataframe\">\n",
       "  <thead>\n",
       "    <tr style=\"text-align: right;\">\n",
       "      <th></th>\n",
       "      <th>departure_ts</th>\n",
       "      <th>arrival_ts</th>\n",
       "      <th>duree</th>\n",
       "    </tr>\n",
       "  </thead>\n",
       "  <tbody>\n",
       "    <tr>\n",
       "      <th>0</th>\n",
       "      <td>2017-10-13 14:00:00+00:00</td>\n",
       "      <td>2017-10-13 20:10:00+00:00</td>\n",
       "      <td>0 days 06:10:00</td>\n",
       "    </tr>\n",
       "    <tr>\n",
       "      <th>1</th>\n",
       "      <td>2017-10-13 13:05:00+00:00</td>\n",
       "      <td>2017-10-14 06:55:00+00:00</td>\n",
       "      <td>0 days 17:50:00</td>\n",
       "    </tr>\n",
       "    <tr>\n",
       "      <th>2</th>\n",
       "      <td>2017-10-13 13:27:00+00:00</td>\n",
       "      <td>2017-10-14 21:24:00+00:00</td>\n",
       "      <td>1 days 07:57:00</td>\n",
       "    </tr>\n",
       "  </tbody>\n",
       "</table>\n",
       "</div>"
      ],
      "text/plain": [
       "               departure_ts                arrival_ts           duree\n",
       "0 2017-10-13 14:00:00+00:00 2017-10-13 20:10:00+00:00 0 days 06:10:00\n",
       "1 2017-10-13 13:05:00+00:00 2017-10-14 06:55:00+00:00 0 days 17:50:00\n",
       "2 2017-10-13 13:27:00+00:00 2017-10-14 21:24:00+00:00 1 days 07:57:00"
      ]
     },
     "execution_count": 19,
     "metadata": {},
     "output_type": "execute_result"
    }
   ],
   "source": [
    "ticket_data['duree'] = ticket_data['arrival_ts'] - ticket_data['departure_ts'] \n",
    "ticket_data[['departure_ts','arrival_ts','duree']].head(3)"
   ]
  },
  {
   "cell_type": "code",
   "execution_count": 20,
   "id": "58793d6e",
   "metadata": {
    "execution": {
     "iopub.execute_input": "2022-12-07T12:46:13.541687Z",
     "iopub.status.busy": "2022-12-07T12:46:13.541388Z",
     "iopub.status.idle": "2022-12-07T12:46:13.549867Z",
     "shell.execute_reply": "2022-12-07T12:46:13.548812Z"
    },
    "papermill": {
     "duration": 0.025994,
     "end_time": "2022-12-07T12:46:13.552263",
     "exception": false,
     "start_time": "2022-12-07T12:46:13.526269",
     "status": "completed"
    },
    "tags": []
   },
   "outputs": [
    {
     "name": "stdout",
     "output_type": "stream",
     "text": [
      "La durée minimale de l'ensemble tout les trajets est : 0 days 00:20:00\n",
      "La durée maximale de tout les trajets est : 20 days 12:51:00\n",
      "La durée moyenne de tout les trajets est : 0 days 07:04:37.247600043\n"
     ]
    }
   ],
   "source": [
    "min_ts  = ticket_data.duree.min()   # Durée min de tout les trajets\n",
    "max_ts  = ticket_data.duree.max()   # Durée max de tout les trajets\n",
    "mean_ts = ticket_data.duree.mean()  # Durée moyenne de tout les trajets\n",
    "\n",
    "print(f\"La durée minimale de l'ensemble tout les trajets est : {min_ts}\")\n",
    "print(f\"La durée maximale de tout les trajets est : {max_ts}\")\n",
    "print(f\"La durée moyenne de tout les trajets est : {mean_ts}\")"
   ]
  },
  {
   "cell_type": "markdown",
   "id": "722e6014",
   "metadata": {
    "papermill": {
     "duration": 0.015061,
     "end_time": "2022-12-07T12:46:13.583009",
     "exception": false,
     "start_time": "2022-12-07T12:46:13.567948",
     "status": "completed"
    },
    "tags": []
   },
   "source": [
    "#### Quel est le nombre total de trajet que nous avons ?"
   ]
  },
  {
   "cell_type": "code",
   "execution_count": 21,
   "id": "80e5b54b",
   "metadata": {
    "execution": {
     "iopub.execute_input": "2022-12-07T12:46:13.617147Z",
     "iopub.status.busy": "2022-12-07T12:46:13.616091Z",
     "iopub.status.idle": "2022-12-07T12:46:13.630770Z",
     "shell.execute_reply": "2022-12-07T12:46:13.629850Z"
    },
    "papermill": {
     "duration": 0.034417,
     "end_time": "2022-12-07T12:46:13.633450",
     "exception": false,
     "start_time": "2022-12-07T12:46:13.599033",
     "status": "completed"
    },
    "tags": []
   },
   "outputs": [
    {
     "name": "stdout",
     "output_type": "stream",
     "text": [
      "Nous avons au total 1437 trajets.\n"
     ]
    }
   ],
   "source": [
    "TOTAL_TRAJET = len(ticket_data.groupby('o_city')['d_city'].value_counts())\n",
    "print(f\"Nous avons au total {TOTAL_TRAJET} trajets.\")"
   ]
  },
  {
   "cell_type": "markdown",
   "id": "2d4de00b",
   "metadata": {
    "papermill": {
     "duration": 0.014387,
     "end_time": "2022-12-07T12:46:13.663183",
     "exception": false,
     "start_time": "2022-12-07T12:46:13.648796",
     "status": "completed"
    },
    "tags": []
   },
   "source": [
    "**Durée min, max, moyenne par trajet**"
   ]
  },
  {
   "cell_type": "code",
   "execution_count": 22,
   "id": "ca5d3d55",
   "metadata": {
    "execution": {
     "iopub.execute_input": "2022-12-07T12:46:13.695129Z",
     "iopub.status.busy": "2022-12-07T12:46:13.694087Z",
     "iopub.status.idle": "2022-12-07T12:46:18.925736Z",
     "shell.execute_reply": "2022-12-07T12:46:18.924775Z"
    },
    "papermill": {
     "duration": 5.249477,
     "end_time": "2022-12-07T12:46:18.927712",
     "exception": false,
     "start_time": "2022-12-07T12:46:13.678235",
     "status": "completed"
    },
    "tags": []
   },
   "outputs": [
    {
     "data": {
      "text/html": [
       "<style type=\"text/css\">\n",
       "#T_4ea27_row0_col0 {\n",
       "  background-color: #f79595;\n",
       "  color: #000000;\n",
       "}\n",
       "#T_4ea27_row0_col1 {\n",
       "  background-color: #f7a8a7;\n",
       "  color: #000000;\n",
       "}\n",
       "#T_4ea27_row0_col2 {\n",
       "  background-color: #f89292;\n",
       "  color: #000000;\n",
       "}\n",
       "#T_4ea27_row1_col0 {\n",
       "  background-color: #fa6c6c;\n",
       "  color: #f1f1f1;\n",
       "}\n",
       "#T_4ea27_row1_col1 {\n",
       "  background-color: #f6acac;\n",
       "  color: #000000;\n",
       "}\n",
       "#T_4ea27_row1_col2 {\n",
       "  background-color: #f96e6e;\n",
       "  color: #f1f1f1;\n",
       "}\n",
       "#T_4ea27_row2_col0 {\n",
       "  background-color: #f6bbbb;\n",
       "  color: #000000;\n",
       "}\n",
       "#T_4ea27_row2_col1 {\n",
       "  background-color: #f5bdbd;\n",
       "  color: #000000;\n",
       "}\n",
       "#T_4ea27_row2_col2 {\n",
       "  background-color: #f7a7a7;\n",
       "  color: #000000;\n",
       "}\n",
       "#T_4ea27_row3_col0 {\n",
       "  background-color: #f88c8c;\n",
       "  color: #f1f1f1;\n",
       "}\n",
       "#T_4ea27_row3_col1 {\n",
       "  background-color: #f6b0b0;\n",
       "  color: #000000;\n",
       "}\n",
       "#T_4ea27_row3_col2 {\n",
       "  background-color: #f97e7e;\n",
       "  color: #f1f1f1;\n",
       "}\n",
       "#T_4ea27_row4_col0, #T_4ea27_row4_col1, #T_4ea27_row4_col2 {\n",
       "  background-color: #f3f0f0;\n",
       "  color: #000000;\n",
       "}\n",
       "#T_4ea27_row5_col0 {\n",
       "  background-color: #f5c2c2;\n",
       "  color: #000000;\n",
       "}\n",
       "#T_4ea27_row5_col1 {\n",
       "  background-color: #f4d8d8;\n",
       "  color: #000000;\n",
       "}\n",
       "#T_4ea27_row5_col2 {\n",
       "  background-color: #f5c1c1;\n",
       "  color: #000000;\n",
       "}\n",
       "#T_4ea27_row6_col0 {\n",
       "  background-color: #fb5353;\n",
       "  color: #f1f1f1;\n",
       "}\n",
       "#T_4ea27_row6_col1 {\n",
       "  background-color: #f6abab;\n",
       "  color: #000000;\n",
       "}\n",
       "#T_4ea27_row6_col2 {\n",
       "  background-color: #fa6262;\n",
       "  color: #f1f1f1;\n",
       "}\n",
       "#T_4ea27_row7_col0, #T_4ea27_row7_col2, #T_4ea27_row9_col1 {\n",
       "  background-color: #ff0000;\n",
       "  color: #f1f1f1;\n",
       "}\n",
       "#T_4ea27_row7_col1 {\n",
       "  background-color: #fa6363;\n",
       "  color: #f1f1f1;\n",
       "}\n",
       "#T_4ea27_row8_col0 {\n",
       "  background-color: #f5cccc;\n",
       "  color: #000000;\n",
       "}\n",
       "#T_4ea27_row8_col1 {\n",
       "  background-color: #fc4545;\n",
       "  color: #f1f1f1;\n",
       "}\n",
       "#T_4ea27_row8_col2 {\n",
       "  background-color: #f88686;\n",
       "  color: #f1f1f1;\n",
       "}\n",
       "#T_4ea27_row9_col0 {\n",
       "  background-color: #f79f9f;\n",
       "  color: #000000;\n",
       "}\n",
       "#T_4ea27_row9_col2 {\n",
       "  background-color: #fb5656;\n",
       "  color: #f1f1f1;\n",
       "}\n",
       "</style>\n",
       "<table id=\"T_4ea27_\">\n",
       "  <thead>\n",
       "    <tr>\n",
       "      <th class=\"blank level0\" >&nbsp;</th>\n",
       "      <th class=\"col_heading level0 col0\" >duree_min</th>\n",
       "      <th class=\"col_heading level0 col1\" >duree_max</th>\n",
       "      <th class=\"col_heading level0 col2\" >duree_mean</th>\n",
       "      <th class=\"col_heading level0 col3\" >o_city_name</th>\n",
       "      <th class=\"col_heading level0 col4\" >d_city_name</th>\n",
       "    </tr>\n",
       "  </thead>\n",
       "  <tbody>\n",
       "    <tr>\n",
       "      <th id=\"T_4ea27_level0_row0\" class=\"row_heading level0 row0\" >0</th>\n",
       "      <td id=\"T_4ea27_row0_col0\" class=\"data row0 col0\" >0 days 08:53:00</td>\n",
       "      <td id=\"T_4ea27_row0_col1\" class=\"data row0 col1\" >0 days 15:54:00</td>\n",
       "      <td id=\"T_4ea27_row0_col2\" class=\"data row0 col2\" >0 days 10:18:48</td>\n",
       "      <td id=\"T_4ea27_row0_col3\" class=\"data row0 col3\" >agde</td>\n",
       "      <td id=\"T_4ea27_row0_col4\" class=\"data row0 col4\" >amsterdam</td>\n",
       "    </tr>\n",
       "    <tr>\n",
       "      <th id=\"T_4ea27_level0_row1\" class=\"row_heading level0 row1\" >1</th>\n",
       "      <td id=\"T_4ea27_row1_col0\" class=\"data row1 col0\" >0 days 12:24:00</td>\n",
       "      <td id=\"T_4ea27_row1_col1\" class=\"data row1 col1\" >0 days 15:01:00</td>\n",
       "      <td id=\"T_4ea27_row1_col2\" class=\"data row1 col2\" >0 days 13:42:30</td>\n",
       "      <td id=\"T_4ea27_row1_col3\" class=\"data row1 col3\" >agen</td>\n",
       "      <td id=\"T_4ea27_row1_col4\" class=\"data row1 col4\" >dijon</td>\n",
       "    </tr>\n",
       "    <tr>\n",
       "      <th id=\"T_4ea27_level0_row2\" class=\"row_heading level0 row2\" >2</th>\n",
       "      <td id=\"T_4ea27_row2_col0\" class=\"data row2 col0\" >0 days 05:36:00</td>\n",
       "      <td id=\"T_4ea27_row2_col1\" class=\"data row2 col1\" >0 days 12:20:00</td>\n",
       "      <td id=\"T_4ea27_row2_col2\" class=\"data row2 col2\" >0 days 08:17:24</td>\n",
       "      <td id=\"T_4ea27_row2_col3\" class=\"data row2 col3\" >agen</td>\n",
       "      <td id=\"T_4ea27_row2_col4\" class=\"data row2 col4\" >marseille</td>\n",
       "    </tr>\n",
       "    <tr>\n",
       "      <th id=\"T_4ea27_level0_row3\" class=\"row_heading level0 row3\" >3</th>\n",
       "      <td id=\"T_4ea27_row3_col0\" class=\"data row3 col0\" >0 days 09:40:00</td>\n",
       "      <td id=\"T_4ea27_row3_col1\" class=\"data row3 col1\" >0 days 14:30:00</td>\n",
       "      <td id=\"T_4ea27_row3_col2\" class=\"data row3 col2\" >0 days 12:10:00</td>\n",
       "      <td id=\"T_4ea27_row3_col3\" class=\"data row3 col3\" >agen</td>\n",
       "      <td id=\"T_4ea27_row3_col4\" class=\"data row3 col4\" >paris</td>\n",
       "    </tr>\n",
       "    <tr>\n",
       "      <th id=\"T_4ea27_level0_row4\" class=\"row_heading level0 row4\" >4</th>\n",
       "      <td id=\"T_4ea27_row4_col0\" class=\"data row4 col0\" >0 days 01:00:00</td>\n",
       "      <td id=\"T_4ea27_row4_col1\" class=\"data row4 col1\" >0 days 04:11:00</td>\n",
       "      <td id=\"T_4ea27_row4_col2\" class=\"data row4 col2\" >0 days 01:19:54.626865671</td>\n",
       "      <td id=\"T_4ea27_row4_col3\" class=\"data row4 col3\" >agen</td>\n",
       "      <td id=\"T_4ea27_row4_col4\" class=\"data row4 col4\" >toulouse</td>\n",
       "    </tr>\n",
       "    <tr>\n",
       "      <th id=\"T_4ea27_level0_row5\" class=\"row_heading level0 row5\" >5</th>\n",
       "      <td id=\"T_4ea27_row5_col0\" class=\"data row5 col0\" >0 days 05:00:00</td>\n",
       "      <td id=\"T_4ea27_row5_col1\" class=\"data row5 col1\" >0 days 08:00:00</td>\n",
       "      <td id=\"T_4ea27_row5_col2\" class=\"data row5 col2\" >0 days 05:50:00</td>\n",
       "      <td id=\"T_4ea27_row5_col3\" class=\"data row5 col3\" >agen</td>\n",
       "      <td id=\"T_4ea27_row5_col4\" class=\"data row5 col4\" >marseille-aeroport</td>\n",
       "    </tr>\n",
       "    <tr>\n",
       "      <th id=\"T_4ea27_level0_row6\" class=\"row_heading level0 row6\" >6</th>\n",
       "      <td id=\"T_4ea27_row6_col0\" class=\"data row6 col0\" >0 days 14:35:00</td>\n",
       "      <td id=\"T_4ea27_row6_col1\" class=\"data row6 col1\" >0 days 15:10:00</td>\n",
       "      <td id=\"T_4ea27_row6_col2\" class=\"data row6 col2\" >0 days 14:52:30</td>\n",
       "      <td id=\"T_4ea27_row6_col3\" class=\"data row6 col3\" >aix-en-provence</td>\n",
       "      <td id=\"T_4ea27_row6_col4\" class=\"data row6 col4\" >angers</td>\n",
       "    </tr>\n",
       "    <tr>\n",
       "      <th id=\"T_4ea27_level0_row7\" class=\"row_heading level0 row7\" >7</th>\n",
       "      <td id=\"T_4ea27_row7_col0\" class=\"data row7 col0\" >0 days 21:45:00</td>\n",
       "      <td id=\"T_4ea27_row7_col1\" class=\"data row7 col1\" >1 days 02:45:00</td>\n",
       "      <td id=\"T_4ea27_row7_col2\" class=\"data row7 col2\" >1 days 00:09:00</td>\n",
       "      <td id=\"T_4ea27_row7_col3\" class=\"data row7 col3\" >aix-en-provence</td>\n",
       "      <td id=\"T_4ea27_row7_col4\" class=\"data row7 col4\" >annecy</td>\n",
       "    </tr>\n",
       "    <tr>\n",
       "      <th id=\"T_4ea27_level0_row8\" class=\"row_heading level0 row8\" >8</th>\n",
       "      <td id=\"T_4ea27_row8_col0\" class=\"data row8 col0\" >0 days 04:06:00</td>\n",
       "      <td id=\"T_4ea27_row8_col1\" class=\"data row8 col1\" >1 days 07:40:00</td>\n",
       "      <td id=\"T_4ea27_row8_col2\" class=\"data row8 col2\" >0 days 11:26:25.714285714</td>\n",
       "      <td id=\"T_4ea27_row8_col3\" class=\"data row8 col3\" >aix-en-provence</td>\n",
       "      <td id=\"T_4ea27_row8_col4\" class=\"data row8 col4\" >clermont-ferrand</td>\n",
       "    </tr>\n",
       "    <tr>\n",
       "      <th id=\"T_4ea27_level0_row9\" class=\"row_heading level0 row9\" >9</th>\n",
       "      <td id=\"T_4ea27_row9_col0\" class=\"data row9 col0\" >0 days 08:00:00</td>\n",
       "      <td id=\"T_4ea27_row9_col1\" class=\"data row9 col1\" >1 days 18:40:00</td>\n",
       "      <td id=\"T_4ea27_row9_col2\" class=\"data row9 col2\" >0 days 15:57:34.545454545</td>\n",
       "      <td id=\"T_4ea27_row9_col3\" class=\"data row9 col3\" >aix-en-provence</td>\n",
       "      <td id=\"T_4ea27_row9_col4\" class=\"data row9 col4\" >la-rochelle</td>\n",
       "    </tr>\n",
       "  </tbody>\n",
       "</table>\n"
      ],
      "text/plain": [
       "<pandas.io.formats.style.Styler at 0x7f3e46005f10>"
      ]
     },
     "execution_count": 22,
     "metadata": {},
     "output_type": "execute_result"
    }
   ],
   "source": [
    "# Durée min, max, moyenne par trajet\n",
    "dureeParTrajet = ticket_data.groupby(['o_city', 'd_city']).agg({'duree': ['min', 'max','mean']})\n",
    "dureeParTrajet.columns = ['duree_min', 'duree_max', 'duree_mean']\n",
    "dureeParTrajet = dureeParTrajet.reset_index()\n",
    "\n",
    "dureeParTrajet['o_city_name'] = dureeParTrajet['o_city'].apply(get_city_name) # Récupérer le nom des villes de départ\n",
    "dureeParTrajet['d_city_name'] = dureeParTrajet['d_city'].apply(get_city_name) # Récupérer le nom des villes d'arrivé\n",
    "dureeParTrajet[['duree_min','duree_max','duree_mean','o_city_name','d_city_name']].head(10).style.background_gradient(cmap=cmr)"
   ]
  },
  {
   "cell_type": "code",
   "execution_count": 23,
   "id": "eddf6b8e",
   "metadata": {
    "_kg_hide-input": true,
    "execution": {
     "iopub.execute_input": "2022-12-07T12:46:18.961537Z",
     "iopub.status.busy": "2022-12-07T12:46:18.961055Z",
     "iopub.status.idle": "2022-12-07T12:46:18.964467Z",
     "shell.execute_reply": "2022-12-07T12:46:18.963772Z"
    },
    "jupyter": {
     "source_hidden": true
    },
    "papermill": {
     "duration": 0.023562,
     "end_time": "2022-12-07T12:46:18.966272",
     "exception": false,
     "start_time": "2022-12-07T12:46:18.942710",
     "status": "completed"
    },
    "tags": []
   },
   "outputs": [],
   "source": [
    "#grouped_multiple['d_cit_name'] = grouped_multiple.merge(cities[['id','unique_name']], how=\"inner\", left_on='d_city', right_on='id')['unique_name']\n",
    "#grouped_multiple['o_cit_name'] = grouped_multiple.merge(cities[['id','unique_name']], how=\"inner\", left_on='o_city', right_on='id')['unique_name']\n",
    "#grouped_multiple.tail()\n",
    "\n",
    "#grouped_multiple['o_city_name'] = pd.merge(left=grouped_multiple, right=cities, how=\"inner\", left_on=\"o_city\", right_on=\"id\")['unique_name']\n",
    "#grouped_multiple['d_city_name'] = pd.merge(left=grouped_multiple, right=cities,  how=\"right\", left_on=\"d_city\", right_on=\"id\")['unique_name']\n",
    "#grouped_multiple.tail()"
   ]
  },
  {
   "cell_type": "markdown",
   "id": "59bf0cf8",
   "metadata": {
    "papermill": {
     "duration": 0.014694,
     "end_time": "2022-12-07T12:46:18.996396",
     "exception": false,
     "start_time": "2022-12-07T12:46:18.981702",
     "status": "completed"
    },
    "tags": []
   },
   "source": [
    "## Conclusion\n",
    "\n",
    "Comme nous pouvons le constater, le Dataframe **dureeParTrajet** résume les durées min, max et moyenne de chaque trajet. Par exemple  : \n",
    "\n",
    "- Les durées min, max et moyenne du trajet `agde`-`amsterdam` sont respectivement **08h53min**, **15h01min** et **10h18min48sec**\n",
    "- Les durées min, max et moyenne du trajet `agen`-`marseille` sont respectivement **05h36min**, **12h20min** et  **08h17min24sec**\n",
    "- Les durées min, max et moyenne du trajet `aix-en-provence`-`clermont-ferrand` sont respectivement **04h06min**, **1 jour 07h40min** et  **11h26min25sec**\n",
    "- etc..."
   ]
  },
  {
   "cell_type": "markdown",
   "id": "84fcf148",
   "metadata": {
    "papermill": {
     "duration": 0.014971,
     "end_time": "2022-12-07T12:46:19.025930",
     "exception": false,
     "start_time": "2022-12-07T12:46:19.010959",
     "status": "completed"
    },
    "tags": []
   },
   "source": [
    "<div style=\"background-color:#5bbbcf;padding:2px;border-radius:4px\">  \n",
    "    <h2 align=\"center\" style=\"color:white;\">2. Différence de prix moyen et durée selon le train, le bus et le covoit selon la distance du trajet \n",
    " </h2>  \n",
    "</div>"
   ]
  },
  {
   "cell_type": "markdown",
   "id": "cbb39e72",
   "metadata": {
    "papermill": {
     "duration": 0.015007,
     "end_time": "2022-12-07T12:46:19.056186",
     "exception": false,
     "start_time": "2022-12-07T12:46:19.041179",
     "status": "completed"
    },
    "tags": []
   },
   "source": [
    "#### Calcule de la distance de chaque trajet "
   ]
  },
  {
   "cell_type": "code",
   "execution_count": 24,
   "id": "af73110e",
   "metadata": {
    "execution": {
     "iopub.execute_input": "2022-12-07T12:46:19.089230Z",
     "iopub.status.busy": "2022-12-07T12:46:19.088629Z",
     "iopub.status.idle": "2022-12-07T12:46:19.101509Z",
     "shell.execute_reply": "2022-12-07T12:46:19.100574Z"
    },
    "papermill": {
     "duration": 0.031862,
     "end_time": "2022-12-07T12:46:19.103456",
     "exception": false,
     "start_time": "2022-12-07T12:46:19.071594",
     "status": "completed"
    },
    "tags": []
   },
   "outputs": [
    {
     "data": {
      "text/html": [
       "<div>\n",
       "<style scoped>\n",
       "    .dataframe tbody tr th:only-of-type {\n",
       "        vertical-align: middle;\n",
       "    }\n",
       "\n",
       "    .dataframe tbody tr th {\n",
       "        vertical-align: top;\n",
       "    }\n",
       "\n",
       "    .dataframe thead th {\n",
       "        text-align: right;\n",
       "    }\n",
       "</style>\n",
       "<table border=\"1\" class=\"dataframe\">\n",
       "  <thead>\n",
       "    <tr style=\"text-align: right;\">\n",
       "      <th></th>\n",
       "      <th>company</th>\n",
       "      <th>price_in_cents</th>\n",
       "      <th>o_city</th>\n",
       "      <th>d_city</th>\n",
       "      <th>duree</th>\n",
       "    </tr>\n",
       "  </thead>\n",
       "  <tbody>\n",
       "    <tr>\n",
       "      <th>0</th>\n",
       "      <td>8385</td>\n",
       "      <td>4550</td>\n",
       "      <td>611</td>\n",
       "      <td>542</td>\n",
       "      <td>0 days 06:10:00</td>\n",
       "    </tr>\n",
       "    <tr>\n",
       "      <th>1</th>\n",
       "      <td>9</td>\n",
       "      <td>1450</td>\n",
       "      <td>611</td>\n",
       "      <td>542</td>\n",
       "      <td>0 days 17:50:00</td>\n",
       "    </tr>\n",
       "    <tr>\n",
       "      <th>2</th>\n",
       "      <td>8377</td>\n",
       "      <td>7400</td>\n",
       "      <td>611</td>\n",
       "      <td>542</td>\n",
       "      <td>1 days 07:57:00</td>\n",
       "    </tr>\n",
       "  </tbody>\n",
       "</table>\n",
       "</div>"
      ],
      "text/plain": [
       "   company  price_in_cents  o_city  d_city           duree\n",
       "0     8385            4550     611     542 0 days 06:10:00\n",
       "1        9            1450     611     542 0 days 17:50:00\n",
       "2     8377            7400     611     542 1 days 07:57:00"
      ]
     },
     "execution_count": 24,
     "metadata": {},
     "output_type": "execute_result"
    }
   ],
   "source": [
    "from math import sin, cos, sqrt, atan2, radians\n",
    "\n",
    "distTrajets = ticket_data[['company','price_in_cents','o_city','d_city','duree']].copy()\n",
    "distTrajets.head(3)"
   ]
  },
  {
   "cell_type": "code",
   "execution_count": 25,
   "id": "2b37114e",
   "metadata": {
    "execution": {
     "iopub.execute_input": "2022-12-07T12:46:19.134975Z",
     "iopub.status.busy": "2022-12-07T12:46:19.134583Z",
     "iopub.status.idle": "2022-12-07T12:51:32.972472Z",
     "shell.execute_reply": "2022-12-07T12:51:32.971537Z"
    },
    "papermill": {
     "duration": 313.869899,
     "end_time": "2022-12-07T12:51:32.988762",
     "exception": false,
     "start_time": "2022-12-07T12:46:19.118863",
     "status": "completed"
    },
    "tags": []
   },
   "outputs": [
    {
     "name": "stdout",
     "output_type": "stream",
     "text": [
      "CPU times: user 5min 3s, sys: 9.51 s, total: 5min 12s\n",
      "Wall time: 5min 13s\n"
     ]
    },
    {
     "data": {
      "text/html": [
       "<div>\n",
       "<style scoped>\n",
       "    .dataframe tbody tr th:only-of-type {\n",
       "        vertical-align: middle;\n",
       "    }\n",
       "\n",
       "    .dataframe tbody tr th {\n",
       "        vertical-align: top;\n",
       "    }\n",
       "\n",
       "    .dataframe thead th {\n",
       "        text-align: right;\n",
       "    }\n",
       "</style>\n",
       "<table border=\"1\" class=\"dataframe\">\n",
       "  <thead>\n",
       "    <tr style=\"text-align: right;\">\n",
       "      <th></th>\n",
       "      <th>company</th>\n",
       "      <th>price_in_cents</th>\n",
       "      <th>o_city</th>\n",
       "      <th>d_city</th>\n",
       "      <th>duree</th>\n",
       "      <th>distance_km</th>\n",
       "    </tr>\n",
       "  </thead>\n",
       "  <tbody>\n",
       "    <tr>\n",
       "      <th>0</th>\n",
       "      <td>8385</td>\n",
       "      <td>4550</td>\n",
       "      <td>611</td>\n",
       "      <td>542</td>\n",
       "      <td>0 days 06:10:00</td>\n",
       "      <td>503.75</td>\n",
       "    </tr>\n",
       "    <tr>\n",
       "      <th>1</th>\n",
       "      <td>9</td>\n",
       "      <td>1450</td>\n",
       "      <td>611</td>\n",
       "      <td>542</td>\n",
       "      <td>0 days 17:50:00</td>\n",
       "      <td>503.75</td>\n",
       "    </tr>\n",
       "    <tr>\n",
       "      <th>2</th>\n",
       "      <td>8377</td>\n",
       "      <td>7400</td>\n",
       "      <td>611</td>\n",
       "      <td>542</td>\n",
       "      <td>1 days 07:57:00</td>\n",
       "      <td>503.75</td>\n",
       "    </tr>\n",
       "  </tbody>\n",
       "</table>\n",
       "</div>"
      ],
      "text/plain": [
       "   company  price_in_cents  o_city  d_city           duree  distance_km\n",
       "0     8385            4550     611     542 0 days 06:10:00       503.75\n",
       "1        9            1450     611     542 0 days 17:50:00       503.75\n",
       "2     8377            7400     611     542 1 days 07:57:00       503.75"
      ]
     },
     "execution_count": 25,
     "metadata": {},
     "output_type": "execute_result"
    }
   ],
   "source": [
    "%%time\n",
    "kms = []\n",
    "R = 6378.0 # le rayon approximatif de la terre en km\n",
    "\n",
    "for i in range(distTrajets.shape[0]):\n",
    "    id_o_city = distTrajets['o_city'].iloc[i]\n",
    "    id_d_city = distTrajets['d_city'].iloc[i]\n",
    "    \n",
    "    coordonnes = cities.query(f\"id=={id_o_city}\")[['latitude','longitude']].values[0]\n",
    "    lat1 = radians(coordonnes[0])\n",
    "    lon1 = radians(coordonnes[1])\n",
    "    \n",
    "    coordonnes = cities.query(f\"id=={id_d_city}\")[['latitude','longitude']].values[0]\n",
    "    lat2 = radians(coordonnes[0])\n",
    "    lon2 = radians(coordonnes[1])\n",
    "    \n",
    "    dlon = lon2 - lon1\n",
    "    dlat = lat2 - lat1\n",
    "\n",
    "    a = sin(dlat / 2)**2 + cos(lat1) * cos(lat2) * sin(dlon / 2)**2\n",
    "    c = 2 * atan2(sqrt(a), sqrt(1 - a))\n",
    "\n",
    "    dist = R * c\n",
    "    dist = np.round(dist, 3)\n",
    "    \n",
    "    kms.append(dist)\n",
    "    \n",
    "distTrajets['distance_km'] = kms\n",
    "distTrajets.head(3)"
   ]
  },
  {
   "cell_type": "markdown",
   "id": "a9c43091",
   "metadata": {
    "papermill": {
     "duration": 0.015082,
     "end_time": "2022-12-07T12:51:33.019154",
     "exception": false,
     "start_time": "2022-12-07T12:51:33.004072",
     "status": "completed"
    },
    "tags": []
   },
   "source": [
    "#### Récupération du type de transport de chaque trajet"
   ]
  },
  {
   "cell_type": "code",
   "execution_count": 26,
   "id": "6d0e28e7",
   "metadata": {
    "execution": {
     "iopub.execute_input": "2022-12-07T12:51:33.052105Z",
     "iopub.status.busy": "2022-12-07T12:51:33.051444Z",
     "iopub.status.idle": "2022-12-07T12:51:33.059631Z",
     "shell.execute_reply": "2022-12-07T12:51:33.058999Z"
    },
    "papermill": {
     "duration": 0.026919,
     "end_time": "2022-12-07T12:51:33.061418",
     "exception": false,
     "start_time": "2022-12-07T12:51:33.034499",
     "status": "completed"
    },
    "tags": []
   },
   "outputs": [
    {
     "data": {
      "text/plain": [
       "'bus'"
      ]
     },
     "execution_count": 26,
     "metadata": {},
     "output_type": "execute_result"
    }
   ],
   "source": [
    "# Type de moyen de transport proposer par la compagnie 9\n",
    "providers.query(\"company_id==9\")['transport_type'].values[0]"
   ]
  },
  {
   "cell_type": "markdown",
   "id": "26fcd4c2",
   "metadata": {
    "papermill": {
     "duration": 0.014554,
     "end_time": "2022-12-07T12:51:33.090876",
     "exception": false,
     "start_time": "2022-12-07T12:51:33.076322",
     "status": "completed"
    },
    "tags": []
   },
   "source": [
    "Malheureusement, pour certaines compagnies comme la compagnie `8385`, nous ne disposont pas des informations sur le type de transport."
   ]
  },
  {
   "cell_type": "code",
   "execution_count": 27,
   "id": "e956ce04",
   "metadata": {
    "execution": {
     "iopub.execute_input": "2022-12-07T12:51:33.123318Z",
     "iopub.status.busy": "2022-12-07T12:51:33.122550Z",
     "iopub.status.idle": "2022-12-07T12:51:33.131591Z",
     "shell.execute_reply": "2022-12-07T12:51:33.130302Z"
    },
    "papermill": {
     "duration": 0.027437,
     "end_time": "2022-12-07T12:51:33.133470",
     "exception": false,
     "start_time": "2022-12-07T12:51:33.106033",
     "status": "completed"
    },
    "tags": []
   },
   "outputs": [
    {
     "name": "stdout",
     "output_type": "stream",
     "text": [
      "Pas de moyen de transport proposer par la compagnie 8385\n"
     ]
    }
   ],
   "source": [
    "# Type de moyen de transport proposer par la compagnie 8385\n",
    "comp = 8385 # id de la compagnie\n",
    "try:\n",
    "    print(providers.query(f\"company_id=={comp}\")['transport_type'].values[0])\n",
    "except:\n",
    "    print(f\"Pas de moyen de transport proposer par la compagnie {comp}\")"
   ]
  },
  {
   "cell_type": "code",
   "execution_count": 28,
   "id": "828dbb85",
   "metadata": {
    "execution": {
     "iopub.execute_input": "2022-12-07T12:51:33.165589Z",
     "iopub.status.busy": "2022-12-07T12:51:33.165020Z",
     "iopub.status.idle": "2022-12-07T12:53:32.049629Z",
     "shell.execute_reply": "2022-12-07T12:53:32.048687Z"
    },
    "papermill": {
     "duration": 118.918574,
     "end_time": "2022-12-07T12:53:32.067268",
     "exception": false,
     "start_time": "2022-12-07T12:51:33.148694",
     "status": "completed"
    },
    "tags": []
   },
   "outputs": [
    {
     "data": {
      "text/html": [
       "<div>\n",
       "<style scoped>\n",
       "    .dataframe tbody tr th:only-of-type {\n",
       "        vertical-align: middle;\n",
       "    }\n",
       "\n",
       "    .dataframe tbody tr th {\n",
       "        vertical-align: top;\n",
       "    }\n",
       "\n",
       "    .dataframe thead th {\n",
       "        text-align: right;\n",
       "    }\n",
       "</style>\n",
       "<table border=\"1\" class=\"dataframe\">\n",
       "  <thead>\n",
       "    <tr style=\"text-align: right;\">\n",
       "      <th></th>\n",
       "      <th>company</th>\n",
       "      <th>price_in_cents</th>\n",
       "      <th>o_city</th>\n",
       "      <th>d_city</th>\n",
       "      <th>duree</th>\n",
       "      <th>distance_km</th>\n",
       "      <th>transport_type</th>\n",
       "    </tr>\n",
       "  </thead>\n",
       "  <tbody>\n",
       "    <tr>\n",
       "      <th>0</th>\n",
       "      <td>8385</td>\n",
       "      <td>4550</td>\n",
       "      <td>611</td>\n",
       "      <td>542</td>\n",
       "      <td>0 days 06:10:00</td>\n",
       "      <td>503.75</td>\n",
       "      <td>NaN</td>\n",
       "    </tr>\n",
       "    <tr>\n",
       "      <th>1</th>\n",
       "      <td>9</td>\n",
       "      <td>1450</td>\n",
       "      <td>611</td>\n",
       "      <td>542</td>\n",
       "      <td>0 days 17:50:00</td>\n",
       "      <td>503.75</td>\n",
       "      <td>bus</td>\n",
       "    </tr>\n",
       "    <tr>\n",
       "      <th>2</th>\n",
       "      <td>8377</td>\n",
       "      <td>7400</td>\n",
       "      <td>611</td>\n",
       "      <td>542</td>\n",
       "      <td>1 days 07:57:00</td>\n",
       "      <td>503.75</td>\n",
       "      <td>NaN</td>\n",
       "    </tr>\n",
       "  </tbody>\n",
       "</table>\n",
       "</div>"
      ],
      "text/plain": [
       "   company  price_in_cents  o_city  d_city           duree  distance_km  \\\n",
       "0     8385            4550     611     542 0 days 06:10:00       503.75   \n",
       "1        9            1450     611     542 0 days 17:50:00       503.75   \n",
       "2     8377            7400     611     542 1 days 07:57:00       503.75   \n",
       "\n",
       "  transport_type  \n",
       "0            NaN  \n",
       "1            bus  \n",
       "2            NaN  "
      ]
     },
     "execution_count": 28,
     "metadata": {},
     "output_type": "execute_result"
    }
   ],
   "source": [
    "# Fonction de récupération du type de transport proposé par une compagnie\n",
    "# On retourne NaN si le type n'est pas fourni\n",
    "def get_transport_type(id_transport_type):\n",
    "    try:\n",
    "        return providers.query(f\"company_id=={id_transport_type}\")['transport_type'].values[0]\n",
    "    except:\n",
    "        return np.NaN\n",
    "\n",
    "# Récupération du type de transport de chaque trajet\n",
    "distTrajets['transport_type'] = distTrajets['company'].apply(get_transport_type)\n",
    "distTrajets.head(3)"
   ]
  },
  {
   "cell_type": "code",
   "execution_count": 29,
   "id": "2f8de06e",
   "metadata": {
    "execution": {
     "iopub.execute_input": "2022-12-07T12:53:32.098388Z",
     "iopub.status.busy": "2022-12-07T12:53:32.098089Z",
     "iopub.status.idle": "2022-12-07T12:53:32.105674Z",
     "shell.execute_reply": "2022-12-07T12:53:32.104850Z"
    },
    "papermill": {
     "duration": 0.025432,
     "end_time": "2022-12-07T12:53:32.107598",
     "exception": false,
     "start_time": "2022-12-07T12:53:32.082166",
     "status": "completed"
    },
    "tags": []
   },
   "outputs": [
    {
     "name": "stdout",
     "output_type": "stream",
     "text": [
      "Nous avons 3574 données utilisables sur les 74168 données fournies\n"
     ]
    }
   ],
   "source": [
    "val = distTrajets.shape[0] - distTrajets['transport_type'].isna().sum()\n",
    "print(f\"Nous avons {val} données utilisables sur les {distTrajets.shape[0]} données fournies\")"
   ]
  },
  {
   "cell_type": "markdown",
   "id": "4c2bfc69",
   "metadata": {
    "papermill": {
     "duration": 0.014983,
     "end_time": "2022-12-07T12:53:32.137720",
     "exception": false,
     "start_time": "2022-12-07T12:53:32.122737",
     "status": "completed"
    },
    "tags": []
   },
   "source": [
    "Nous allons donc continuer les analyses avec les **3574** données utilisables."
   ]
  },
  {
   "cell_type": "code",
   "execution_count": 30,
   "id": "51857f98",
   "metadata": {
    "execution": {
     "iopub.execute_input": "2022-12-07T12:53:32.170586Z",
     "iopub.status.busy": "2022-12-07T12:53:32.170257Z",
     "iopub.status.idle": "2022-12-07T12:53:32.184516Z",
     "shell.execute_reply": "2022-12-07T12:53:32.183705Z"
    },
    "papermill": {
     "duration": 0.033893,
     "end_time": "2022-12-07T12:53:32.186542",
     "exception": false,
     "start_time": "2022-12-07T12:53:32.152649",
     "status": "completed"
    },
    "tags": []
   },
   "outputs": [
    {
     "data": {
      "text/plain": [
       "bus           3560\n",
       "train            9\n",
       "carpooling       5\n",
       "Name: transport_type, dtype: int64"
      ]
     },
     "execution_count": 30,
     "metadata": {},
     "output_type": "execute_result"
    }
   ],
   "source": [
    "# Récupération des 3574 données dans un nouveau dataframe (df) \n",
    "df = distTrajets.dropna(axis=0)\n",
    "\n",
    "# Affichage du nombre de type de transport dont nous disposons\n",
    "df.transport_type.value_counts()"
   ]
  },
  {
   "cell_type": "code",
   "execution_count": 31,
   "id": "9dfa2f83",
   "metadata": {
    "execution": {
     "iopub.execute_input": "2022-12-07T12:53:32.221316Z",
     "iopub.status.busy": "2022-12-07T12:53:32.220516Z",
     "iopub.status.idle": "2022-12-07T12:53:32.227027Z",
     "shell.execute_reply": "2022-12-07T12:53:32.225903Z"
    },
    "papermill": {
     "duration": 0.025371,
     "end_time": "2022-12-07T12:53:32.228898",
     "exception": false,
     "start_time": "2022-12-07T12:53:32.203527",
     "status": "completed"
    },
    "tags": []
   },
   "outputs": [
    {
     "name": "stdout",
     "output_type": "stream",
     "text": [
      "La distance minimale en km de tout les trajets est 30.547\n",
      "La distance maximale en km de tout les trajets est 1757.986\n",
      "La distance moyenne en km de tout les trajets est 452.46020397313936\n"
     ]
    }
   ],
   "source": [
    "print(f\"La distance minimale en km de tout les trajets est {df.distance_km.min()}\")\n",
    "print(f\"La distance maximale en km de tout les trajets est {df.distance_km.max()}\")\n",
    "print(f\"La distance moyenne en km de tout les trajets est {df.distance_km.mean()}\")"
   ]
  },
  {
   "cell_type": "code",
   "execution_count": 32,
   "id": "7fec4483",
   "metadata": {
    "execution": {
     "iopub.execute_input": "2022-12-07T12:53:32.261990Z",
     "iopub.status.busy": "2022-12-07T12:53:32.261509Z",
     "iopub.status.idle": "2022-12-07T12:53:32.276934Z",
     "shell.execute_reply": "2022-12-07T12:53:32.275984Z"
    },
    "papermill": {
     "duration": 0.033756,
     "end_time": "2022-12-07T12:53:32.278977",
     "exception": false,
     "start_time": "2022-12-07T12:53:32.245221",
     "status": "completed"
    },
    "tags": []
   },
   "outputs": [
    {
     "data": {
      "text/html": [
       "<div>\n",
       "<style scoped>\n",
       "    .dataframe tbody tr th:only-of-type {\n",
       "        vertical-align: middle;\n",
       "    }\n",
       "\n",
       "    .dataframe tbody tr th {\n",
       "        vertical-align: top;\n",
       "    }\n",
       "\n",
       "    .dataframe thead th {\n",
       "        text-align: right;\n",
       "    }\n",
       "</style>\n",
       "<table border=\"1\" class=\"dataframe\">\n",
       "  <thead>\n",
       "    <tr style=\"text-align: right;\">\n",
       "      <th></th>\n",
       "      <th>company</th>\n",
       "      <th>price_in_cents</th>\n",
       "      <th>o_city</th>\n",
       "      <th>d_city</th>\n",
       "      <th>duree</th>\n",
       "      <th>distance_km</th>\n",
       "      <th>transport_type</th>\n",
       "      <th>distance_range</th>\n",
       "    </tr>\n",
       "  </thead>\n",
       "  <tbody>\n",
       "    <tr>\n",
       "      <th>1</th>\n",
       "      <td>9</td>\n",
       "      <td>1450</td>\n",
       "      <td>611</td>\n",
       "      <td>542</td>\n",
       "      <td>0 days 17:50:00</td>\n",
       "      <td>503.750</td>\n",
       "      <td>bus</td>\n",
       "      <td>501-1000km</td>\n",
       "    </tr>\n",
       "    <tr>\n",
       "      <th>51</th>\n",
       "      <td>9</td>\n",
       "      <td>1990</td>\n",
       "      <td>628</td>\n",
       "      <td>453</td>\n",
       "      <td>0 days 06:35:00</td>\n",
       "      <td>206.069</td>\n",
       "      <td>bus</td>\n",
       "      <td>0-250km</td>\n",
       "    </tr>\n",
       "    <tr>\n",
       "      <th>53</th>\n",
       "      <td>9</td>\n",
       "      <td>1800</td>\n",
       "      <td>628</td>\n",
       "      <td>453</td>\n",
       "      <td>1 days 06:50:00</td>\n",
       "      <td>206.069</td>\n",
       "      <td>bus</td>\n",
       "      <td>0-250km</td>\n",
       "    </tr>\n",
       "    <tr>\n",
       "      <th>55</th>\n",
       "      <td>9</td>\n",
       "      <td>1590</td>\n",
       "      <td>628</td>\n",
       "      <td>453</td>\n",
       "      <td>0 days 04:10:00</td>\n",
       "      <td>206.069</td>\n",
       "      <td>bus</td>\n",
       "      <td>0-250km</td>\n",
       "    </tr>\n",
       "    <tr>\n",
       "      <th>57</th>\n",
       "      <td>9</td>\n",
       "      <td>1100</td>\n",
       "      <td>628</td>\n",
       "      <td>453</td>\n",
       "      <td>1 days 01:05:00</td>\n",
       "      <td>206.069</td>\n",
       "      <td>bus</td>\n",
       "      <td>0-250km</td>\n",
       "    </tr>\n",
       "  </tbody>\n",
       "</table>\n",
       "</div>"
      ],
      "text/plain": [
       "    company  price_in_cents  o_city  d_city           duree  distance_km  \\\n",
       "1         9            1450     611     542 0 days 17:50:00      503.750   \n",
       "51        9            1990     628     453 0 days 06:35:00      206.069   \n",
       "53        9            1800     628     453 1 days 06:50:00      206.069   \n",
       "55        9            1590     628     453 0 days 04:10:00      206.069   \n",
       "57        9            1100     628     453 1 days 01:05:00      206.069   \n",
       "\n",
       "   transport_type distance_range  \n",
       "1             bus     501-1000km  \n",
       "51            bus        0-250km  \n",
       "53            bus        0-250km  \n",
       "55            bus        0-250km  \n",
       "57            bus        0-250km  "
      ]
     },
     "execution_count": 32,
     "metadata": {},
     "output_type": "execute_result"
    }
   ],
   "source": [
    "# Fonction pour récupérer les plages de distance en km\n",
    "def get_distance_range(km):\n",
    "    if km <= 250:\n",
    "        return '0-250km'\n",
    "    elif km <= 500:\n",
    "        return '251-500km'\n",
    "    elif km <= 1000:\n",
    "        return '501-1000km'\n",
    "    else:\n",
    "        return '1001+km'\n",
    "    \n",
    "warnings.filterwarnings('ignore')\n",
    "df['distance_range'] = df['distance_km'].apply(get_distance_range)\n",
    "df.head()"
   ]
  },
  {
   "cell_type": "code",
   "execution_count": 33,
   "id": "8d59a2ca",
   "metadata": {
    "execution": {
     "iopub.execute_input": "2022-12-07T12:53:32.316687Z",
     "iopub.status.busy": "2022-12-07T12:53:32.316357Z",
     "iopub.status.idle": "2022-12-07T12:53:32.339103Z",
     "shell.execute_reply": "2022-12-07T12:53:32.338003Z"
    },
    "papermill": {
     "duration": 0.043661,
     "end_time": "2022-12-07T12:53:32.340861",
     "exception": false,
     "start_time": "2022-12-07T12:53:32.297200",
     "status": "completed"
    },
    "tags": []
   },
   "outputs": [
    {
     "data": {
      "text/html": [
       "<style type=\"text/css\">\n",
       "#T_f5b84_row0_col0 {\n",
       "  background-color: #f3e3e3;\n",
       "  color: #000000;\n",
       "}\n",
       "#T_f5b84_row0_col1, #T_f5b84_row4_col0 {\n",
       "  background-color: #f3efef;\n",
       "  color: #000000;\n",
       "}\n",
       "#T_f5b84_row1_col0 {\n",
       "  background-color: #f6bbbb;\n",
       "  color: #000000;\n",
       "}\n",
       "#T_f5b84_row1_col1, #T_f5b84_row5_col0 {\n",
       "  background-color: #f3f0f0;\n",
       "  color: #000000;\n",
       "}\n",
       "#T_f5b84_row2_col0, #T_f5b84_row2_col1 {\n",
       "  background-color: #ff0000;\n",
       "  color: #f1f1f1;\n",
       "}\n",
       "#T_f5b84_row3_col0 {\n",
       "  background-color: #f4d2d2;\n",
       "  color: #000000;\n",
       "}\n",
       "#T_f5b84_row3_col1 {\n",
       "  background-color: #f5c7c7;\n",
       "  color: #000000;\n",
       "}\n",
       "#T_f5b84_row4_col1 {\n",
       "  background-color: #f7a3a3;\n",
       "  color: #000000;\n",
       "}\n",
       "#T_f5b84_row5_col1 {\n",
       "  background-color: #f5c5c5;\n",
       "  color: #000000;\n",
       "}\n",
       "#T_f5b84_row6_col0 {\n",
       "  background-color: #f89494;\n",
       "  color: #000000;\n",
       "}\n",
       "#T_f5b84_row6_col1 {\n",
       "  background-color: #f79a9a;\n",
       "  color: #000000;\n",
       "}\n",
       "#T_f5b84_row7_col0 {\n",
       "  background-color: #f4d9d9;\n",
       "  color: #000000;\n",
       "}\n",
       "#T_f5b84_row7_col1 {\n",
       "  background-color: #f88383;\n",
       "  color: #f1f1f1;\n",
       "}\n",
       "#T_f5b84_row8_col0 {\n",
       "  background-color: #f88585;\n",
       "  color: #f1f1f1;\n",
       "}\n",
       "#T_f5b84_row8_col1 {\n",
       "  background-color: #f6b1b1;\n",
       "  color: #000000;\n",
       "}\n",
       "</style>\n",
       "<table id=\"T_f5b84_\">\n",
       "  <thead>\n",
       "    <tr>\n",
       "      <th class=\"blank\" >&nbsp;</th>\n",
       "      <th class=\"blank level0\" >&nbsp;</th>\n",
       "      <th class=\"col_heading level0 col0\" >duree</th>\n",
       "      <th class=\"col_heading level0 col1\" >price_in_cents</th>\n",
       "    </tr>\n",
       "    <tr>\n",
       "      <th class=\"index_name level0\" >distance_range</th>\n",
       "      <th class=\"index_name level1\" >transport_type</th>\n",
       "      <th class=\"blank col0\" >&nbsp;</th>\n",
       "      <th class=\"blank col1\" >&nbsp;</th>\n",
       "    </tr>\n",
       "  </thead>\n",
       "  <tbody>\n",
       "    <tr>\n",
       "      <th id=\"T_f5b84_level0_row0\" class=\"row_heading level0 row0\" rowspan=\"2\">0-250km</th>\n",
       "      <th id=\"T_f5b84_level1_row0\" class=\"row_heading level1 row0\" >bus</th>\n",
       "      <td id=\"T_f5b84_row0_col0\" class=\"data row0 col0\" >0 days 10:43:36.796875</td>\n",
       "      <td id=\"T_f5b84_row0_col1\" class=\"data row0 col1\" >2031.419271</td>\n",
       "    </tr>\n",
       "    <tr>\n",
       "      <th id=\"T_f5b84_level1_row1\" class=\"row_heading level1 row1\" >carpooling</th>\n",
       "      <td id=\"T_f5b84_row1_col0\" class=\"data row1 col0\" >0 days 14:15:00</td>\n",
       "      <td id=\"T_f5b84_row1_col1\" class=\"data row1 col1\" >1990.000000</td>\n",
       "    </tr>\n",
       "    <tr>\n",
       "      <th id=\"T_f5b84_level0_row2\" class=\"row_heading level0 row2\" >1001+km</th>\n",
       "      <th id=\"T_f5b84_level1_row2\" class=\"row_heading level1 row2\" >bus</th>\n",
       "      <td id=\"T_f5b84_row2_col0\" class=\"data row2 col0\" >1 days 06:42:33.409090909</td>\n",
       "      <td id=\"T_f5b84_row2_col1\" class=\"data row2 col1\" >8038.977273</td>\n",
       "    </tr>\n",
       "    <tr>\n",
       "      <th id=\"T_f5b84_level0_row3\" class=\"row_heading level0 row3\" rowspan=\"3\">251-500km</th>\n",
       "      <th id=\"T_f5b84_level1_row3\" class=\"row_heading level1 row3\" >bus</th>\n",
       "      <td id=\"T_f5b84_row3_col0\" class=\"data row3 col0\" >0 days 12:15:03.742372881</td>\n",
       "      <td id=\"T_f5b84_row3_col1\" class=\"data row3 col1\" >3048.117288</td>\n",
       "    </tr>\n",
       "    <tr>\n",
       "      <th id=\"T_f5b84_level1_row4\" class=\"row_heading level1 row4\" >carpooling</th>\n",
       "      <td id=\"T_f5b84_row4_col0\" class=\"data row4 col0\" >0 days 09:40:00</td>\n",
       "      <td id=\"T_f5b84_row4_col1\" class=\"data row4 col1\" >3945.000000</td>\n",
       "    </tr>\n",
       "    <tr>\n",
       "      <th id=\"T_f5b84_level1_row5\" class=\"row_heading level1 row5\" >train</th>\n",
       "      <td id=\"T_f5b84_row5_col0\" class=\"data row5 col0\" >0 days 09:33:20</td>\n",
       "      <td id=\"T_f5b84_row5_col1\" class=\"data row5 col1\" >3100.000000</td>\n",
       "    </tr>\n",
       "    <tr>\n",
       "      <th id=\"T_f5b84_level0_row6\" class=\"row_heading level0 row6\" rowspan=\"3\">501-1000km</th>\n",
       "      <th id=\"T_f5b84_level1_row6\" class=\"row_heading level1 row6\" >bus</th>\n",
       "      <td id=\"T_f5b84_row6_col0\" class=\"data row6 col0\" >0 days 17:39:51.456468673</td>\n",
       "      <td id=\"T_f5b84_row6_col1\" class=\"data row6 col1\" >4151.412531</td>\n",
       "    </tr>\n",
       "    <tr>\n",
       "      <th id=\"T_f5b84_level1_row7\" class=\"row_heading level1 row7\" >carpooling</th>\n",
       "      <td id=\"T_f5b84_row7_col0\" class=\"data row7 col0\" >0 days 11:32:30</td>\n",
       "      <td id=\"T_f5b84_row7_col1\" class=\"data row7 col1\" >4732.000000</td>\n",
       "    </tr>\n",
       "    <tr>\n",
       "      <th id=\"T_f5b84_level1_row8\" class=\"row_heading level1 row8\" >train</th>\n",
       "      <td id=\"T_f5b84_row8_col0\" class=\"data row8 col0\" >0 days 19:00:00</td>\n",
       "      <td id=\"T_f5b84_row8_col1\" class=\"data row8 col1\" >3596.666667</td>\n",
       "    </tr>\n",
       "  </tbody>\n",
       "</table>\n"
      ],
      "text/plain": [
       "<pandas.io.formats.style.Styler at 0x7f3e4612c150>"
      ]
     },
     "execution_count": 33,
     "metadata": {},
     "output_type": "execute_result"
    }
   ],
   "source": [
    "df1 = df.groupby(['distance_range', 'transport_type']).agg({'duree': 'mean', 'price_in_cents': 'mean'})\n",
    "df1.style.background_gradient(cmap=cmr)"
   ]
  },
  {
   "cell_type": "code",
   "execution_count": 34,
   "id": "6b919253",
   "metadata": {
    "_kg_hide-input": true,
    "execution": {
     "iopub.execute_input": "2022-12-07T12:53:32.374018Z",
     "iopub.status.busy": "2022-12-07T12:53:32.373505Z",
     "iopub.status.idle": "2022-12-07T12:53:32.466630Z",
     "shell.execute_reply": "2022-12-07T12:53:32.466001Z"
    },
    "jupyter": {
     "source_hidden": true
    },
    "papermill": {
     "duration": 0.111594,
     "end_time": "2022-12-07T12:53:32.468375",
     "exception": false,
     "start_time": "2022-12-07T12:53:32.356781",
     "status": "completed"
    },
    "tags": []
   },
   "outputs": [
    {
     "data": {
      "text/html": [
       "        <script type=\"text/javascript\">\n",
       "        window.PlotlyConfig = {MathJaxConfig: 'local'};\n",
       "        if (window.MathJax && window.MathJax.Hub && window.MathJax.Hub.Config) {window.MathJax.Hub.Config({SVG: {font: \"STIX-Web\"}});}\n",
       "        if (typeof require !== 'undefined') {\n",
       "        require.undef(\"plotly\");\n",
       "        requirejs.config({\n",
       "            paths: {\n",
       "                'plotly': ['https://cdn.plot.ly/plotly-2.14.0.min']\n",
       "            }\n",
       "        });\n",
       "        require(['plotly'], function(Plotly) {\n",
       "            window._Plotly = Plotly;\n",
       "        });\n",
       "        }\n",
       "        </script>\n",
       "        "
      ]
     },
     "metadata": {},
     "output_type": "display_data"
    },
    {
     "data": {
      "text/html": [
       "<div>                            <div id=\"7a2a1bdc-6acb-41e8-a9cd-ade64b59dd2e\" class=\"plotly-graph-div\" style=\"height:525px; width:100%;\"></div>            <script type=\"text/javascript\">                require([\"plotly\"], function(Plotly) {                    window.PLOTLYENV=window.PLOTLYENV || {};                                    if (document.getElementById(\"7a2a1bdc-6acb-41e8-a9cd-ade64b59dd2e\")) {                    Plotly.newPlot(                        \"7a2a1bdc-6acb-41e8-a9cd-ade64b59dd2e\",                        [{\"marker\":{\"color\":\"#1a8df6\"},\"name\":\"bus\",\"x\":[\"0-250km\",\"1001+km\",\"251-500km\",\"501-1000km\"],\"y\":[2031.4192708333333,8038.977272727273,3048.1172881355933,4151.412530512612],\"type\":\"bar\"},{\"marker\":{\"color\":\"#dc3545\"},\"name\":\"train\",\"x\":[\"251-500km\",\"501-1000km\"],\"y\":[3100.0,3596.6666666666665],\"type\":\"bar\"},{\"marker\":{\"color\":\"orange\"},\"name\":\"carpooling\",\"x\":[\"0-250km\",\"251-500km\",\"501-1000km\"],\"y\":[1990.0,3945.0,4732.0],\"type\":\"bar\"}],                        {\"template\":{\"data\":{\"histogram2dcontour\":[{\"type\":\"histogram2dcontour\",\"colorbar\":{\"outlinewidth\":0,\"ticks\":\"\"},\"colorscale\":[[0.0,\"#0d0887\"],[0.1111111111111111,\"#46039f\"],[0.2222222222222222,\"#7201a8\"],[0.3333333333333333,\"#9c179e\"],[0.4444444444444444,\"#bd3786\"],[0.5555555555555556,\"#d8576b\"],[0.6666666666666666,\"#ed7953\"],[0.7777777777777778,\"#fb9f3a\"],[0.8888888888888888,\"#fdca26\"],[1.0,\"#f0f921\"]]}],\"choropleth\":[{\"type\":\"choropleth\",\"colorbar\":{\"outlinewidth\":0,\"ticks\":\"\"}}],\"histogram2d\":[{\"type\":\"histogram2d\",\"colorbar\":{\"outlinewidth\":0,\"ticks\":\"\"},\"colorscale\":[[0.0,\"#0d0887\"],[0.1111111111111111,\"#46039f\"],[0.2222222222222222,\"#7201a8\"],[0.3333333333333333,\"#9c179e\"],[0.4444444444444444,\"#bd3786\"],[0.5555555555555556,\"#d8576b\"],[0.6666666666666666,\"#ed7953\"],[0.7777777777777778,\"#fb9f3a\"],[0.8888888888888888,\"#fdca26\"],[1.0,\"#f0f921\"]]}],\"heatmap\":[{\"type\":\"heatmap\",\"colorbar\":{\"outlinewidth\":0,\"ticks\":\"\"},\"colorscale\":[[0.0,\"#0d0887\"],[0.1111111111111111,\"#46039f\"],[0.2222222222222222,\"#7201a8\"],[0.3333333333333333,\"#9c179e\"],[0.4444444444444444,\"#bd3786\"],[0.5555555555555556,\"#d8576b\"],[0.6666666666666666,\"#ed7953\"],[0.7777777777777778,\"#fb9f3a\"],[0.8888888888888888,\"#fdca26\"],[1.0,\"#f0f921\"]]}],\"heatmapgl\":[{\"type\":\"heatmapgl\",\"colorbar\":{\"outlinewidth\":0,\"ticks\":\"\"},\"colorscale\":[[0.0,\"#0d0887\"],[0.1111111111111111,\"#46039f\"],[0.2222222222222222,\"#7201a8\"],[0.3333333333333333,\"#9c179e\"],[0.4444444444444444,\"#bd3786\"],[0.5555555555555556,\"#d8576b\"],[0.6666666666666666,\"#ed7953\"],[0.7777777777777778,\"#fb9f3a\"],[0.8888888888888888,\"#fdca26\"],[1.0,\"#f0f921\"]]}],\"contourcarpet\":[{\"type\":\"contourcarpet\",\"colorbar\":{\"outlinewidth\":0,\"ticks\":\"\"}}],\"contour\":[{\"type\":\"contour\",\"colorbar\":{\"outlinewidth\":0,\"ticks\":\"\"},\"colorscale\":[[0.0,\"#0d0887\"],[0.1111111111111111,\"#46039f\"],[0.2222222222222222,\"#7201a8\"],[0.3333333333333333,\"#9c179e\"],[0.4444444444444444,\"#bd3786\"],[0.5555555555555556,\"#d8576b\"],[0.6666666666666666,\"#ed7953\"],[0.7777777777777778,\"#fb9f3a\"],[0.8888888888888888,\"#fdca26\"],[1.0,\"#f0f921\"]]}],\"surface\":[{\"type\":\"surface\",\"colorbar\":{\"outlinewidth\":0,\"ticks\":\"\"},\"colorscale\":[[0.0,\"#0d0887\"],[0.1111111111111111,\"#46039f\"],[0.2222222222222222,\"#7201a8\"],[0.3333333333333333,\"#9c179e\"],[0.4444444444444444,\"#bd3786\"],[0.5555555555555556,\"#d8576b\"],[0.6666666666666666,\"#ed7953\"],[0.7777777777777778,\"#fb9f3a\"],[0.8888888888888888,\"#fdca26\"],[1.0,\"#f0f921\"]]}],\"mesh3d\":[{\"type\":\"mesh3d\",\"colorbar\":{\"outlinewidth\":0,\"ticks\":\"\"}}],\"scatter\":[{\"fillpattern\":{\"fillmode\":\"overlay\",\"size\":10,\"solidity\":0.2},\"type\":\"scatter\"}],\"parcoords\":[{\"type\":\"parcoords\",\"line\":{\"colorbar\":{\"outlinewidth\":0,\"ticks\":\"\"}}}],\"scatterpolargl\":[{\"type\":\"scatterpolargl\",\"marker\":{\"colorbar\":{\"outlinewidth\":0,\"ticks\":\"\"}}}],\"bar\":[{\"error_x\":{\"color\":\"#2a3f5f\"},\"error_y\":{\"color\":\"#2a3f5f\"},\"marker\":{\"line\":{\"color\":\"#E5ECF6\",\"width\":0.5},\"pattern\":{\"fillmode\":\"overlay\",\"size\":10,\"solidity\":0.2}},\"type\":\"bar\"}],\"scattergeo\":[{\"type\":\"scattergeo\",\"marker\":{\"colorbar\":{\"outlinewidth\":0,\"ticks\":\"\"}}}],\"scatterpolar\":[{\"type\":\"scatterpolar\",\"marker\":{\"colorbar\":{\"outlinewidth\":0,\"ticks\":\"\"}}}],\"histogram\":[{\"marker\":{\"pattern\":{\"fillmode\":\"overlay\",\"size\":10,\"solidity\":0.2}},\"type\":\"histogram\"}],\"scattergl\":[{\"type\":\"scattergl\",\"marker\":{\"colorbar\":{\"outlinewidth\":0,\"ticks\":\"\"}}}],\"scatter3d\":[{\"type\":\"scatter3d\",\"line\":{\"colorbar\":{\"outlinewidth\":0,\"ticks\":\"\"}},\"marker\":{\"colorbar\":{\"outlinewidth\":0,\"ticks\":\"\"}}}],\"scattermapbox\":[{\"type\":\"scattermapbox\",\"marker\":{\"colorbar\":{\"outlinewidth\":0,\"ticks\":\"\"}}}],\"scatterternary\":[{\"type\":\"scatterternary\",\"marker\":{\"colorbar\":{\"outlinewidth\":0,\"ticks\":\"\"}}}],\"scattercarpet\":[{\"type\":\"scattercarpet\",\"marker\":{\"colorbar\":{\"outlinewidth\":0,\"ticks\":\"\"}}}],\"carpet\":[{\"aaxis\":{\"endlinecolor\":\"#2a3f5f\",\"gridcolor\":\"white\",\"linecolor\":\"white\",\"minorgridcolor\":\"white\",\"startlinecolor\":\"#2a3f5f\"},\"baxis\":{\"endlinecolor\":\"#2a3f5f\",\"gridcolor\":\"white\",\"linecolor\":\"white\",\"minorgridcolor\":\"white\",\"startlinecolor\":\"#2a3f5f\"},\"type\":\"carpet\"}],\"table\":[{\"cells\":{\"fill\":{\"color\":\"#EBF0F8\"},\"line\":{\"color\":\"white\"}},\"header\":{\"fill\":{\"color\":\"#C8D4E3\"},\"line\":{\"color\":\"white\"}},\"type\":\"table\"}],\"barpolar\":[{\"marker\":{\"line\":{\"color\":\"#E5ECF6\",\"width\":0.5},\"pattern\":{\"fillmode\":\"overlay\",\"size\":10,\"solidity\":0.2}},\"type\":\"barpolar\"}],\"pie\":[{\"automargin\":true,\"type\":\"pie\"}]},\"layout\":{\"autotypenumbers\":\"strict\",\"colorway\":[\"#636efa\",\"#EF553B\",\"#00cc96\",\"#ab63fa\",\"#FFA15A\",\"#19d3f3\",\"#FF6692\",\"#B6E880\",\"#FF97FF\",\"#FECB52\"],\"font\":{\"color\":\"#2a3f5f\"},\"hovermode\":\"closest\",\"hoverlabel\":{\"align\":\"left\"},\"paper_bgcolor\":\"white\",\"plot_bgcolor\":\"#E5ECF6\",\"polar\":{\"bgcolor\":\"#E5ECF6\",\"angularaxis\":{\"gridcolor\":\"white\",\"linecolor\":\"white\",\"ticks\":\"\"},\"radialaxis\":{\"gridcolor\":\"white\",\"linecolor\":\"white\",\"ticks\":\"\"}},\"ternary\":{\"bgcolor\":\"#E5ECF6\",\"aaxis\":{\"gridcolor\":\"white\",\"linecolor\":\"white\",\"ticks\":\"\"},\"baxis\":{\"gridcolor\":\"white\",\"linecolor\":\"white\",\"ticks\":\"\"},\"caxis\":{\"gridcolor\":\"white\",\"linecolor\":\"white\",\"ticks\":\"\"}},\"coloraxis\":{\"colorbar\":{\"outlinewidth\":0,\"ticks\":\"\"}},\"colorscale\":{\"sequential\":[[0.0,\"#0d0887\"],[0.1111111111111111,\"#46039f\"],[0.2222222222222222,\"#7201a8\"],[0.3333333333333333,\"#9c179e\"],[0.4444444444444444,\"#bd3786\"],[0.5555555555555556,\"#d8576b\"],[0.6666666666666666,\"#ed7953\"],[0.7777777777777778,\"#fb9f3a\"],[0.8888888888888888,\"#fdca26\"],[1.0,\"#f0f921\"]],\"sequentialminus\":[[0.0,\"#0d0887\"],[0.1111111111111111,\"#46039f\"],[0.2222222222222222,\"#7201a8\"],[0.3333333333333333,\"#9c179e\"],[0.4444444444444444,\"#bd3786\"],[0.5555555555555556,\"#d8576b\"],[0.6666666666666666,\"#ed7953\"],[0.7777777777777778,\"#fb9f3a\"],[0.8888888888888888,\"#fdca26\"],[1.0,\"#f0f921\"]],\"diverging\":[[0,\"#8e0152\"],[0.1,\"#c51b7d\"],[0.2,\"#de77ae\"],[0.3,\"#f1b6da\"],[0.4,\"#fde0ef\"],[0.5,\"#f7f7f7\"],[0.6,\"#e6f5d0\"],[0.7,\"#b8e186\"],[0.8,\"#7fbc41\"],[0.9,\"#4d9221\"],[1,\"#276419\"]]},\"xaxis\":{\"gridcolor\":\"white\",\"linecolor\":\"white\",\"ticks\":\"\",\"title\":{\"standoff\":15},\"zerolinecolor\":\"white\",\"automargin\":true,\"zerolinewidth\":2},\"yaxis\":{\"gridcolor\":\"white\",\"linecolor\":\"white\",\"ticks\":\"\",\"title\":{\"standoff\":15},\"zerolinecolor\":\"white\",\"automargin\":true,\"zerolinewidth\":2},\"scene\":{\"xaxis\":{\"backgroundcolor\":\"#E5ECF6\",\"gridcolor\":\"white\",\"linecolor\":\"white\",\"showbackground\":true,\"ticks\":\"\",\"zerolinecolor\":\"white\",\"gridwidth\":2},\"yaxis\":{\"backgroundcolor\":\"#E5ECF6\",\"gridcolor\":\"white\",\"linecolor\":\"white\",\"showbackground\":true,\"ticks\":\"\",\"zerolinecolor\":\"white\",\"gridwidth\":2},\"zaxis\":{\"backgroundcolor\":\"#E5ECF6\",\"gridcolor\":\"white\",\"linecolor\":\"white\",\"showbackground\":true,\"ticks\":\"\",\"zerolinecolor\":\"white\",\"gridwidth\":2}},\"shapedefaults\":{\"line\":{\"color\":\"#2a3f5f\"}},\"annotationdefaults\":{\"arrowcolor\":\"#2a3f5f\",\"arrowhead\":0,\"arrowwidth\":1},\"geo\":{\"bgcolor\":\"white\",\"landcolor\":\"#E5ECF6\",\"subunitcolor\":\"white\",\"showland\":true,\"showlakes\":true,\"lakecolor\":\"white\"},\"title\":{\"x\":0.05},\"mapbox\":{\"style\":\"light\"}}},\"barmode\":\"group\",\"title\":{\"text\":\"Rapport Prix moyen/distance des types de transport\"}},                        {\"responsive\": true}                    ).then(function(){\n",
       "                            \n",
       "var gd = document.getElementById('7a2a1bdc-6acb-41e8-a9cd-ade64b59dd2e');\n",
       "var x = new MutationObserver(function (mutations, observer) {{\n",
       "        var display = window.getComputedStyle(gd).display;\n",
       "        if (!display || display === 'none') {{\n",
       "            console.log([gd, 'removed!']);\n",
       "            Plotly.purge(gd);\n",
       "            observer.disconnect();\n",
       "        }}\n",
       "}});\n",
       "\n",
       "// Listen for the removal of the full notebook cells\n",
       "var notebookContainer = gd.closest('#notebook-container');\n",
       "if (notebookContainer) {{\n",
       "    x.observe(notebookContainer, {childList: true});\n",
       "}}\n",
       "\n",
       "// Listen for the clearing of the current output cell\n",
       "var outputEl = gd.closest('.output');\n",
       "if (outputEl) {{\n",
       "    x.observe(outputEl, {childList: true});\n",
       "}}\n",
       "\n",
       "                        })                };                });            </script>        </div>"
      ]
     },
     "metadata": {},
     "output_type": "display_data"
    }
   ],
   "source": [
    "# Récupération des données des prix de chaque type de transport\n",
    "df_prix_bus = df1.query(\"transport_type=='bus'\").groupby(['distance_range']).agg({'price_in_cents': 'mean'})\n",
    "df_prix_train = df1.query(\"transport_type=='train'\").groupby(['distance_range']).agg({'price_in_cents': 'mean'})\n",
    "df_prix_car = df1.query(\"transport_type=='carpooling'\").groupby(['distance_range']).agg({'price_in_cents': 'mean'})\n",
    "\n",
    "# Visualisation Interactive des données\n",
    "fig = go.Figure(data=[\n",
    "    go.Bar(name='bus', x=df_prix_bus.index, y=df_prix_bus.price_in_cents, marker_color='#1a8df6'),\n",
    "    go.Bar(name='train', x=df_prix_train.index, y=df_prix_train.price_in_cents, marker_color='#dc3545'),\n",
    "    go.Bar(name='carpooling', x=df_prix_car.index, y=df_prix_car.price_in_cents, marker_color='orange'),\n",
    "])    \n",
    "\n",
    "fig.update_layout(barmode='group',title='Rapport Prix moyen/distance des types de transport')\n",
    "fig.show()"
   ]
  },
  {
   "cell_type": "code",
   "execution_count": 35,
   "id": "57325422",
   "metadata": {
    "execution": {
     "iopub.execute_input": "2022-12-07T12:53:32.502037Z",
     "iopub.status.busy": "2022-12-07T12:53:32.501579Z",
     "iopub.status.idle": "2022-12-07T12:53:32.524644Z",
     "shell.execute_reply": "2022-12-07T12:53:32.523854Z"
    },
    "jupyter": {
     "source_hidden": true
    },
    "papermill": {
     "duration": 0.041909,
     "end_time": "2022-12-07T12:53:32.526625",
     "exception": false,
     "start_time": "2022-12-07T12:53:32.484716",
     "status": "completed"
    },
    "tags": []
   },
   "outputs": [
    {
     "data": {
      "text/html": [
       "<div>                            <div id=\"b2973c4b-6c06-49f7-abd6-1b6e8204c760\" class=\"plotly-graph-div\" style=\"height:525px; width:100%;\"></div>            <script type=\"text/javascript\">                require([\"plotly\"], function(Plotly) {                    window.PLOTLYENV=window.PLOTLYENV || {};                                    if (document.getElementById(\"b2973c4b-6c06-49f7-abd6-1b6e8204c760\")) {                    Plotly.newPlot(                        \"b2973c4b-6c06-49f7-abd6-1b6e8204c760\",                        [{\"marker\":{\"color\":\"#1a8df6\"},\"name\":\"bus\",\"x\":[\"0-250km\",\"1001+km\",\"251-500km\",\"501-1000km\"],\"y\":[38616796875000,110553409090909,44103742372881,63591456468673],\"type\":\"bar\"},{\"marker\":{\"color\":\"#dc3545\"},\"name\":\"train\",\"x\":[\"251-500km\",\"501-1000km\"],\"y\":[34400000000000,68400000000000],\"type\":\"bar\"},{\"marker\":{\"color\":\"orange\"},\"name\":\"carpooling\",\"x\":[\"0-250km\",\"251-500km\",\"501-1000km\"],\"y\":[51300000000000,34800000000000,41550000000000],\"type\":\"bar\"}],                        {\"template\":{\"data\":{\"histogram2dcontour\":[{\"type\":\"histogram2dcontour\",\"colorbar\":{\"outlinewidth\":0,\"ticks\":\"\"},\"colorscale\":[[0.0,\"#0d0887\"],[0.1111111111111111,\"#46039f\"],[0.2222222222222222,\"#7201a8\"],[0.3333333333333333,\"#9c179e\"],[0.4444444444444444,\"#bd3786\"],[0.5555555555555556,\"#d8576b\"],[0.6666666666666666,\"#ed7953\"],[0.7777777777777778,\"#fb9f3a\"],[0.8888888888888888,\"#fdca26\"],[1.0,\"#f0f921\"]]}],\"choropleth\":[{\"type\":\"choropleth\",\"colorbar\":{\"outlinewidth\":0,\"ticks\":\"\"}}],\"histogram2d\":[{\"type\":\"histogram2d\",\"colorbar\":{\"outlinewidth\":0,\"ticks\":\"\"},\"colorscale\":[[0.0,\"#0d0887\"],[0.1111111111111111,\"#46039f\"],[0.2222222222222222,\"#7201a8\"],[0.3333333333333333,\"#9c179e\"],[0.4444444444444444,\"#bd3786\"],[0.5555555555555556,\"#d8576b\"],[0.6666666666666666,\"#ed7953\"],[0.7777777777777778,\"#fb9f3a\"],[0.8888888888888888,\"#fdca26\"],[1.0,\"#f0f921\"]]}],\"heatmap\":[{\"type\":\"heatmap\",\"colorbar\":{\"outlinewidth\":0,\"ticks\":\"\"},\"colorscale\":[[0.0,\"#0d0887\"],[0.1111111111111111,\"#46039f\"],[0.2222222222222222,\"#7201a8\"],[0.3333333333333333,\"#9c179e\"],[0.4444444444444444,\"#bd3786\"],[0.5555555555555556,\"#d8576b\"],[0.6666666666666666,\"#ed7953\"],[0.7777777777777778,\"#fb9f3a\"],[0.8888888888888888,\"#fdca26\"],[1.0,\"#f0f921\"]]}],\"heatmapgl\":[{\"type\":\"heatmapgl\",\"colorbar\":{\"outlinewidth\":0,\"ticks\":\"\"},\"colorscale\":[[0.0,\"#0d0887\"],[0.1111111111111111,\"#46039f\"],[0.2222222222222222,\"#7201a8\"],[0.3333333333333333,\"#9c179e\"],[0.4444444444444444,\"#bd3786\"],[0.5555555555555556,\"#d8576b\"],[0.6666666666666666,\"#ed7953\"],[0.7777777777777778,\"#fb9f3a\"],[0.8888888888888888,\"#fdca26\"],[1.0,\"#f0f921\"]]}],\"contourcarpet\":[{\"type\":\"contourcarpet\",\"colorbar\":{\"outlinewidth\":0,\"ticks\":\"\"}}],\"contour\":[{\"type\":\"contour\",\"colorbar\":{\"outlinewidth\":0,\"ticks\":\"\"},\"colorscale\":[[0.0,\"#0d0887\"],[0.1111111111111111,\"#46039f\"],[0.2222222222222222,\"#7201a8\"],[0.3333333333333333,\"#9c179e\"],[0.4444444444444444,\"#bd3786\"],[0.5555555555555556,\"#d8576b\"],[0.6666666666666666,\"#ed7953\"],[0.7777777777777778,\"#fb9f3a\"],[0.8888888888888888,\"#fdca26\"],[1.0,\"#f0f921\"]]}],\"surface\":[{\"type\":\"surface\",\"colorbar\":{\"outlinewidth\":0,\"ticks\":\"\"},\"colorscale\":[[0.0,\"#0d0887\"],[0.1111111111111111,\"#46039f\"],[0.2222222222222222,\"#7201a8\"],[0.3333333333333333,\"#9c179e\"],[0.4444444444444444,\"#bd3786\"],[0.5555555555555556,\"#d8576b\"],[0.6666666666666666,\"#ed7953\"],[0.7777777777777778,\"#fb9f3a\"],[0.8888888888888888,\"#fdca26\"],[1.0,\"#f0f921\"]]}],\"mesh3d\":[{\"type\":\"mesh3d\",\"colorbar\":{\"outlinewidth\":0,\"ticks\":\"\"}}],\"scatter\":[{\"fillpattern\":{\"fillmode\":\"overlay\",\"size\":10,\"solidity\":0.2},\"type\":\"scatter\"}],\"parcoords\":[{\"type\":\"parcoords\",\"line\":{\"colorbar\":{\"outlinewidth\":0,\"ticks\":\"\"}}}],\"scatterpolargl\":[{\"type\":\"scatterpolargl\",\"marker\":{\"colorbar\":{\"outlinewidth\":0,\"ticks\":\"\"}}}],\"bar\":[{\"error_x\":{\"color\":\"#2a3f5f\"},\"error_y\":{\"color\":\"#2a3f5f\"},\"marker\":{\"line\":{\"color\":\"#E5ECF6\",\"width\":0.5},\"pattern\":{\"fillmode\":\"overlay\",\"size\":10,\"solidity\":0.2}},\"type\":\"bar\"}],\"scattergeo\":[{\"type\":\"scattergeo\",\"marker\":{\"colorbar\":{\"outlinewidth\":0,\"ticks\":\"\"}}}],\"scatterpolar\":[{\"type\":\"scatterpolar\",\"marker\":{\"colorbar\":{\"outlinewidth\":0,\"ticks\":\"\"}}}],\"histogram\":[{\"marker\":{\"pattern\":{\"fillmode\":\"overlay\",\"size\":10,\"solidity\":0.2}},\"type\":\"histogram\"}],\"scattergl\":[{\"type\":\"scattergl\",\"marker\":{\"colorbar\":{\"outlinewidth\":0,\"ticks\":\"\"}}}],\"scatter3d\":[{\"type\":\"scatter3d\",\"line\":{\"colorbar\":{\"outlinewidth\":0,\"ticks\":\"\"}},\"marker\":{\"colorbar\":{\"outlinewidth\":0,\"ticks\":\"\"}}}],\"scattermapbox\":[{\"type\":\"scattermapbox\",\"marker\":{\"colorbar\":{\"outlinewidth\":0,\"ticks\":\"\"}}}],\"scatterternary\":[{\"type\":\"scatterternary\",\"marker\":{\"colorbar\":{\"outlinewidth\":0,\"ticks\":\"\"}}}],\"scattercarpet\":[{\"type\":\"scattercarpet\",\"marker\":{\"colorbar\":{\"outlinewidth\":0,\"ticks\":\"\"}}}],\"carpet\":[{\"aaxis\":{\"endlinecolor\":\"#2a3f5f\",\"gridcolor\":\"white\",\"linecolor\":\"white\",\"minorgridcolor\":\"white\",\"startlinecolor\":\"#2a3f5f\"},\"baxis\":{\"endlinecolor\":\"#2a3f5f\",\"gridcolor\":\"white\",\"linecolor\":\"white\",\"minorgridcolor\":\"white\",\"startlinecolor\":\"#2a3f5f\"},\"type\":\"carpet\"}],\"table\":[{\"cells\":{\"fill\":{\"color\":\"#EBF0F8\"},\"line\":{\"color\":\"white\"}},\"header\":{\"fill\":{\"color\":\"#C8D4E3\"},\"line\":{\"color\":\"white\"}},\"type\":\"table\"}],\"barpolar\":[{\"marker\":{\"line\":{\"color\":\"#E5ECF6\",\"width\":0.5},\"pattern\":{\"fillmode\":\"overlay\",\"size\":10,\"solidity\":0.2}},\"type\":\"barpolar\"}],\"pie\":[{\"automargin\":true,\"type\":\"pie\"}]},\"layout\":{\"autotypenumbers\":\"strict\",\"colorway\":[\"#636efa\",\"#EF553B\",\"#00cc96\",\"#ab63fa\",\"#FFA15A\",\"#19d3f3\",\"#FF6692\",\"#B6E880\",\"#FF97FF\",\"#FECB52\"],\"font\":{\"color\":\"#2a3f5f\"},\"hovermode\":\"closest\",\"hoverlabel\":{\"align\":\"left\"},\"paper_bgcolor\":\"white\",\"plot_bgcolor\":\"#E5ECF6\",\"polar\":{\"bgcolor\":\"#E5ECF6\",\"angularaxis\":{\"gridcolor\":\"white\",\"linecolor\":\"white\",\"ticks\":\"\"},\"radialaxis\":{\"gridcolor\":\"white\",\"linecolor\":\"white\",\"ticks\":\"\"}},\"ternary\":{\"bgcolor\":\"#E5ECF6\",\"aaxis\":{\"gridcolor\":\"white\",\"linecolor\":\"white\",\"ticks\":\"\"},\"baxis\":{\"gridcolor\":\"white\",\"linecolor\":\"white\",\"ticks\":\"\"},\"caxis\":{\"gridcolor\":\"white\",\"linecolor\":\"white\",\"ticks\":\"\"}},\"coloraxis\":{\"colorbar\":{\"outlinewidth\":0,\"ticks\":\"\"}},\"colorscale\":{\"sequential\":[[0.0,\"#0d0887\"],[0.1111111111111111,\"#46039f\"],[0.2222222222222222,\"#7201a8\"],[0.3333333333333333,\"#9c179e\"],[0.4444444444444444,\"#bd3786\"],[0.5555555555555556,\"#d8576b\"],[0.6666666666666666,\"#ed7953\"],[0.7777777777777778,\"#fb9f3a\"],[0.8888888888888888,\"#fdca26\"],[1.0,\"#f0f921\"]],\"sequentialminus\":[[0.0,\"#0d0887\"],[0.1111111111111111,\"#46039f\"],[0.2222222222222222,\"#7201a8\"],[0.3333333333333333,\"#9c179e\"],[0.4444444444444444,\"#bd3786\"],[0.5555555555555556,\"#d8576b\"],[0.6666666666666666,\"#ed7953\"],[0.7777777777777778,\"#fb9f3a\"],[0.8888888888888888,\"#fdca26\"],[1.0,\"#f0f921\"]],\"diverging\":[[0,\"#8e0152\"],[0.1,\"#c51b7d\"],[0.2,\"#de77ae\"],[0.3,\"#f1b6da\"],[0.4,\"#fde0ef\"],[0.5,\"#f7f7f7\"],[0.6,\"#e6f5d0\"],[0.7,\"#b8e186\"],[0.8,\"#7fbc41\"],[0.9,\"#4d9221\"],[1,\"#276419\"]]},\"xaxis\":{\"gridcolor\":\"white\",\"linecolor\":\"white\",\"ticks\":\"\",\"title\":{\"standoff\":15},\"zerolinecolor\":\"white\",\"automargin\":true,\"zerolinewidth\":2},\"yaxis\":{\"gridcolor\":\"white\",\"linecolor\":\"white\",\"ticks\":\"\",\"title\":{\"standoff\":15},\"zerolinecolor\":\"white\",\"automargin\":true,\"zerolinewidth\":2},\"scene\":{\"xaxis\":{\"backgroundcolor\":\"#E5ECF6\",\"gridcolor\":\"white\",\"linecolor\":\"white\",\"showbackground\":true,\"ticks\":\"\",\"zerolinecolor\":\"white\",\"gridwidth\":2},\"yaxis\":{\"backgroundcolor\":\"#E5ECF6\",\"gridcolor\":\"white\",\"linecolor\":\"white\",\"showbackground\":true,\"ticks\":\"\",\"zerolinecolor\":\"white\",\"gridwidth\":2},\"zaxis\":{\"backgroundcolor\":\"#E5ECF6\",\"gridcolor\":\"white\",\"linecolor\":\"white\",\"showbackground\":true,\"ticks\":\"\",\"zerolinecolor\":\"white\",\"gridwidth\":2}},\"shapedefaults\":{\"line\":{\"color\":\"#2a3f5f\"}},\"annotationdefaults\":{\"arrowcolor\":\"#2a3f5f\",\"arrowhead\":0,\"arrowwidth\":1},\"geo\":{\"bgcolor\":\"white\",\"landcolor\":\"#E5ECF6\",\"subunitcolor\":\"white\",\"showland\":true,\"showlakes\":true,\"lakecolor\":\"white\"},\"title\":{\"x\":0.05},\"mapbox\":{\"style\":\"light\"}}},\"barmode\":\"group\",\"title\":{\"text\":\"Rapport Durée moyenne/Distance des types de transport\"}},                        {\"responsive\": true}                    ).then(function(){\n",
       "                            \n",
       "var gd = document.getElementById('b2973c4b-6c06-49f7-abd6-1b6e8204c760');\n",
       "var x = new MutationObserver(function (mutations, observer) {{\n",
       "        var display = window.getComputedStyle(gd).display;\n",
       "        if (!display || display === 'none') {{\n",
       "            console.log([gd, 'removed!']);\n",
       "            Plotly.purge(gd);\n",
       "            observer.disconnect();\n",
       "        }}\n",
       "}});\n",
       "\n",
       "// Listen for the removal of the full notebook cells\n",
       "var notebookContainer = gd.closest('#notebook-container');\n",
       "if (notebookContainer) {{\n",
       "    x.observe(notebookContainer, {childList: true});\n",
       "}}\n",
       "\n",
       "// Listen for the clearing of the current output cell\n",
       "var outputEl = gd.closest('.output');\n",
       "if (outputEl) {{\n",
       "    x.observe(outputEl, {childList: true});\n",
       "}}\n",
       "\n",
       "                        })                };                });            </script>        </div>"
      ]
     },
     "metadata": {},
     "output_type": "display_data"
    }
   ],
   "source": [
    "# Récupération des données des durées de chaque type de transport\n",
    "df_duree_bus = df1.query(\"transport_type=='bus'\").groupby(['distance_range']).agg({'duree': 'mean'})\n",
    "df_duree_train = df1.query(\"transport_type=='train'\").groupby(['distance_range']).agg({'duree': 'mean'})\n",
    "df_duree_car = df1.query(\"transport_type=='carpooling'\").groupby(['distance_range']).agg({'duree': 'mean'})\n",
    "\n",
    "# Visualisation Interactive des données\n",
    "fig = go.Figure(data=[\n",
    "    go.Bar(name='bus', x=df_duree_bus.index, y=df_duree_bus.duree, marker_color='#1a8df6'),\n",
    "    go.Bar(name='train', x=df_duree_train.index, y=df_duree_train.duree, marker_color='#dc3545'),\n",
    "    go.Bar(name='carpooling', x=df_duree_car.index, y=df_duree_car.duree, marker_color='orange'),\n",
    "])    \n",
    "\n",
    "fig.update_layout(barmode='group',title='Rapport Durée moyenne/Distance des types de transport')\n",
    "fig.show()"
   ]
  },
  {
   "cell_type": "markdown",
   "id": "123c3638",
   "metadata": {
    "papermill": {
     "duration": 0.016328,
     "end_time": "2022-12-07T12:53:32.559372",
     "exception": false,
     "start_time": "2022-12-07T12:53:32.543044",
     "status": "completed"
    },
    "tags": []
   },
   "source": [
    "## Conclusion\n",
    "\n",
    "Comme nous pouvons le remarquer, le Dataframe **df1** résume ...\n",
    "\n",
    "- Sur une distance de **0-250 km** nous n'avons deux types de transport : \n",
    "    - le bus avec une durée moyenne de `10h 43min 36sec` et un prix moyen de `2031.41` cent\n",
    "    - le carpooling (covoiturage) avec une durée moyenne de `14h 15min` et un prix moyen de `1990` cent\n",
    "    \n",
    "    \n",
    "- Sur une distance **251-500 km** nous avons trois types de transport : \n",
    "    - le covoiturage avec une durée moyenne de `09h 40min` et un prix moyen de `3945` cent\n",
    "    - le train avec une durée moyenne de `09h 33min 20sec` et un prix moyen de `3100` cent\n",
    "    - le bus avec une durée moyenne de `17h 39min 51sec` et un prix moyen de `4151.41` cent\n",
    "    \n",
    "    \n",
    "- Sur une distance **501-1000 km** nous n'avons trois types de transport : \n",
    "    - le covoiturage avec une durée moyenne de `11h 32min 30sec` et un prix moyen de `4732` cent\n",
    "    - le train avec une durée moyenne de `19h00` et un prix moyen de `3596.66` cent\n",
    "    \n",
    "    \n",
    " - Sur une distance de plus de **1001 km** nous n'avons qu'un seul type de transport : \n",
    "    - le bus avec une durée moyenne de `1jour 06h 42min 33sec` et un prix moyen de `8038.97` cent\n",
    "  \n",
    "  \n",
    "  \n",
    "  \n",
    "## Remarques\n",
    "\n",
    "Il est tout à fait normal de reporter les observations suivants :\n",
    "      \n",
    "- La plus **petite durée moyenne** fait en déplacement est `09h 33min 20sec`. Elle se fait en **train** sur une distance de **251-500 km**;\n",
    "\n",
    "- La plus **longue durée moyenne** fait en déplacement est `1jour 06h 42min 33sec`. Elle se en **bus** sur une distance de **1001+ km**;\n",
    "\n",
    "- Le plus **petit prix moyen** payé en déplacement est `1990` cent, en **covoiturage** et sur une distance de **0-250 km**;\n",
    "\n",
    "- Le plus **grand prix moyen** payé en déplacement est `8038.97` cent, dans un **bus** et sur une distance de **plus de 1001 km**."
   ]
  },
  {
   "cell_type": "markdown",
   "id": "457b21a9",
   "metadata": {
    "papermill": {
     "duration": 0.015905,
     "end_time": "2022-12-07T12:53:32.591750",
     "exception": false,
     "start_time": "2022-12-07T12:53:32.575845",
     "status": "completed"
    },
    "tags": []
   },
   "source": [
    "\n",
    "<div style=\"background-color:#5bbbcf;padding:2px;border-radius:4px\">  \n",
    "    <h2 align=\"center\" style=\"color:white;\">3. Bonus </h2>  \n",
    "</div>"
   ]
  },
  {
   "cell_type": "code",
   "execution_count": null,
   "id": "4ec6233b",
   "metadata": {
    "papermill": {
     "duration": 0.016303,
     "end_time": "2022-12-07T12:53:32.624585",
     "exception": false,
     "start_time": "2022-12-07T12:53:32.608282",
     "status": "completed"
    },
    "tags": []
   },
   "outputs": [],
   "source": []
  },
  {
   "cell_type": "code",
   "execution_count": null,
   "id": "10646880",
   "metadata": {
    "papermill": {
     "duration": 0.015951,
     "end_time": "2022-12-07T12:53:32.656742",
     "exception": false,
     "start_time": "2022-12-07T12:53:32.640791",
     "status": "completed"
    },
    "tags": []
   },
   "outputs": [],
   "source": []
  },
  {
   "cell_type": "code",
   "execution_count": null,
   "id": "14f333fb",
   "metadata": {
    "papermill": {
     "duration": 0.016221,
     "end_time": "2022-12-07T12:53:32.689274",
     "exception": false,
     "start_time": "2022-12-07T12:53:32.673053",
     "status": "completed"
    },
    "tags": []
   },
   "outputs": [],
   "source": []
  },
  {
   "cell_type": "code",
   "execution_count": null,
   "id": "a8428a27",
   "metadata": {
    "papermill": {
     "duration": 0.016267,
     "end_time": "2022-12-07T12:53:32.721932",
     "exception": false,
     "start_time": "2022-12-07T12:53:32.705665",
     "status": "completed"
    },
    "tags": []
   },
   "outputs": [],
   "source": []
  },
  {
   "cell_type": "markdown",
   "id": "3bb91114",
   "metadata": {
    "papermill": {
     "duration": 0.016199,
     "end_time": "2022-12-07T12:53:32.754636",
     "exception": false,
     "start_time": "2022-12-07T12:53:32.738437",
     "status": "completed"
    },
    "tags": []
   },
   "source": [
    "# Ressources\n",
    "\n",
    "> [Calcul de durée par trajet](https://jamesrledoux.com/code/group-by-aggregate-pandas)\n",
    "\n",
    "> [Calcul de distance entre deux points](https://stackoverflow.com/questions/19412462/getting-distance-between-two-points-based-on-latitude-longitude)"
   ]
  }
 ],
 "metadata": {
  "kernelspec": {
   "display_name": "Python 3",
   "language": "python",
   "name": "python3"
  },
  "language_info": {
   "codemirror_mode": {
    "name": "ipython",
    "version": 3
   },
   "file_extension": ".py",
   "mimetype": "text/x-python",
   "name": "python",
   "nbconvert_exporter": "python",
   "pygments_lexer": "ipython3",
   "version": "3.7.12"
  },
  "papermill": {
   "default_parameters": {},
   "duration": 456.480375,
   "end_time": "2022-12-07T12:53:33.492603",
   "environment_variables": {},
   "exception": null,
   "input_path": "__notebook__.ipynb",
   "output_path": "__notebook__.ipynb",
   "parameters": {},
   "start_time": "2022-12-07T12:45:57.012228",
   "version": "2.3.4"
  }
 },
 "nbformat": 4,
 "nbformat_minor": 5
}
